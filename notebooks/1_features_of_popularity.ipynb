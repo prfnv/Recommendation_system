{
 "cells": [
  {
   "cell_type": "markdown",
   "metadata": {},
   "source": [
    "В данном ноутбуке создаются простые признаки на основе популярности."
   ]
  },
  {
   "cell_type": "code",
   "execution_count": 1,
   "metadata": {
    "ExecuteTime": {
     "end_time": "2021-03-03T13:04:31.105866Z",
     "start_time": "2021-03-03T13:04:31.037385Z"
    }
   },
   "outputs": [],
   "source": [
    "%load_ext autoreload\n",
    "%autoreload 2"
   ]
  },
  {
   "cell_type": "code",
   "execution_count": 2,
   "metadata": {
    "ExecuteTime": {
     "end_time": "2021-03-03T13:04:31.154845Z",
     "start_time": "2021-03-03T13:04:31.110863Z"
    }
   },
   "outputs": [],
   "source": [
    "import sys\n",
    "sys.path.append('../src/')"
   ]
  },
  {
   "cell_type": "code",
   "execution_count": 3,
   "metadata": {
    "ExecuteTime": {
     "end_time": "2021-03-03T13:04:32.188256Z",
     "start_time": "2021-03-03T13:04:31.247792Z"
    },
    "colab": {},
    "colab_type": "code",
    "id": "ha4eievFsneD"
   },
   "outputs": [],
   "source": [
    "import numpy as np\n",
    "import popularity\n",
    "import datetime as dt\n",
    "import pandas as pd; pd.set_option('display.max_columns', None)\n",
    "pd.options.mode.chained_assignment = None"
   ]
  },
  {
   "cell_type": "code",
   "execution_count": 4,
   "metadata": {
    "ExecuteTime": {
     "end_time": "2021-03-03T13:04:32.256192Z",
     "start_time": "2021-03-03T13:04:32.191208Z"
    },
    "colab": {
     "base_uri": "https://localhost:8080/",
     "height": 34
    },
    "colab_type": "code",
    "executionInfo": {
     "elapsed": 3709,
     "status": "ok",
     "timestamp": 1579469501047,
     "user": {
      "displayName": "Павел Парфенов",
      "photoUrl": "",
      "userId": "00456899921274964308"
     },
     "user_tz": -180
    },
    "id": "Sm2UF34GsyYm",
    "outputId": "453a1388-3ece-4397-b209-5af6e5a41e68"
   },
   "outputs": [],
   "source": [
    "# from google.colab import drive\n",
    "# drive.mount('/content/gdrive')"
   ]
  },
  {
   "cell_type": "markdown",
   "metadata": {
    "colab_type": "text",
    "id": "emR0_KwysneG"
   },
   "source": [
    "### Считывание и предобработка данных"
   ]
  },
  {
   "cell_type": "code",
   "execution_count": 5,
   "metadata": {
    "ExecuteTime": {
     "end_time": "2021-03-03T13:05:47.211982Z",
     "start_time": "2021-03-03T13:04:32.898885Z"
    },
    "colab": {
     "base_uri": "https://localhost:8080/",
     "height": 204
    },
    "colab_type": "code",
    "executionInfo": {
     "elapsed": 55355,
     "status": "ok",
     "timestamp": 1579469560044,
     "user": {
      "displayName": "Павел Парфенов",
      "photoUrl": "",
      "userId": "00456899921274964308"
     },
     "user_tz": -180
    },
    "id": "zWLTxVDKsneH",
    "outputId": "6e5028ea-fc02-4ab3-a0db-382c322eb4c3"
   },
   "outputs": [
    {
     "name": "stdout",
     "output_type": "stream",
     "text": [
      "(57585220, 4)\n"
     ]
    },
    {
     "data": {
      "text/html": [
       "<div>\n",
       "<style scoped>\n",
       "    .dataframe tbody tr th:only-of-type {\n",
       "        vertical-align: middle;\n",
       "    }\n",
       "\n",
       "    .dataframe tbody tr th {\n",
       "        vertical-align: top;\n",
       "    }\n",
       "\n",
       "    .dataframe thead th {\n",
       "        text-align: right;\n",
       "    }\n",
       "</style>\n",
       "<table border=\"1\" class=\"dataframe\">\n",
       "  <thead>\n",
       "    <tr style=\"text-align: right;\">\n",
       "      <th></th>\n",
       "      <th>clientid</th>\n",
       "      <th>itemid</th>\n",
       "      <th>action_type</th>\n",
       "      <th>timestamp</th>\n",
       "    </tr>\n",
       "  </thead>\n",
       "  <tbody>\n",
       "    <tr>\n",
       "      <th>0</th>\n",
       "      <td>179153</td>\n",
       "      <td>135391270</td>\n",
       "      <td>False</td>\n",
       "      <td>737277</td>\n",
       "    </tr>\n",
       "    <tr>\n",
       "      <th>1</th>\n",
       "      <td>179153</td>\n",
       "      <td>135391272</td>\n",
       "      <td>False</td>\n",
       "      <td>737277</td>\n",
       "    </tr>\n",
       "    <tr>\n",
       "      <th>2</th>\n",
       "      <td>179153</td>\n",
       "      <td>135391270</td>\n",
       "      <td>False</td>\n",
       "      <td>737279</td>\n",
       "    </tr>\n",
       "    <tr>\n",
       "      <th>3</th>\n",
       "      <td>179153</td>\n",
       "      <td>142132354</td>\n",
       "      <td>False</td>\n",
       "      <td>737291</td>\n",
       "    </tr>\n",
       "    <tr>\n",
       "      <th>4</th>\n",
       "      <td>179153</td>\n",
       "      <td>140487634</td>\n",
       "      <td>False</td>\n",
       "      <td>737294</td>\n",
       "    </tr>\n",
       "  </tbody>\n",
       "</table>\n",
       "</div>"
      ],
      "text/plain": [
       "   clientid     itemid  action_type  timestamp\n",
       "0    179153  135391270        False     737277\n",
       "1    179153  135391272        False     737277\n",
       "2    179153  135391270        False     737279\n",
       "3    179153  142132354        False     737291\n",
       "4    179153  140487634        False     737294"
      ]
     },
     "execution_count": 5,
     "metadata": {},
     "output_type": "execute_result"
    }
   ],
   "source": [
    "user_actions = pd.read_parquet('../data/user_actions_august.parquet')\n",
    "\n",
    "user_actions['clientid'] = user_actions['clientid'].astype('uint32')\n",
    "user_actions['itemid'] = user_actions['itemid'].astype('uint32')\n",
    "user_actions['action_type'] = user_actions['action_type'].map({'view': 0, 'to_cart': 1}).astype('bool')\n",
    "user_actions['timestamp'] = user_actions['timestamp'].dt.date.apply(dt.datetime.toordinal).astype('uint32')\n",
    "\n",
    "print(user_actions.shape)\n",
    "user_actions.head()"
   ]
  },
  {
   "cell_type": "code",
   "execution_count": 6,
   "metadata": {
    "ExecuteTime": {
     "end_time": "2021-03-03T13:05:48.847889Z",
     "start_time": "2021-03-03T13:05:47.217958Z"
    },
    "colab": {
     "base_uri": "https://localhost:8080/",
     "height": 187
    },
    "colab_type": "code",
    "executionInfo": {
     "elapsed": 53844,
     "status": "ok",
     "timestamp": 1579469562323,
     "user": {
      "displayName": "Павел Парфенов",
      "photoUrl": "",
      "userId": "00456899921274964308"
     },
     "user_tz": -180
    },
    "id": "xsPQ34uGsneW",
    "outputId": "dc13d83b-3ae8-4b10-d88e-0a221ac75ea2",
    "scrolled": true
   },
   "outputs": [
    {
     "name": "stdout",
     "output_type": "stream",
     "text": [
      "(1390438, 5)\n"
     ]
    }
   ],
   "source": [
    "train_target = pd.read_csv(\"../data/target_train.csv\")\n",
    "\n",
    "train_target['clientid'] = train_target['clientid'].astype('uint32')\n",
    "train_target['itemid'] = train_target['itemid'].astype('uint32')\n",
    "train_target['jointitemid'] = train_target['jointitemid'].astype('uint32')\n",
    "train_target['label'] = train_target['label'].astype('int8')\n",
    "\n",
    "print(train_target.shape)"
   ]
  },
  {
   "cell_type": "code",
   "execution_count": 7,
   "metadata": {
    "ExecuteTime": {
     "end_time": "2021-03-03T13:05:49.582467Z",
     "start_time": "2021-03-03T13:05:48.850887Z"
    },
    "colab": {
     "base_uri": "https://localhost:8080/",
     "height": 187
    },
    "colab_type": "code",
    "executionInfo": {
     "elapsed": 54502,
     "status": "ok",
     "timestamp": 1579469562322,
     "user": {
      "displayName": "Павел Парфенов",
      "photoUrl": "",
      "userId": "00456899921274964308"
     },
     "user_tz": -180
    },
    "id": "Ll3eU4fMsneU",
    "outputId": "2394f47b-8e94-492e-f0df-2fda389b6ad3",
    "scrolled": true
   },
   "outputs": [
    {
     "name": "stdout",
     "output_type": "stream",
     "text": [
      "(597158, 5)\n"
     ]
    }
   ],
   "source": [
    "test_target = pd.read_csv(\"../data/target_test.csv\")\n",
    "\n",
    "test_target['clientid'] = test_target['clientid'].astype('uint32')\n",
    "test_target['itemid'] = test_target['itemid'].astype('uint32')\n",
    "test_target['jointitemid'] = test_target['jointitemid'].astype('uint32')\n",
    "test_target['label'] = test_target['label'].astype('int8')\n",
    "\n",
    "print(test_target.shape)"
   ]
  },
  {
   "cell_type": "markdown",
   "metadata": {
    "colab_type": "text",
    "id": "PafnVEvtsneZ"
   },
   "source": [
    "### Генерация признаков"
   ]
  },
  {
   "cell_type": "code",
   "execution_count": 8,
   "metadata": {
    "ExecuteTime": {
     "end_time": "2021-03-03T13:15:38.008189Z",
     "start_time": "2021-03-03T13:15:37.901229Z"
    },
    "colab": {},
    "colab_type": "code",
    "id": "pKHXULVqsnea"
   },
   "outputs": [],
   "source": [
    "def generate_features(user_actions: pd.DataFrame,\n",
    "                      target: pd.DataFrame) -> pd.DataFrame:\n",
    "    '''\n",
    "    Функция генерации признаков.\n",
    "    \n",
    "    Args:\n",
    "        data_action: Датафрейм с данными за август.\n",
    "        target: Датафрейм содержащий таргет.\n",
    "    '''\n",
    "    \n",
    "    res = popularity.popularity(user_actions, target, 'view')\n",
    "    res = popularity.popularity(user_actions, res, 'to_cart')\n",
    "    res = popularity.ctr(user_actions, res)\n",
    "    res = popularity.date_first_view(user_actions, res)\n",
    "    res = popularity.mean_amount_per_day(user_actions, res, 'view')\n",
    "    res = popularity.mean_amount_per_day(user_actions, res, 'to_cart')\n",
    "    res = popularity.views_last_day(user_actions, res)\n",
    "    res = popularity.cart_add_last_day(user_actions, res)\n",
    "    res = popularity.relations(res)\n",
    "    \n",
    "    return res"
   ]
  },
  {
   "cell_type": "code",
   "execution_count": 9,
   "metadata": {
    "ExecuteTime": {
     "end_time": "2021-03-03T13:17:30.604648Z",
     "start_time": "2021-03-03T13:15:40.388860Z"
    },
    "colab": {},
    "colab_type": "code",
    "id": "1R1lkPr9sneg",
    "scrolled": true
   },
   "outputs": [
    {
     "name": "stdout",
     "output_type": "stream",
     "text": [
      "(1390438, 15)\n"
     ]
    },
    {
     "data": {
      "text/html": [
       "<div>\n",
       "<style scoped>\n",
       "    .dataframe tbody tr th:only-of-type {\n",
       "        vertical-align: middle;\n",
       "    }\n",
       "\n",
       "    .dataframe tbody tr th {\n",
       "        vertical-align: top;\n",
       "    }\n",
       "\n",
       "    .dataframe thead th {\n",
       "        text-align: right;\n",
       "    }\n",
       "</style>\n",
       "<table border=\"1\" class=\"dataframe\">\n",
       "  <thead>\n",
       "    <tr style=\"text-align: right;\">\n",
       "      <th></th>\n",
       "      <th>clientid</th>\n",
       "      <th>itemid</th>\n",
       "      <th>jointitemid</th>\n",
       "      <th>label</th>\n",
       "      <th>timestamp</th>\n",
       "      <th>view_cnt</th>\n",
       "      <th>to_cart_cnt</th>\n",
       "      <th>ctr</th>\n",
       "      <th>novelty_cnt</th>\n",
       "      <th>mean_amount_per_day_view</th>\n",
       "      <th>mean_amount_per_day_to_cart</th>\n",
       "      <th>last_day_views_cnt</th>\n",
       "      <th>last_day_to_cart_cnt</th>\n",
       "      <th>relation_ldv_mean</th>\n",
       "      <th>relation_ldtocart_mean</th>\n",
       "    </tr>\n",
       "  </thead>\n",
       "  <tbody>\n",
       "    <tr>\n",
       "      <th>0</th>\n",
       "      <td>7833842</td>\n",
       "      <td>31499843</td>\n",
       "      <td>138176581</td>\n",
       "      <td>1</td>\n",
       "      <td>2019-09-07 20:11:01</td>\n",
       "      <td>31.0</td>\n",
       "      <td>9.0</td>\n",
       "      <td>0.28125</td>\n",
       "      <td>737272.0</td>\n",
       "      <td>1.722222</td>\n",
       "      <td>1.500</td>\n",
       "      <td>0.0</td>\n",
       "      <td>0.0</td>\n",
       "      <td>0.0</td>\n",
       "      <td>0.0</td>\n",
       "    </tr>\n",
       "    <tr>\n",
       "      <th>1</th>\n",
       "      <td>19548158</td>\n",
       "      <td>147389610</td>\n",
       "      <td>148381589</td>\n",
       "      <td>0</td>\n",
       "      <td>2019-08-31 22:32:31</td>\n",
       "      <td>24.0</td>\n",
       "      <td>9.0</td>\n",
       "      <td>0.36000</td>\n",
       "      <td>737272.0</td>\n",
       "      <td>1.600000</td>\n",
       "      <td>1.125</td>\n",
       "      <td>0.0</td>\n",
       "      <td>0.0</td>\n",
       "      <td>0.0</td>\n",
       "      <td>0.0</td>\n",
       "    </tr>\n",
       "  </tbody>\n",
       "</table>\n",
       "</div>"
      ],
      "text/plain": [
       "   clientid     itemid  jointitemid  label            timestamp  view_cnt  \\\n",
       "0   7833842   31499843    138176581      1  2019-09-07 20:11:01      31.0   \n",
       "1  19548158  147389610    148381589      0  2019-08-31 22:32:31      24.0   \n",
       "\n",
       "   to_cart_cnt      ctr  novelty_cnt  mean_amount_per_day_view  \\\n",
       "0          9.0  0.28125     737272.0                  1.722222   \n",
       "1          9.0  0.36000     737272.0                  1.600000   \n",
       "\n",
       "   mean_amount_per_day_to_cart  last_day_views_cnt  last_day_to_cart_cnt  \\\n",
       "0                        1.500                 0.0                   0.0   \n",
       "1                        1.125                 0.0                   0.0   \n",
       "\n",
       "   relation_ldv_mean  relation_ldtocart_mean  \n",
       "0                0.0                     0.0  \n",
       "1                0.0                     0.0  "
      ]
     },
     "execution_count": 9,
     "metadata": {},
     "output_type": "execute_result"
    }
   ],
   "source": [
    "train = generate_features(user_actions, train_target)\n",
    "print(train.shape)\n",
    "train.head(2)"
   ]
  },
  {
   "cell_type": "code",
   "execution_count": 10,
   "metadata": {
    "ExecuteTime": {
     "end_time": "2021-03-03T13:21:30.369821Z",
     "start_time": "2021-03-03T13:19:45.770627Z"
    },
    "colab": {},
    "colab_type": "code",
    "id": "QtpCLh_xsnej",
    "scrolled": true
   },
   "outputs": [
    {
     "name": "stdout",
     "output_type": "stream",
     "text": [
      "(597158, 15)\n"
     ]
    },
    {
     "data": {
      "text/html": [
       "<div>\n",
       "<style scoped>\n",
       "    .dataframe tbody tr th:only-of-type {\n",
       "        vertical-align: middle;\n",
       "    }\n",
       "\n",
       "    .dataframe tbody tr th {\n",
       "        vertical-align: top;\n",
       "    }\n",
       "\n",
       "    .dataframe thead th {\n",
       "        text-align: right;\n",
       "    }\n",
       "</style>\n",
       "<table border=\"1\" class=\"dataframe\">\n",
       "  <thead>\n",
       "    <tr style=\"text-align: right;\">\n",
       "      <th></th>\n",
       "      <th>clientid</th>\n",
       "      <th>itemid</th>\n",
       "      <th>jointitemid</th>\n",
       "      <th>label</th>\n",
       "      <th>timestamp</th>\n",
       "      <th>view_cnt</th>\n",
       "      <th>to_cart_cnt</th>\n",
       "      <th>ctr</th>\n",
       "      <th>novelty_cnt</th>\n",
       "      <th>mean_amount_per_day_view</th>\n",
       "      <th>mean_amount_per_day_to_cart</th>\n",
       "      <th>last_day_views_cnt</th>\n",
       "      <th>last_day_to_cart_cnt</th>\n",
       "      <th>relation_ldv_mean</th>\n",
       "      <th>relation_ldtocart_mean</th>\n",
       "    </tr>\n",
       "  </thead>\n",
       "  <tbody>\n",
       "    <tr>\n",
       "      <th>0</th>\n",
       "      <td>8081929</td>\n",
       "      <td>152898248</td>\n",
       "      <td>152875664</td>\n",
       "      <td>0</td>\n",
       "      <td>2019-09-06 18:57:23</td>\n",
       "      <td>10.0</td>\n",
       "      <td>2.0</td>\n",
       "      <td>0.181818</td>\n",
       "      <td>737276.0</td>\n",
       "      <td>2.000000</td>\n",
       "      <td>1.000000</td>\n",
       "      <td>0.0</td>\n",
       "      <td>0.0</td>\n",
       "      <td>0.000000</td>\n",
       "      <td>0.000000</td>\n",
       "    </tr>\n",
       "    <tr>\n",
       "      <th>1</th>\n",
       "      <td>33378638</td>\n",
       "      <td>144847078</td>\n",
       "      <td>140715321</td>\n",
       "      <td>0</td>\n",
       "      <td>2019-09-02 07:09:31</td>\n",
       "      <td>211.0</td>\n",
       "      <td>19.0</td>\n",
       "      <td>0.089623</td>\n",
       "      <td>737272.0</td>\n",
       "      <td>7.814815</td>\n",
       "      <td>1.727273</td>\n",
       "      <td>11.0</td>\n",
       "      <td>1.0</td>\n",
       "      <td>1.407583</td>\n",
       "      <td>0.578947</td>\n",
       "    </tr>\n",
       "  </tbody>\n",
       "</table>\n",
       "</div>"
      ],
      "text/plain": [
       "   clientid     itemid  jointitemid  label            timestamp  view_cnt  \\\n",
       "0   8081929  152898248    152875664      0  2019-09-06 18:57:23      10.0   \n",
       "1  33378638  144847078    140715321      0  2019-09-02 07:09:31     211.0   \n",
       "\n",
       "   to_cart_cnt       ctr  novelty_cnt  mean_amount_per_day_view  \\\n",
       "0          2.0  0.181818     737276.0                  2.000000   \n",
       "1         19.0  0.089623     737272.0                  7.814815   \n",
       "\n",
       "   mean_amount_per_day_to_cart  last_day_views_cnt  last_day_to_cart_cnt  \\\n",
       "0                     1.000000                 0.0                   0.0   \n",
       "1                     1.727273                11.0                   1.0   \n",
       "\n",
       "   relation_ldv_mean  relation_ldtocart_mean  \n",
       "0           0.000000                0.000000  \n",
       "1           1.407583                0.578947  "
      ]
     },
     "execution_count": 10,
     "metadata": {},
     "output_type": "execute_result"
    }
   ],
   "source": [
    "test = generate_features(user_actions, test_target)\n",
    "print(test.shape)\n",
    "test.head(2)"
   ]
  },
  {
   "cell_type": "markdown",
   "metadata": {
    "colab_type": "text",
    "id": "LnKcdoUusnel"
   },
   "source": [
    "### МНК"
   ]
  },
  {
   "cell_type": "code",
   "execution_count": 11,
   "metadata": {
    "ExecuteTime": {
     "end_time": "2021-03-03T13:23:58.032262Z",
     "start_time": "2021-03-03T13:23:09.287795Z"
    },
    "colab": {},
    "colab_type": "code",
    "id": "Vdw8Ulrdqc22",
    "outputId": "de426bcd-a7c0-46d6-897c-a51546f983f1",
    "scrolled": true
   },
   "outputs": [],
   "source": [
    "item_day_view = popularity.daily_views_to_cart(user_actions, 'view')\n",
    "item_day_to_cart = popularity.daily_views_to_cart(user_actions, 'to_cart')"
   ]
  },
  {
   "cell_type": "code",
   "execution_count": 12,
   "metadata": {
    "ExecuteTime": {
     "end_time": "2021-03-03T13:39:23.949400Z",
     "start_time": "2021-03-03T13:23:58.035261Z"
    },
    "colab": {},
    "colab_type": "code",
    "id": "nakJYOfiqc3G",
    "outputId": "ae8a1007-d786-4efb-9834-c1c61ccc234f"
   },
   "outputs": [],
   "source": [
    "mnk_view = popularity.mnk_coef(item_day_view, 'view')\n",
    "mnk_to_cart = popularity.mnk_coef(item_day_to_cart, 'to_cart')"
   ]
  },
  {
   "cell_type": "code",
   "execution_count": 15,
   "metadata": {
    "ExecuteTime": {
     "end_time": "2021-03-03T13:42:08.263836Z",
     "start_time": "2021-03-03T13:41:58.816267Z"
    }
   },
   "outputs": [
    {
     "name": "stdout",
     "output_type": "stream",
     "text": [
      "(1390438, 15)\n",
      "(1390438, 17)\n"
     ]
    }
   ],
   "source": [
    "print(train.shape)\n",
    "train = (\n",
    "    train\n",
    "    .merge(mnk_view.rename({'itemid': 'jointitemid'}, axis=1),\n",
    "           on='jointitemid', how='left')\n",
    "    .drop_duplicates()\n",
    "    .reset_index(drop=True)\n",
    ")\n",
    "\n",
    "train = (\n",
    "    train\n",
    "    .merge(mnk_to_cart.rename({'itemid': 'jointitemid'}, axis=1),\n",
    "           on='jointitemid', how='left')\n",
    "    .drop_duplicates()\n",
    "    .reset_index(drop=True)\n",
    ")\n",
    "\n",
    "train = train.fillna(0)\n",
    "print(train.shape)"
   ]
  },
  {
   "cell_type": "code",
   "execution_count": 16,
   "metadata": {
    "ExecuteTime": {
     "end_time": "2021-03-03T13:43:36.645661Z",
     "start_time": "2021-03-03T13:43:31.938364Z"
    },
    "colab": {},
    "colab_type": "code",
    "id": "Hl3hEXQbsnez",
    "scrolled": true
   },
   "outputs": [
    {
     "name": "stdout",
     "output_type": "stream",
     "text": [
      "(597158, 15)\n",
      "(597158, 17)\n"
     ]
    }
   ],
   "source": [
    "print(test.shape)\n",
    "test = (\n",
    "    test\n",
    "    .merge(mnk_view.rename({'itemid': 'jointitemid'}, axis=1),\n",
    "           on='jointitemid', how='left')\n",
    "    .drop_duplicates()\n",
    "    .reset_index(drop=True)\n",
    ")\n",
    "\n",
    "test = (\n",
    "    test\n",
    "    .merge(mnk_to_cart.rename({'itemid': 'jointitemid'}, axis=1),\n",
    "           on='jointitemid', how='left')\n",
    "    .drop_duplicates()\n",
    "    .reset_index(drop=True)\n",
    ")\n",
    "\n",
    "test = test.fillna(0)\n",
    "print(test.shape)"
   ]
  },
  {
   "cell_type": "markdown",
   "metadata": {
    "colab_type": "text",
    "id": "UTbhrsEFsne5"
   },
   "source": [
    "### Сохраняем признаки"
   ]
  },
  {
   "cell_type": "code",
   "execution_count": 21,
   "metadata": {
    "ExecuteTime": {
     "end_time": "2021-03-03T13:45:21.798995Z",
     "start_time": "2021-03-03T13:44:41.763532Z"
    },
    "colab": {},
    "colab_type": "code",
    "id": "LqFYqfaTsne6"
   },
   "outputs": [],
   "source": [
    "train.to_csv('../data/train_with_features.csv', index=False)\n",
    "test.to_csv('../data/test_with_features.csv', index=False)"
   ]
  }
 ],
 "metadata": {
  "colab": {
   "collapsed_sections": [],
   "name": "made_features.ipynb",
   "provenance": []
  },
  "kernelspec": {
   "display_name": "Python 3",
   "language": "python",
   "name": "python3"
  },
  "language_info": {
   "codemirror_mode": {
    "name": "ipython",
    "version": 3
   },
   "file_extension": ".py",
   "mimetype": "text/x-python",
   "name": "python",
   "nbconvert_exporter": "python",
   "pygments_lexer": "ipython3",
   "version": "3.7.6"
  }
 },
 "nbformat": 4,
 "nbformat_minor": 1
}
