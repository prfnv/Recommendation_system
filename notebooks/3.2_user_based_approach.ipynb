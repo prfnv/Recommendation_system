{
 "cells": [
  {
   "cell_type": "markdown",
   "metadata": {},
   "source": [
    "В данном ноутбуке реализовывается item_based подход"
   ]
  },
  {
   "cell_type": "code",
   "execution_count": 1,
   "metadata": {
    "ExecuteTime": {
     "end_time": "2021-02-14T18:29:27.101523Z",
     "start_time": "2021-02-14T18:29:27.029561Z"
    }
   },
   "outputs": [],
   "source": [
    "%load_ext autoreload\n",
    "%autoreload 2"
   ]
  },
  {
   "cell_type": "code",
   "execution_count": 2,
   "metadata": {
    "ExecuteTime": {
     "end_time": "2021-02-14T18:29:34.187923Z",
     "start_time": "2021-02-14T18:29:34.140950Z"
    }
   },
   "outputs": [],
   "source": [
    "import sys\n",
    "sys.path.append('../src/')"
   ]
  },
  {
   "cell_type": "code",
   "execution_count": 3,
   "metadata": {
    "ExecuteTime": {
     "end_time": "2021-02-14T18:32:23.010677Z",
     "start_time": "2021-02-14T18:32:20.679765Z"
    },
    "colab": {
     "base_uri": "https://localhost:8080/",
     "height": 258
    },
    "colab_type": "code",
    "executionInfo": {
     "elapsed": 88659,
     "status": "ok",
     "timestamp": 1573478534820,
     "user": {
      "displayName": "Алена Тимофеева",
      "photoUrl": "",
      "userId": "17526456028262676023"
     },
     "user_tz": -180
    },
    "id": "VK8XDbBJ8SjJ",
    "outputId": "78ece3ce-660f-40bf-fa32-a8949c66cdc2"
   },
   "outputs": [],
   "source": [
    "import numpy as np\n",
    "import scipy.sparse as sp\n",
    "from sklearn.preprocessing import normalize\n",
    "from reindexing import reindexing_clientid_itemid\n",
    "import pandas as pd; pd.set_option('display.max_columns', None)\n",
    "from implicit._nearest_neighbours import all_pairs_knn\n",
    "pd.options.mode.chained_assignment = None"
   ]
  },
  {
   "cell_type": "code",
   "execution_count": 4,
   "metadata": {
    "ExecuteTime": {
     "end_time": "2021-02-14T18:32:23.397388Z",
     "start_time": "2021-02-14T18:32:23.309439Z"
    },
    "colab": {
     "base_uri": "https://localhost:8080/",
     "height": 122
    },
    "colab_type": "code",
    "executionInfo": {
     "elapsed": 17823,
     "status": "ok",
     "timestamp": 1573478592894,
     "user": {
      "displayName": "Алена Тимофеева",
      "photoUrl": "",
      "userId": "17526456028262676023"
     },
     "user_tz": -180
    },
    "id": "wbDoCWox8dCk",
    "outputId": "0a035a07-82f8-4c12-c045-3cabac56274c"
   },
   "outputs": [],
   "source": [
    "# from google.colab import drive\n",
    "# drive.mount('/content/gdrive')"
   ]
  },
  {
   "cell_type": "markdown",
   "metadata": {},
   "source": [
    "### Считывание и предобработка данных"
   ]
  },
  {
   "cell_type": "code",
   "execution_count": 5,
   "metadata": {
    "ExecuteTime": {
     "end_time": "2021-02-14T18:33:25.991284Z",
     "start_time": "2021-02-14T18:33:11.032964Z"
    },
    "colab": {
     "base_uri": "https://localhost:8080/",
     "height": 204
    },
    "colab_type": "code",
    "executionInfo": {
     "elapsed": 24317,
     "status": "ok",
     "timestamp": 1573478620472,
     "user": {
      "displayName": "Алена Тимофеева",
      "photoUrl": "",
      "userId": "17526456028262676023"
     },
     "user_tz": -180
    },
    "id": "zoMoD7qB8SjS",
    "outputId": "f023c223-2b3e-45f1-89af-78594556df29"
   },
   "outputs": [
    {
     "name": "stdout",
     "output_type": "stream",
     "text": [
      "(57585220, 4)\n"
     ]
    },
    {
     "data": {
      "text/html": [
       "<div>\n",
       "<style scoped>\n",
       "    .dataframe tbody tr th:only-of-type {\n",
       "        vertical-align: middle;\n",
       "    }\n",
       "\n",
       "    .dataframe tbody tr th {\n",
       "        vertical-align: top;\n",
       "    }\n",
       "\n",
       "    .dataframe thead th {\n",
       "        text-align: right;\n",
       "    }\n",
       "</style>\n",
       "<table border=\"1\" class=\"dataframe\">\n",
       "  <thead>\n",
       "    <tr style=\"text-align: right;\">\n",
       "      <th></th>\n",
       "      <th>clientid</th>\n",
       "      <th>itemid</th>\n",
       "      <th>action_type</th>\n",
       "      <th>timestamp</th>\n",
       "    </tr>\n",
       "  </thead>\n",
       "  <tbody>\n",
       "    <tr>\n",
       "      <th>0</th>\n",
       "      <td>179153</td>\n",
       "      <td>135391270</td>\n",
       "      <td>False</td>\n",
       "      <td>2019-08-06 15:14:45</td>\n",
       "    </tr>\n",
       "    <tr>\n",
       "      <th>1</th>\n",
       "      <td>179153</td>\n",
       "      <td>135391272</td>\n",
       "      <td>False</td>\n",
       "      <td>2019-08-06 15:16:29</td>\n",
       "    </tr>\n",
       "    <tr>\n",
       "      <th>2</th>\n",
       "      <td>179153</td>\n",
       "      <td>135391270</td>\n",
       "      <td>False</td>\n",
       "      <td>2019-08-08 09:07:29</td>\n",
       "    </tr>\n",
       "    <tr>\n",
       "      <th>3</th>\n",
       "      <td>179153</td>\n",
       "      <td>142132354</td>\n",
       "      <td>False</td>\n",
       "      <td>2019-08-20 17:59:58</td>\n",
       "    </tr>\n",
       "    <tr>\n",
       "      <th>4</th>\n",
       "      <td>179153</td>\n",
       "      <td>140487634</td>\n",
       "      <td>False</td>\n",
       "      <td>2019-08-23 16:46:39</td>\n",
       "    </tr>\n",
       "  </tbody>\n",
       "</table>\n",
       "</div>"
      ],
      "text/plain": [
       "   clientid     itemid  action_type           timestamp\n",
       "0    179153  135391270        False 2019-08-06 15:14:45\n",
       "1    179153  135391272        False 2019-08-06 15:16:29\n",
       "2    179153  135391270        False 2019-08-08 09:07:29\n",
       "3    179153  142132354        False 2019-08-20 17:59:58\n",
       "4    179153  140487634        False 2019-08-23 16:46:39"
      ]
     },
     "execution_count": 5,
     "metadata": {},
     "output_type": "execute_result"
    }
   ],
   "source": [
    "user_actions = pd.read_parquet('../data/user_actions_august.parquet')\n",
    "\n",
    "user_actions['clientid'] = user_actions['clientid'].astype('uint32')\n",
    "user_actions['itemid'] = user_actions['itemid'].astype('uint32')\n",
    "user_actions['action_type'] = user_actions['action_type'].map({'view': 0, 'to_cart': 1}).astype('bool')\n",
    "\n",
    "print(user_actions.shape)\n",
    "user_actions.head()"
   ]
  },
  {
   "cell_type": "code",
   "execution_count": 8,
   "metadata": {
    "ExecuteTime": {
     "end_time": "2021-02-14T18:38:57.324142Z",
     "start_time": "2021-02-14T18:38:51.491486Z"
    }
   },
   "outputs": [
    {
     "data": {
      "text/plain": [
       "(1390438, 23)"
      ]
     },
     "execution_count": 8,
     "metadata": {},
     "output_type": "execute_result"
    }
   ],
   "source": [
    "train_target = pd.read_csv('../data/train_with_features.csv')\n",
    "\n",
    "train_target['clientid'] = train_target['clientid'].astype('uint32')\n",
    "train_target['jointitemid'] = train_target['jointitemid'].astype('uint32')\n",
    "train_target['label'] = train_target['label'].astype('int8')\n",
    "train_target['novelty_cnt'] = train_target['novelty_cnt'].astype('int32')\n",
    "train_target['count_on_session_view'] = train_target['count_on_session_view'].astype('int32')\n",
    "train_target['count_on_session_tocart'] = train_target['count_on_session_tocart'].astype('int32')\n",
    "\n",
    "train_target.shape"
   ]
  },
  {
   "cell_type": "code",
   "execution_count": 9,
   "metadata": {
    "ExecuteTime": {
     "end_time": "2021-02-14T18:39:06.184091Z",
     "start_time": "2021-02-14T18:39:03.186048Z"
    }
   },
   "outputs": [
    {
     "data": {
      "text/plain": [
       "(597158, 23)"
      ]
     },
     "execution_count": 9,
     "metadata": {},
     "output_type": "execute_result"
    }
   ],
   "source": [
    "test_target = pd.read_csv('../data/test_with_features.csv')\n",
    "\n",
    "test_target ['clientid'] = test_target ['clientid'].astype('uint32')\n",
    "test_target ['jointitemid'] = test_target ['jointitemid'].astype('uint32')\n",
    "test_target ['label'] = test_target ['label'].astype('int8')\n",
    "test_target ['novelty_cnt'] = test_target ['novelty_cnt'].astype('int32')\n",
    "test_target ['count_on_session_view'] = test_target['count_on_session_view'].astype('int32')\n",
    "test_target ['count_on_session_tocart'] = test_target ['count_on_session_tocart'].astype('int32')\n",
    "\n",
    "test_target.shape"
   ]
  },
  {
   "cell_type": "markdown",
   "metadata": {},
   "source": [
    "Возвращаем три датафрейма с новой индексацией для просмотров товара."
   ]
  },
  {
   "cell_type": "code",
   "execution_count": 6,
   "metadata": {
    "ExecuteTime": {
     "end_time": "2021-02-14T18:37:39.491180Z",
     "start_time": "2021-02-14T18:37:24.087393Z"
    },
    "colab": {
     "base_uri": "https://localhost:8080/",
     "height": 204
    },
    "colab_type": "code",
    "executionInfo": {
     "elapsed": 9295,
     "status": "ok",
     "timestamp": 1573478634135,
     "user": {
      "displayName": "Алена Тимофеева",
      "photoUrl": "",
      "userId": "17526456028262676023"
     },
     "user_tz": -180
    },
    "id": "vacNOjHzi_h0",
    "outputId": "a4e405a0-035c-4b53-d4fa-f4472af3f391"
   },
   "outputs": [],
   "source": [
    "user_actions_view = (\n",
    "    user_actions[~user_actions['action_type']]\n",
    "    .reset_index(drop=True)\n",
    "    .drop(['timestamp', 'action_type'], axis=1)\n",
    ")\n",
    "\n",
    "user_actions_view, user_mapping, item_mapping = reindexing_clientid_itemid(user_actions_view)"
   ]
  },
  {
   "cell_type": "markdown",
   "metadata": {},
   "source": [
    "Возвращаем три датафрейма с новой индексацией для добавления в корзину."
   ]
  },
  {
   "cell_type": "code",
   "execution_count": 7,
   "metadata": {
    "ExecuteTime": {
     "end_time": "2021-02-14T18:38:08.247620Z",
     "start_time": "2021-02-14T18:38:05.043384Z"
    },
    "colab": {
     "base_uri": "https://localhost:8080/",
     "height": 204
    },
    "colab_type": "code",
    "executionInfo": {
     "elapsed": 10934,
     "status": "ok",
     "timestamp": 1573478635787,
     "user": {
      "displayName": "Алена Тимофеева",
      "photoUrl": "",
      "userId": "17526456028262676023"
     },
     "user_tz": -180
    },
    "id": "VfR2-bd7dGV_",
    "outputId": "10f3b948-f828-4de4-e90f-e43d06c8d7c5"
   },
   "outputs": [],
   "source": [
    "user_actions_tocart = (\n",
    "    user_actions[user_actions['action_type']]\n",
    "    .reset_index(drop=True)\n",
    "    .drop(['timestamp', 'action_type'], axis=1)\n",
    ")\n",
    "\n",
    "user_actions_tocart, user_mapping_tocart, item_mapping_tocart = reindexing_clientid_itemid(user_actions_tocart)"
   ]
  },
  {
   "cell_type": "markdown",
   "metadata": {},
   "source": [
    "### Train"
   ]
  },
  {
   "cell_type": "code",
   "execution_count": 22,
   "metadata": {
    "ExecuteTime": {
     "end_time": "2021-02-14T19:10:19.519833Z",
     "start_time": "2021-02-14T19:10:18.347485Z"
    },
    "colab": {
     "base_uri": "https://localhost:8080/",
     "height": 187
    },
    "colab_type": "code",
    "executionInfo": {
     "elapsed": 6193,
     "status": "ok",
     "timestamp": 1573478689556,
     "user": {
      "displayName": "Алена Тимофеева",
      "photoUrl": "",
      "userId": "17526456028262676023"
     },
     "user_tz": -180
    },
    "id": "Q-oQC4v58Sja",
    "outputId": "57980f46-1e95-436e-d745-d0747fa7dbc1"
   },
   "outputs": [],
   "source": [
    "# по просмотрам\n",
    "ub_train_target_view = train_target[['clientid','itemid','jointitemid']].copy()\n",
    "ub_train_target_view['user_cat'] = (\n",
    "    ub_train_target_view['clientid']\n",
    "    .map(user_mapping.set_index('old')['new'])\n",
    ")\n",
    "ub_train_target_view['jointitem_cat'] = (\n",
    "    ub_train_target_view['jointitemid']\n",
    "    .map(item_mapping.set_index('old')['new'])\n",
    ")\n",
    "\n",
    "# по добавлениям в корзину\n",
    "ub_train_target_tocart = train_target[['clientid','itemid','jointitemid']].copy()\n",
    "ub_train_target_tocart['user_cat'] = (\n",
    "    ub_train_target_tocart['clientid']\n",
    "    .map(user_mapping_tocart.set_index('old')['new'])\n",
    ")\n",
    "ub_train_target_tocart['jointitem_cat'] = (\n",
    "    ub_train_target_tocart['jointitemid']\n",
    "    .map(item_mapping_tocart.set_index('old')['new'])\n",
    ")"
   ]
  },
  {
   "cell_type": "markdown",
   "metadata": {
    "colab_type": "text",
    "id": "KbncSx3rdlxE"
   },
   "source": [
    "### Test"
   ]
  },
  {
   "cell_type": "code",
   "execution_count": 23,
   "metadata": {
    "ExecuteTime": {
     "end_time": "2021-02-14T19:10:20.308364Z",
     "start_time": "2021-02-14T19:10:19.522811Z"
    },
    "colab": {
     "base_uri": "https://localhost:8080/",
     "height": 187
    },
    "colab_type": "code",
    "executionInfo": {
     "elapsed": 2959,
     "status": "ok",
     "timestamp": 1573478716180,
     "user": {
      "displayName": "Алена Тимофеева",
      "photoUrl": "",
      "userId": "17526456028262676023"
     },
     "user_tz": -180
    },
    "id": "iUU1Bf4Edi8k",
    "outputId": "291b8341-cc51-4946-ffaf-38cb7fb8baca"
   },
   "outputs": [],
   "source": [
    "# по просмотрам\n",
    "ub_test_target_view = test_target[['clientid','itemid','jointitemid']].copy()\n",
    "ub_test_target_view['user_cat'] = (\n",
    "    ub_test_target_view['clientid']\n",
    "    .map(user_mapping.set_index('old')['new'])\n",
    ")\n",
    "ub_test_target_view['jointitem_cat'] = (\n",
    "    ub_test_target_view['jointitemid']\n",
    "    .map(item_mapping.set_index('old')['new'])\n",
    ")\n",
    "\n",
    "# по добавлениям в корзину\n",
    "ub_test_target_tocart = test_target[['clientid','itemid','jointitemid']].copy()\n",
    "ub_test_target_tocart['user_cat'] = (\n",
    "    ub_test_target_tocart['clientid']\n",
    "    .map(user_mapping_tocart.set_index('old')['new'])\n",
    ")\n",
    "ub_test_target_tocart['jointitem_cat'] = (\n",
    "    ub_test_target_tocart['jointitemid']\n",
    "    .map(item_mapping_tocart.set_index('old')['new'])\n",
    ")"
   ]
  },
  {
   "cell_type": "markdown",
   "metadata": {
    "colab_type": "text",
    "id": "qUPut9zM7y1N"
   },
   "source": [
    "### Создание матриц для просмотров и добавлений в корзину"
   ]
  },
  {
   "cell_type": "code",
   "execution_count": 12,
   "metadata": {
    "ExecuteTime": {
     "end_time": "2021-02-14T18:58:26.048477Z",
     "start_time": "2021-02-14T18:46:36.048427Z"
    },
    "colab": {
     "base_uri": "https://localhost:8080/",
     "height": 34
    },
    "colab_type": "code",
    "executionInfo": {
     "elapsed": 367914,
     "status": "ok",
     "timestamp": 1573479090645,
     "user": {
      "displayName": "Алена Тимофеева",
      "photoUrl": "",
      "userId": "17526456028262676023"
     },
     "user_tz": -180
    },
    "id": "ZMPmrAIc78_q",
    "outputId": "cc3808a0-91cc-4744-87e6-e69c6b9dda67"
   },
   "outputs": [
    {
     "data": {
      "application/vnd.jupyter.widget-view+json": {
       "model_id": "f77b2d78a28048ce97a0e7ef59c4fd2a",
       "version_major": 2,
       "version_minor": 0
      },
      "text/plain": [
       "HBox(children=(FloatProgress(value=0.0, max=1052719.0), HTML(value='')))"
      ]
     },
     "metadata": {},
     "output_type": "display_data"
    },
    {
     "name": "stdout",
     "output_type": "stream",
     "text": [
      "\n"
     ]
    }
   ],
   "source": [
    "# Для просмотров\n",
    "shape_view = (\n",
    "    user_mapping['new'].max()+1,\n",
    "    item_mapping['new'].max()+1\n",
    ")\n",
    "\n",
    "user_item_view = sp.csr_matrix(arg1=(np.ones_like(user_actions_view['clientid'].values), \n",
    "                                    (user_actions_view['clientid'].values, user_actions_view['itemid'].values)), \n",
    "                               shape=shape_view)\n",
    "\n",
    "# all_pairs_knn расчитывает приближенную матрицу cхожестей (по N ближайшим соседям)\n",
    "N = 201\n",
    "user_similarity_matrix_view = all_pairs_knn(normalize(user_item_view, axis=1), \n",
    "                                            N, show_progress=True, num_threads=2).tocsr()"
   ]
  },
  {
   "cell_type": "code",
   "execution_count": 13,
   "metadata": {
    "ExecuteTime": {
     "end_time": "2021-02-14T18:58:31.613274Z",
     "start_time": "2021-02-14T18:58:26.051455Z"
    },
    "colab": {
     "base_uri": "https://localhost:8080/",
     "height": 71
    },
    "colab_type": "code",
    "executionInfo": {
     "elapsed": 3921,
     "status": "ok",
     "timestamp": 1573479134973,
     "user": {
      "displayName": "Алена Тимофеева",
      "photoUrl": "",
      "userId": "17526456028262676023"
     },
     "user_tz": -180
    },
    "id": "mUDZRUtI6UyF",
    "outputId": "8f05a7c7-95e0-4912-cd8b-ebdfcb35ae67"
   },
   "outputs": [
    {
     "name": "stderr",
     "output_type": "stream",
     "text": [
      "C:\\ProgramData\\Anaconda3\\lib\\site-packages\\scipy\\sparse\\_index.py:124: SparseEfficiencyWarning: Changing the sparsity structure of a csr_matrix is expensive. lil_matrix is more efficient.\n",
      "  self._set_arrayXarray(i, j, x)\n"
     ]
    },
    {
     "data": {
      "text/plain": [
       "(1052719, 1052719)"
      ]
     },
     "execution_count": 13,
     "metadata": {},
     "output_type": "execute_result"
    }
   ],
   "source": [
    "user_similarity_matrix_view.setdiag(0.)\n",
    "user_similarity_matrix_view.eliminate_zeros()\n",
    "\n",
    "user_similarity_matrix_view.shape"
   ]
  },
  {
   "cell_type": "code",
   "execution_count": 14,
   "metadata": {
    "ExecuteTime": {
     "end_time": "2021-02-14T18:59:35.167903Z",
     "start_time": "2021-02-14T18:58:31.617270Z"
    },
    "colab": {
     "base_uri": "https://localhost:8080/",
     "height": 34
    },
    "colab_type": "code",
    "executionInfo": {
     "elapsed": 42425,
     "status": "ok",
     "timestamp": 1573479184327,
     "user": {
      "displayName": "Алена Тимофеева",
      "photoUrl": "",
      "userId": "17526456028262676023"
     },
     "user_tz": -180
    },
    "id": "Tpg5kplqg5N1",
    "outputId": "27bb3ed8-6abf-468e-f08d-91e0cd3fbbde"
   },
   "outputs": [
    {
     "data": {
      "application/vnd.jupyter.widget-view+json": {
       "model_id": "a7b59c2540074e4f88fb942862bff0fb",
       "version_major": 2,
       "version_minor": 0
      },
      "text/plain": [
       "HBox(children=(FloatProgress(value=0.0, max=636764.0), HTML(value='')))"
      ]
     },
     "metadata": {},
     "output_type": "display_data"
    },
    {
     "name": "stdout",
     "output_type": "stream",
     "text": [
      "\n"
     ]
    }
   ],
   "source": [
    "# Для добавлений в корзину\n",
    "shape_tocart = (\n",
    "    user_mapping_tocart['new'].max()+1,\n",
    "    item_mapping_tocart['new'].max()+1\n",
    ")\n",
    "\n",
    "user_item_tocart = sp.csr_matrix(arg1=(np.ones_like(user_actions_tocart['clientid'].values), \n",
    "                                      (user_actions_tocart['clientid'].values, user_actions_tocart['itemid'].values)),\n",
    "                                 shape=shape_tocart)\n",
    "\n",
    "# all_pairs_knn расчитывает приближенную матрицу cхожестей (по N ближайшим соседям)\n",
    "N = 201\n",
    "user_similarity_matrix_tocart = all_pairs_knn(normalize(user_item_tocart, axis=1),\n",
    "                                              N, show_progress=True, num_threads=2).tocsr()"
   ]
  },
  {
   "cell_type": "code",
   "execution_count": 15,
   "metadata": {
    "ExecuteTime": {
     "end_time": "2021-02-14T18:59:38.278124Z",
     "start_time": "2021-02-14T18:59:35.170903Z"
    },
    "colab": {
     "base_uri": "https://localhost:8080/",
     "height": 71
    },
    "colab_type": "code",
    "executionInfo": {
     "elapsed": 2258,
     "status": "ok",
     "timestamp": 1573479205473,
     "user": {
      "displayName": "Алена Тимофеева",
      "photoUrl": "",
      "userId": "17526456028262676023"
     },
     "user_tz": -180
    },
    "id": "1oi5yI2K6nYQ",
    "outputId": "1f8ca31f-148f-49b4-ed6a-dae1cde4b89b"
   },
   "outputs": [
    {
     "name": "stderr",
     "output_type": "stream",
     "text": [
      "C:\\ProgramData\\Anaconda3\\lib\\site-packages\\scipy\\sparse\\_index.py:124: SparseEfficiencyWarning: Changing the sparsity structure of a csr_matrix is expensive. lil_matrix is more efficient.\n",
      "  self._set_arrayXarray(i, j, x)\n"
     ]
    },
    {
     "data": {
      "text/plain": [
       "(636764, 636764)"
      ]
     },
     "execution_count": 15,
     "metadata": {},
     "output_type": "execute_result"
    }
   ],
   "source": [
    "user_similarity_matrix_tocart.setdiag(0.)\n",
    "user_similarity_matrix_tocart.eliminate_zeros()\n",
    "\n",
    "user_similarity_matrix_tocart.shape"
   ]
  },
  {
   "cell_type": "markdown",
   "metadata": {
    "colab_type": "text",
    "id": "6PhYlLtgwts9"
   },
   "source": [
    "### Расчет схожести рекомендованного товара"
   ]
  },
  {
   "cell_type": "code",
   "execution_count": 19,
   "metadata": {
    "ExecuteTime": {
     "end_time": "2021-02-14T19:07:55.470272Z",
     "start_time": "2021-02-14T19:07:55.375595Z"
    },
    "colab": {},
    "colab_type": "code",
    "id": "j9PZP6TtPga7"
   },
   "outputs": [],
   "source": [
    "def score_user_based(data: pd.DataFrame,\n",
    "                     user_similarity_matrix: sp.csr_matrix,\n",
    "                     user_item: sp.csr_matrix,\n",
    "                     name_score: str):\n",
    "    \"\"\"\n",
    "    Функция схожести рекомендованного товара.\n",
    "    \"\"\"\n",
    "    \n",
    "    pairs = data.copy()\n",
    "    \n",
    "    pairs = pairs.dropna()[['user_cat', 'jointitem_cat']]\n",
    "    pairs['user_cat'] = pairs['user_cat'].astype('uint32')\n",
    "    pairs['jointitem_cat'] = pairs['jointitem_cat'].astype('uint32')\n",
    "    pairs[name_score] = (\n",
    "        user_similarity_matrix[pairs['user_cat'].values]\n",
    "        .multiply(user_item.T.tocsr()[pairs['jointitem_cat']])\n",
    "        .sum(axis=1)\n",
    "    )\n",
    "    \n",
    "    data = (\n",
    "        data\n",
    "        .merge(pairs, on=['user_cat', 'jointitem_cat'], how='left')\n",
    "        .drop_duplicates()\n",
    "        .reset_index(drop=True)\n",
    "    )\n",
    "    \n",
    "    return data"
   ]
  },
  {
   "cell_type": "markdown",
   "metadata": {
    "colab_type": "text",
    "id": "J6N1aO09jHPt"
   },
   "source": [
    "### Для train выборки"
   ]
  },
  {
   "cell_type": "code",
   "execution_count": 25,
   "metadata": {
    "ExecuteTime": {
     "end_time": "2021-02-14T19:11:20.123727Z",
     "start_time": "2021-02-14T19:10:59.760361Z"
    },
    "colab": {
     "base_uri": "https://localhost:8080/",
     "height": 170
    },
    "colab_type": "code",
    "executionInfo": {
     "elapsed": 11725,
     "status": "ok",
     "timestamp": 1573479260323,
     "user": {
      "displayName": "Алена Тимофеева",
      "photoUrl": "",
      "userId": "17526456028262676023"
     },
     "user_tz": -180
    },
    "id": "nX-5hR3OYBp3",
    "outputId": "17a74dfa-6d58-4092-effb-b5e56cd04e5c"
   },
   "outputs": [],
   "source": [
    "df_train_view = (\n",
    "    score_user_based(ub_train_target_view,\n",
    "                     user_similarity_matrix_view,\n",
    "                     user_item_view,\n",
    "                     'user_based_view')\n",
    ")\n",
    "\n",
    "df_train_tocart = (\n",
    "    score_user_based(ub_train_target_tocart,\n",
    "                     user_similarity_matrix_tocart,\n",
    "                     user_item_tocart,\n",
    "                     'user_based_tocart')\n",
    ")\n",
    "\n",
    "df_train_view = df_train_view.drop(['user_cat','jointitem_cat'], axis=1)\n",
    "df_train_tocart = df_train_tocart.drop(['user_cat','jointitem_cat'], axis=1)"
   ]
  },
  {
   "cell_type": "code",
   "execution_count": 26,
   "metadata": {
    "ExecuteTime": {
     "end_time": "2021-02-14T19:13:38.452416Z",
     "start_time": "2021-02-14T19:13:25.890137Z"
    },
    "colab": {
     "base_uri": "https://localhost:8080/",
     "height": 527
    },
    "colab_type": "code",
    "executionInfo": {
     "elapsed": 3176,
     "status": "ok",
     "timestamp": 1573479266149,
     "user": {
      "displayName": "Алена Тимофеева",
      "photoUrl": "",
      "userId": "17526456028262676023"
     },
     "user_tz": -180
    },
    "id": "sp5IZ4QgLUvv",
    "outputId": "86ecd26c-3c6f-4877-d43f-f77e2e40f67c"
   },
   "outputs": [
    {
     "name": "stdout",
     "output_type": "stream",
     "text": [
      "(1390438, 23)\n",
      "(1390438, 25)\n"
     ]
    }
   ],
   "source": [
    "print(train_target.shape)\n",
    "train = (\n",
    "    train_target\n",
    "    .merge(df_train_view[['clientid', 'itemid', 'jointitemid', \n",
    "                          'user_based_view']], how='left')\n",
    "    .drop_duplicates()\n",
    "    .reset_index(drop=True)\n",
    ")\n",
    "\n",
    "train = (\n",
    "    train\n",
    "    .merge(df_train_tocart[['clientid', 'itemid', 'jointitemid',\n",
    "                            'user_based_tocart']], how='left')\n",
    "    .drop_duplicates()\n",
    "    .reset_index(drop=True)\n",
    ")\n",
    "\n",
    "train = train.fillna(0)\n",
    "print(train.shape)"
   ]
  },
  {
   "cell_type": "markdown",
   "metadata": {
    "colab_type": "text",
    "id": "RlitdqNi1k-F"
   },
   "source": [
    "### Для test выборки"
   ]
  },
  {
   "cell_type": "code",
   "execution_count": 28,
   "metadata": {
    "ExecuteTime": {
     "end_time": "2021-02-14T19:15:51.210663Z",
     "start_time": "2021-02-14T19:15:40.842577Z"
    },
    "colab": {
     "base_uri": "https://localhost:8080/",
     "height": 527
    },
    "colab_type": "code",
    "executionInfo": {
     "elapsed": 11069,
     "status": "ok",
     "timestamp": 1573479277836,
     "user": {
      "displayName": "Алена Тимофеева",
      "photoUrl": "",
      "userId": "17526456028262676023"
     },
     "user_tz": -180
    },
    "id": "fz7buka06kyD",
    "outputId": "d8dc53a4-d689-4a3a-96d1-c23aead8b031"
   },
   "outputs": [],
   "source": [
    "df_test_view = (\n",
    "    score_user_based(ub_test_target_view,\n",
    "                     user_similarity_matrix_view,\n",
    "                     user_item_view,\n",
    "                     'user_based_view')\n",
    ")\n",
    "\n",
    "df_test_tocart = (\n",
    "    score_user_based(ub_test_target_tocart,\n",
    "                     user_similarity_matrix_tocart,\n",
    "                     user_item_tocart, \n",
    "                     'user_based_tocart')\n",
    ")\n",
    "\n",
    "df_test_view = df_test_view.drop(['user_cat','jointitem_cat'], axis=1)\n",
    "df_test_tocart = df_test_tocart.drop(['user_cat','jointitem_cat'], axis=1)"
   ]
  },
  {
   "cell_type": "code",
   "execution_count": 29,
   "metadata": {
    "ExecuteTime": {
     "end_time": "2021-02-14T19:17:51.942213Z",
     "start_time": "2021-02-14T19:17:46.811766Z"
    }
   },
   "outputs": [
    {
     "name": "stdout",
     "output_type": "stream",
     "text": [
      "(597158, 23)\n",
      "(597158, 25)\n"
     ]
    }
   ],
   "source": [
    "print(test_target.shape)\n",
    "test = (\n",
    "    test_target\n",
    "    .merge(df_test_view[['clientid', 'itemid', 'jointitemid',\n",
    "                         'user_based_view']], how='left')\n",
    "    .drop_duplicates()\n",
    "    .reset_index(drop=True)\n",
    ")\n",
    "test = (\n",
    "    test\n",
    "    .merge(df_test_tocart[['clientid', 'itemid', 'jointitemid',\n",
    "                           'user_based_tocart']], how='left')\n",
    "    .drop_duplicates()\n",
    "    .reset_index(drop=True)\n",
    ")\n",
    "\n",
    "test = test.fillna(0)\n",
    "print(test.shape)"
   ]
  },
  {
   "cell_type": "markdown",
   "metadata": {
    "colab_type": "text",
    "id": "hnY3iFm5kC5S"
   },
   "source": [
    "### Сохраняем принаки"
   ]
  },
  {
   "cell_type": "code",
   "execution_count": 30,
   "metadata": {
    "ExecuteTime": {
     "end_time": "2021-02-14T19:20:49.931434Z",
     "start_time": "2021-02-14T19:19:54.811839Z"
    },
    "colab": {},
    "colab_type": "code",
    "id": "fViL1FM57dn0"
   },
   "outputs": [],
   "source": [
    "train.to_csv(\"../data/train_with_features.csv\", index=False)\n",
    "test.to_csv(\"../data/test_with_features.csv\", index=False)"
   ]
  }
 ],
 "metadata": {
  "colab": {
   "collapsed_sections": [],
   "machine_shape": "hm",
   "name": "user_based_approach.ipynb",
   "provenance": []
  },
  "kernelspec": {
   "display_name": "Python 3",
   "language": "python",
   "name": "python3"
  },
  "language_info": {
   "codemirror_mode": {
    "name": "ipython",
    "version": 3
   },
   "file_extension": ".py",
   "mimetype": "text/x-python",
   "name": "python",
   "nbconvert_exporter": "python",
   "pygments_lexer": "ipython3",
   "version": "3.7.6"
  }
 },
 "nbformat": 4,
 "nbformat_minor": 1
}
