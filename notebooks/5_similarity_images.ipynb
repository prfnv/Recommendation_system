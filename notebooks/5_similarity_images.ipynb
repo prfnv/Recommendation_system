{
 "cells": [
  {
   "cell_type": "markdown",
   "id": "dramatic-reflection",
   "metadata": {},
   "source": [
    "В этом ноутбуке считается косинусная схожесть между эмбеддингами картинок. Для генерации эмбеддингов используется предобученная модель ResNet18."
   ]
  },
  {
   "cell_type": "code",
   "execution_count": 1,
   "id": "appreciated-affiliate",
   "metadata": {
    "ExecuteTime": {
     "end_time": "2021-05-06T21:50:59.115903Z",
     "start_time": "2021-05-06T21:50:58.202108Z"
    }
   },
   "outputs": [],
   "source": [
    "import json\n",
    "import numpy as np\n",
    "from tqdm.auto import tqdm\n",
    "from numpy.linalg import norm\n",
    "import pandas as pd; pd.set_option('max_columns', None)"
   ]
  },
  {
   "cell_type": "markdown",
   "id": "together-blanket",
   "metadata": {},
   "source": [
    "### Считывание и предобработка данных"
   ]
  },
  {
   "cell_type": "code",
   "execution_count": 2,
   "id": "documentary-patient",
   "metadata": {
    "ExecuteTime": {
     "end_time": "2021-05-06T21:51:08.356752Z",
     "start_time": "2021-05-06T21:51:01.511576Z"
    }
   },
   "outputs": [
    {
     "data": {
      "text/plain": [
       "(1390438, 28)"
      ]
     },
     "execution_count": 2,
     "metadata": {},
     "output_type": "execute_result"
    }
   ],
   "source": [
    "train = pd.read_csv('../data/train_with_features.csv')\n",
    "\n",
    "train['clientid'] = train['clientid'].astype('uint32')\n",
    "train['jointitemid'] = train['jointitemid'].astype('uint32')\n",
    "train['label'] = train['label'].astype('int8')\n",
    "train['novelty_cnt'] = train['novelty_cnt'].astype('int32')\n",
    "train['count_on_session_view'] = train['count_on_session_view'].astype('int32')\n",
    "train['count_on_session_tocart'] = train['count_on_session_tocart'].astype('int32')\n",
    "\n",
    "train.shape"
   ]
  },
  {
   "cell_type": "code",
   "execution_count": 3,
   "id": "killing-ability",
   "metadata": {
    "ExecuteTime": {
     "end_time": "2021-05-06T21:51:11.406484Z",
     "start_time": "2021-05-06T21:51:08.359749Z"
    }
   },
   "outputs": [
    {
     "data": {
      "text/plain": [
       "(597158, 28)"
      ]
     },
     "execution_count": 3,
     "metadata": {},
     "output_type": "execute_result"
    }
   ],
   "source": [
    "test = pd.read_csv('../data/test_with_features.csv')\n",
    "\n",
    "test['clientid'] = test['clientid'].astype('uint32')\n",
    "test['jointitemid'] = test['jointitemid'].astype('uint32')\n",
    "test['label'] = test['label'].astype('int8')\n",
    "test['novelty_cnt'] = test['novelty_cnt'].astype('int32')\n",
    "test['count_on_session_view'] = test['count_on_session_view'].astype('int32')\n",
    "test['count_on_session_tocart'] = test['count_on_session_tocart'].astype('int32')\n",
    "\n",
    "test.shape"
   ]
  },
  {
   "cell_type": "markdown",
   "id": "acute-andrews",
   "metadata": {},
   "source": [
    "### Генерация эмбеддингов"
   ]
  },
  {
   "cell_type": "code",
   "execution_count": 4,
   "id": "mathematical-antenna",
   "metadata": {
    "ExecuteTime": {
     "end_time": "2021-05-06T21:51:13.839843Z",
     "start_time": "2021-05-06T21:51:13.824218Z"
    }
   },
   "outputs": [],
   "source": [
    "class Img2VecResnet18():\n",
    "    def __init__(self):\n",
    "        \n",
    "        self.device = torch.device(\"cpu\")\n",
    "        self.numberFeatures = 512\n",
    "        self.modelName = \"resnet-18\"\n",
    "        self.model, self.featureLayer = self.get_feature_layer()\n",
    "        self.model = self.model.to(self.device)\n",
    "        self.model.eval()\n",
    "        self.toTensor = transforms.ToTensor()\n",
    "        \n",
    "        # normalize the resized images as expected by resnet18\n",
    "        # [0.485, 0.456, 0.406] --> normalized mean value of ImageNet, [0.229, 0.224, 0.225] std of ImageNet\n",
    "        self.normalize = transforms.Normalize(mean=[0.485, 0.456, 0.406], \n",
    "                                              std=[0.229, 0.224, 0.225])\n",
    "        \n",
    "    def get_vec(self, img):\n",
    "        image = self.normalize(self.toTensor(img)).unsqueeze(0).to(self.device)\n",
    "        embedding = torch.zeros(1, self.numberFeatures, 1, 1)\n",
    "\n",
    "        def copyData(m, i, o): embedding.copy_(o.data)\n",
    "\n",
    "        h = self.featureLayer.register_forward_hook(copyData)\n",
    "        self.model(image)\n",
    "        h.remove()\n",
    "\n",
    "        return embedding.numpy()[0, :, 0, 0]\n",
    "\n",
    "    def get_feature_layer(self):\n",
    "        \n",
    "        cnn_model = models.resnet18(pretrained=True)\n",
    "        layer = cnn_model._modules.get('avgpool')\n",
    "        self.layer_output_size = 512\n",
    "        \n",
    "        return cnn_model, layer"
   ]
  },
  {
   "cell_type": "code",
   "execution_count": 5,
   "id": "studied-adoption",
   "metadata": {
    "ExecuteTime": {
     "end_time": "2021-05-06T21:51:17.634540Z",
     "start_time": "2021-05-06T21:51:17.631545Z"
    }
   },
   "outputs": [],
   "source": [
    "img2vec = Img2VecResnet18() \n",
    "all_vectors = {}\n",
    "\n",
    "print(\"Converting images to feature vectors:\")\n",
    "for image in enumerate(tqdm(os.listdir('new_images'))):\n",
    "    try:\n",
    "        img = Image.open(os.path.join('new_iamges', image)).convert('RGB')\n",
    "        vec = img2vec.get_vec(img)\n",
    "        all_vectors[image] = vec\n",
    "        img.close()\n",
    "        \n",
    "        if i % 50_000:\n",
    "            with open('../data/vectors.json', 'w') as f:\n",
    "                json.dump(all_vectors, f)\n",
    "                \n",
    "    except IOError:\n",
    "        print('Filename not an image file')\n",
    "        \n",
    "with open('../data/image_vectors.json', 'w') as f:\n",
    "    json.dump(all_vectors, f)"
   ]
  },
  {
   "cell_type": "code",
   "execution_count": 6,
   "id": "japanese-calculation",
   "metadata": {
    "ExecuteTime": {
     "end_time": "2021-05-06T22:01:34.930427Z",
     "start_time": "2021-05-06T21:51:24.802294Z"
    }
   },
   "outputs": [],
   "source": [
    "with open('../data/image_vectors.json', 'r') as f:\n",
    "    vectors = json.load(f)"
   ]
  },
  {
   "cell_type": "code",
   "execution_count": 7,
   "id": "improving-olympus",
   "metadata": {
    "ExecuteTime": {
     "end_time": "2021-05-06T22:02:23.494879Z",
     "start_time": "2021-05-06T22:02:23.452144Z"
    }
   },
   "outputs": [],
   "source": [
    "def similarity(x, y, vectors=vectors):\n",
    "    if x in vectors and y in vectors:\n",
    "        vec_1 = vectors[x]\n",
    "        vec_2 = vectors[y]\n",
    "\n",
    "        sim = np.inner(vec_1, vec_2) / (norm(vec_1) * norm(vec_2))\n",
    "        \n",
    "        return sim"
   ]
  },
  {
   "cell_type": "markdown",
   "id": "tight-municipality",
   "metadata": {},
   "source": [
    "### Косинусная схожесть по картинкам для train"
   ]
  },
  {
   "cell_type": "code",
   "execution_count": 8,
   "id": "rental-tennessee",
   "metadata": {
    "ExecuteTime": {
     "end_time": "2021-05-06T22:02:33.457629Z",
     "start_time": "2021-05-06T22:02:27.883244Z"
    }
   },
   "outputs": [],
   "source": [
    "train.loc[:, 'image_1'] = train['itemid'].astype('str') + '.jpg'\n",
    "train.loc[:, 'image_2'] = train['jointitemid'].astype('str') + '.jpg'"
   ]
  },
  {
   "cell_type": "code",
   "execution_count": 9,
   "id": "convenient-ceremony",
   "metadata": {
    "ExecuteTime": {
     "end_time": "2021-05-06T22:11:07.552030Z",
     "start_time": "2021-05-06T22:02:37.043249Z"
    }
   },
   "outputs": [],
   "source": [
    "train.loc[:, 'image_similarity'] = [\n",
    "    similarity(x, y) for x, y in zip(train['image_1'],\n",
    "                                     train['image_2'])\n",
    "]"
   ]
  },
  {
   "cell_type": "code",
   "execution_count": 10,
   "id": "compound-charity",
   "metadata": {
    "ExecuteTime": {
     "end_time": "2021-05-06T22:11:08.951298Z",
     "start_time": "2021-05-06T22:11:07.552030Z"
    }
   },
   "outputs": [
    {
     "name": "stdout",
     "output_type": "stream",
     "text": [
      "(1390438, 29)\n"
     ]
    }
   ],
   "source": [
    "train.drop(['image_1', 'image_2'], axis=1, inplace=True)\n",
    "print(train.shape)\n",
    "\n",
    "train['image_similarity'] = train['image_similarity'].fillna(0)"
   ]
  },
  {
   "cell_type": "code",
   "execution_count": 11,
   "id": "developed-excellence",
   "metadata": {
    "ExecuteTime": {
     "end_time": "2021-05-06T22:11:10.488640Z",
     "start_time": "2021-05-06T22:11:08.951298Z"
    }
   },
   "outputs": [
    {
     "data": {
      "image/png": "[encoded data removed]",
      "text/plain": [
       "<Figure size 432x288 with 1 Axes>"
      ]
     },
     "metadata": {
      "needs_background": "light"
     },
     "output_type": "display_data"
    }
   ],
   "source": [
    "train['image_similarity'].hist(bins=100);"
   ]
  },
  {
   "cell_type": "markdown",
   "id": "general-constraint",
   "metadata": {},
   "source": [
    "### Косинусная схожесть по картинкам для test"
   ]
  },
  {
   "cell_type": "code",
   "execution_count": 12,
   "id": "marked-construction",
   "metadata": {
    "ExecuteTime": {
     "end_time": "2021-05-06T22:12:09.136590Z",
     "start_time": "2021-05-06T22:12:07.515960Z"
    }
   },
   "outputs": [],
   "source": [
    "test.loc[:, 'image_1'] = test['itemid'].astype('str') + '.jpg'\n",
    "test.loc[:, 'image_2'] = test['jointitemid'].astype('str') + '.jpg'"
   ]
  },
  {
   "cell_type": "code",
   "execution_count": 13,
   "id": "frequent-prison",
   "metadata": {
    "ExecuteTime": {
     "end_time": "2021-05-06T22:16:08.955267Z",
     "start_time": "2021-05-06T22:12:10.188124Z"
    }
   },
   "outputs": [],
   "source": [
    "test.loc[:, 'image_similarity'] = [\n",
    "    similarity(x, y) for x, y in zip(test['image_1'],\n",
    "                                     test['image_2'])\n",
    "]"
   ]
  },
  {
   "cell_type": "code",
   "execution_count": 14,
   "id": "constant-african",
   "metadata": {
    "ExecuteTime": {
     "end_time": "2021-05-06T22:16:09.292233Z",
     "start_time": "2021-05-06T22:16:08.967375Z"
    }
   },
   "outputs": [
    {
     "name": "stdout",
     "output_type": "stream",
     "text": [
      "(597158, 29)\n"
     ]
    }
   ],
   "source": [
    "test.drop(['image_1', 'image_2'], axis=1, inplace=True)\n",
    "print(test.shape)\n",
    "\n",
    "test['image_similarity'] = test['image_similarity'].fillna(0)"
   ]
  },
  {
   "cell_type": "code",
   "execution_count": 15,
   "id": "connected-parameter",
   "metadata": {
    "ExecuteTime": {
     "end_time": "2021-05-06T22:16:09.820840Z",
     "start_time": "2021-05-06T22:16:09.297230Z"
    }
   },
   "outputs": [
    {
     "data": {
      "image/png": "[encoded data removed]",
      "text/plain": [
       "<Figure size 432x288 with 1 Axes>"
      ]
     },
     "metadata": {
      "needs_background": "light"
     },
     "output_type": "display_data"
    }
   ],
   "source": [
    "test['image_similarity'].hist(bins=100);"
   ]
  },
  {
   "cell_type": "markdown",
   "id": "intended-grain",
   "metadata": {},
   "source": [
    "### Сохраняем принаки"
   ]
  },
  {
   "cell_type": "code",
   "execution_count": 16,
   "id": "intimate-subscription",
   "metadata": {
    "ExecuteTime": {
     "end_time": "2021-05-06T22:17:58.907214Z",
     "start_time": "2021-05-06T22:16:46.568172Z"
    }
   },
   "outputs": [],
   "source": [
    "train.to_csv('../data/train_with_all_features.csv', index=False)\n",
    "test.to_csv('../data/test_with_all_features.csv', index=False)"
   ]
  }
 ],
 "metadata": {
  "kernelspec": {
   "display_name": "Python 3.7.3 64-bit ('base': conda)",
   "language": "python",
   "name": "python37364bitbaseconda831045ee32c94c84964ff7ce40490e5e"
  },
  "language_info": {
   "codemirror_mode": {
    "name": "ipython",
    "version": 3
   },
   "file_extension": ".py",
   "mimetype": "text/x-python",
   "name": "python",
   "nbconvert_exporter": "python",
   "pygments_lexer": "ipython3",
   "version": "3.7.6"
  }
 },
 "nbformat": 4,
 "nbformat_minor": 5
}
