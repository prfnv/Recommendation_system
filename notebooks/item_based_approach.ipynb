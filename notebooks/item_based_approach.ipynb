{
 "cells": [
  {
   "cell_type": "markdown",
   "metadata": {
    "colab_type": "text",
    "id": "qs7uGATkw22s"
   },
   "source": [
    "# Implementing the item_based approach"
   ]
  },
  {
   "cell_type": "code",
   "execution_count": null,
   "metadata": {
    "colab": {
     "base_uri": "https://localhost:8080/",
     "height": 258
    },
    "colab_type": "code",
    "executionInfo": {
     "elapsed": 89785,
     "status": "ok",
     "timestamp": 1579470365651,
     "user": {
      "displayName": "Павел Парфенов",
      "photoUrl": "",
      "userId": "00456899921274964308"
     },
     "user_tz": -180
    },
    "id": "4HeBEGvXzx_k",
    "outputId": "46db7086-0182-4e6a-cc9e-376c209faeb0"
   },
   "outputs": [],
   "source": [
    "import numpy as np\n",
    "import pandas as pd\n",
    "import scipy.sparse as sp\n",
    "import datetime as dt\n",
    "from sklearn.preprocessing import normalize\n",
    "!pip install implicit\n",
    "from implicit._nearest_neighbours import all_pairs_knn"
   ]
  },
  {
   "cell_type": "code",
   "execution_count": null,
   "metadata": {
    "colab": {
     "base_uri": "https://localhost:8080/",
     "height": 122
    },
    "colab_type": "code",
    "executionInfo": {
     "elapsed": 20906,
     "status": "ok",
     "timestamp": 1579470444498,
     "user": {
      "displayName": "Павел Парфенов",
      "photoUrl": "",
      "userId": "00456899921274964308"
     },
     "user_tz": -180
    },
    "id": "OniuwIiyzyvQ",
    "outputId": "8d9e25f8-d8ea-46ac-b87d-171a26acd138"
   },
   "outputs": [],
   "source": [
    "# from google.colab import drive\n",
    "# drive.mount('/content/gdrive')"
   ]
  },
  {
   "cell_type": "markdown",
   "metadata": {
    "colab_type": "text",
    "id": "1KcfYeERrzMl"
   },
   "source": [
    "## Reading and preprocessing action data, training and test data sets"
   ]
  },
  {
   "cell_type": "code",
   "execution_count": null,
   "metadata": {
    "colab": {},
    "colab_type": "code",
    "id": "lmvfDhF8thyi"
   },
   "outputs": [],
   "source": [
    "# переиндиксация индеков клиентов и товаров\n",
    "def newIndex(user_actions):\n",
    "    clients = user_actions['clientid'].unique() # все уникальные айди клиентов из user_actions\n",
    "    clients_cat = np.arange(0, len(clients), dtype='uint32') # массив с элементами от 0 до n - 1\n",
    "\n",
    "    # таблица, где каждая строка переводит clientid в номер строки\n",
    "    user_mapping = pd.DataFrame({'old': clients, 'new': clients_cat})\n",
    "\n",
    "    items = user_actions['itemid'].unique() # все уникальные айди товаров из user_actions\n",
    "    items_cat = np.arange(0, len(items), dtype='uint32') # массив с элементами от 0 до m - 1\n",
    "\n",
    "    # таблица, где каждая строка переводит itemid в номер столбца\n",
    "    item_mapping = pd.DataFrame({'old': items, 'new': items_cat})\n",
    "\n",
    "    user_actions['clientid'] = user_actions['clientid'].map(user_mapping.set_index('old').new)\n",
    "    user_actions['itemid'] = user_actions['itemid'].map(item_mapping.set_index('old').new)\n",
    "    return (user_actions, user_mapping, item_mapping)"
   ]
  },
  {
   "cell_type": "code",
   "execution_count": null,
   "metadata": {
    "colab": {
     "base_uri": "https://localhost:8080/",
     "height": 204
    },
    "colab_type": "code",
    "executionInfo": {
     "elapsed": 16765,
     "status": "ok",
     "timestamp": 1579470488017,
     "user": {
      "displayName": "Павел Парфенов",
      "photoUrl": "",
      "userId": "00456899921274964308"
     },
     "user_tz": -180
    },
    "id": "iFAInneHzx_n",
    "outputId": "75615e82-f86f-4ffa-f154-c0590159a93d"
   },
   "outputs": [],
   "source": [
    "user_actions = pd.read_parquet('../data/user_actions_august.parquet')\n",
    "user_actions.head()"
   ]
  },
  {
   "cell_type": "code",
   "execution_count": null,
   "metadata": {
    "colab": {
     "base_uri": "https://localhost:8080/",
     "height": 204
    },
    "colab_type": "code",
    "executionInfo": {
     "elapsed": 5147,
     "status": "ok",
     "timestamp": 1579470614068,
     "user": {
      "displayName": "Павел Парфенов",
      "photoUrl": "",
      "userId": "00456899921274964308"
     },
     "user_tz": -180
    },
    "id": "yEf_Zz1xzx_p",
    "outputId": "d8f8e13c-072e-4d0f-a5af-addb293ddbf2"
   },
   "outputs": [],
   "source": [
    "user_actions['clientid'] = user_actions['clientid'].astype('uint32')\n",
    "user_actions['itemid'] = user_actions['itemid'].astype('uint32')\n",
    "user_actions['action_type'] = user_actions['action_type'].map({'view': 0, 'to_cart': 1}).astype('bool')\n",
    "\n",
    "user_actions.head()"
   ]
  },
  {
   "cell_type": "code",
   "execution_count": null,
   "metadata": {
    "colab": {
     "base_uri": "https://localhost:8080/",
     "height": 170
    },
    "colab_type": "code",
    "executionInfo": {
     "elapsed": 834,
     "status": "ok",
     "timestamp": 1579470616506,
     "user": {
      "displayName": "Павел Парфенов",
      "photoUrl": "",
      "userId": "00456899921274964308"
     },
     "user_tz": -180
    },
    "id": "06Qgv-kDOEgo",
    "outputId": "78a3d486-7261-4ea2-fa92-7bf957486e18"
   },
   "outputs": [],
   "source": [
    "user_actions.info()"
   ]
  },
  {
   "cell_type": "markdown",
   "metadata": {
    "colab_type": "text",
    "id": "DG7gsNLsuIQj"
   },
   "source": [
    "Dividing data by views"
   ]
  },
  {
   "cell_type": "code",
   "execution_count": null,
   "metadata": {
    "colab": {
     "base_uri": "https://localhost:8080/",
     "height": 204
    },
    "colab_type": "code",
    "executionInfo": {
     "elapsed": 8768,
     "status": "ok",
     "timestamp": 1579470635714,
     "user": {
      "displayName": "Павел Парфенов",
      "photoUrl": "",
      "userId": "00456899921274964308"
     },
     "user_tz": -180
    },
    "id": "EglF0Stx00Lz",
    "outputId": "0ae0b107-c722-4afb-da27-c1d812d90540"
   },
   "outputs": [],
   "source": [
    "new_user_actions_view = user_actions[~user_actions['action_type']].reset_index(drop=True)\n",
    "new_user_actions_view = new_user_actions_view.drop(columns=['timestamp', 'action_type'])\n",
    "user_actions_view, user_mapping, item_mapping = newIndex(new_user_actions_view)\n",
    "\n",
    "user_actions_view.head()"
   ]
  },
  {
   "cell_type": "markdown",
   "metadata": {
    "colab_type": "text",
    "id": "6_-xCyE6udEi"
   },
   "source": [
    "Dividing data on cart additions"
   ]
  },
  {
   "cell_type": "code",
   "execution_count": null,
   "metadata": {
    "colab": {},
    "colab_type": "code",
    "id": "nHLGKazouYbc"
   },
   "outputs": [],
   "source": [
    "user_actions_tocart = user_actions[user_actions['action_type']].reset_index(drop=True)\n",
    "user_actions_tocart = user_actions_tocart.drop(columns=['timestamp', 'action_type'])\n",
    "user_actions_tocart, user_mapping_tocart, item_mapping_tocart = newIndex(user_actions_tocart)"
   ]
  },
  {
   "cell_type": "markdown",
   "metadata": {
    "colab_type": "text",
    "id": "cXe-oOjHgmyi"
   },
   "source": [
    "## For training sample\n",
    "\n",
    "Divide by views and additions to the cart"
   ]
  },
  {
   "cell_type": "code",
   "execution_count": null,
   "metadata": {
    "colab": {
     "base_uri": "https://localhost:8080/",
     "height": 187
    },
    "colab_type": "code",
    "executionInfo": {
     "elapsed": 9005,
     "status": "ok",
     "timestamp": 1579470981442,
     "user": {
      "displayName": "Павел Парфенов",
      "photoUrl": "",
      "userId": "00456899921274964308"
     },
     "user_tz": -180
    },
    "id": "s_eV9Hc8zx_r",
    "outputId": "886d815b-b277-42eb-ecb0-b8c9029b6272"
   },
   "outputs": [],
   "source": [
    "train_target = pd.read_csv('../data/train_with_scores.csv')\n",
    "train_target['clientid'] = train_target['clientid'].astype('uint32')\n",
    "train_target['jointitemid'] = train_target['jointitemid'].astype('uint32')\n",
    "train_target['label']=train_target['label'].astype('int8')\n",
    "train_target['novelty_cnt']=train_target['novelty_cnt'].astype('int32')\n",
    "train_target['count_on_session_view']=train_target['count_on_session_view'].astype('int32')\n",
    "train_target['count_on_session_to_cart']=train_target['count_on_session_to_cart'].astype('int32')\n",
    "\n",
    "# по просмотрам\n",
    "ib_train_target_view = train_target[['clientid','itemid','jointitemid']].copy()\n",
    "ib_train_target_view['user_cat'] = ib_train_target_view['clientid'].map(user_mapping.set_index('old').new)\n",
    "ib_train_target_view['jointitem_cat'] = ib_train_target_view['jointitemid'].map(item_mapping.set_index('old').new)\n",
    "\n",
    "# по картэдам\n",
    "ib_train_target_tocart = train_target[['clientid','itemid','jointitemid']].copy()\n",
    "ib_train_target_tocart['user_cat'] = ib_train_target_tocart['clientid'].map(user_mapping_tocart.set_index('old').new)\n",
    "ib_train_target_tocart['jointitem_cat'] = ib_train_target_tocart['jointitemid'].map(item_mapping_tocart.set_index('old').new)\n",
    "ib_train_target_tocart.info()"
   ]
  },
  {
   "cell_type": "code",
   "execution_count": null,
   "metadata": {
    "colab": {
     "base_uri": "https://localhost:8080/",
     "height": 187
    },
    "colab_type": "code",
    "executionInfo": {
     "elapsed": 866,
     "status": "ok",
     "timestamp": 1579470987280,
     "user": {
      "displayName": "Павел Парфенов",
      "photoUrl": "",
      "userId": "00456899921274964308"
     },
     "user_tz": -180
    },
    "id": "e9w9CiljUVF0",
    "outputId": "0646770e-94ea-43fb-b40b-6a6c739dd83f"
   },
   "outputs": [],
   "source": [
    "ib_train_target_view.info()"
   ]
  },
  {
   "cell_type": "markdown",
   "metadata": {
    "colab_type": "text",
    "id": "i-2BrR7GUNvl"
   },
   "source": [
    "## For test sample\n",
    "\n",
    "Divide by views and additions to the cart"
   ]
  },
  {
   "cell_type": "code",
   "execution_count": null,
   "metadata": {
    "colab": {
     "base_uri": "https://localhost:8080/",
     "height": 187
    },
    "colab_type": "code",
    "executionInfo": {
     "elapsed": 5547,
     "status": "ok",
     "timestamp": 1579471013956,
     "user": {
      "displayName": "Павел Парфенов",
      "photoUrl": "",
      "userId": "00456899921274964308"
     },
     "user_tz": -180
    },
    "id": "BRBtMuq2UYyG",
    "outputId": "3ad71751-5bba-43d7-e534-7bb025b2f064"
   },
   "outputs": [],
   "source": [
    "test_target = pd.read_csv('../data/test_with_scores.csv')\n",
    "\n",
    "test_target ['clientid'] = test_target ['clientid'].astype('uint32')\n",
    "test_target ['jointitemid'] = test_target ['jointitemid'].astype('uint32')\n",
    "test_target ['label'] = test_target ['label'].astype('int8')\n",
    "test_target ['novelty_cnt'] = test_target ['novelty_cnt'].astype('int32')\n",
    "test_target ['count_on_session_view'] = test_target['count_on_session_view'].astype('int32')\n",
    "test_target ['count_on_session_to_cart'] = test_target ['count_on_session_to_cart'].astype('int32')\n",
    "\n",
    "# по просмотрам\n",
    "ib_test_target_view = test_target[['clientid','itemid','jointitemid']].copy()\n",
    "ib_test_target_view['user_cat'] = ib_test_target_view['clientid'].map(user_mapping.set_index('old').new)\n",
    "ib_test_target_view['jointitem_cat'] = ib_test_target_view['jointitemid'].map(item_mapping.set_index('old').new)\n",
    "\n",
    "# картэдам\n",
    "ib_test_target_tocart = test_target[['clientid','itemid','jointitemid']].copy()\n",
    "ib_test_target_tocart['user_cat'] = ib_test_target_tocart['clientid'].map(user_mapping_tocart.set_index('old').new)\n",
    "ib_test_target_tocart['jointitem_cat'] = ib_test_target_tocart['jointitemid'].map(item_mapping_tocart.set_index('old').new)\n",
    "ib_test_target_tocart.info()"
   ]
  },
  {
   "cell_type": "code",
   "execution_count": null,
   "metadata": {
    "colab": {
     "base_uri": "https://localhost:8080/",
     "height": 187
    },
    "colab_type": "code",
    "executionInfo": {
     "elapsed": 847,
     "status": "ok",
     "timestamp": 1579471034629,
     "user": {
      "displayName": "Павел Парфенов",
      "photoUrl": "",
      "userId": "00456899921274964308"
     },
     "user_tz": -180
    },
    "id": "M5agYMwEhIvP",
    "outputId": "2eb5f5ed-2ef0-4fdc-f2fa-4c6374e68ae8"
   },
   "outputs": [],
   "source": [
    "ib_test_target_view.info()"
   ]
  },
  {
   "cell_type": "markdown",
   "metadata": {
    "colab_type": "text",
    "id": "AZ1bkw1xmdI5"
   },
   "source": [
    "## Building matrices for views and adding to cart"
   ]
  },
  {
   "cell_type": "code",
   "execution_count": null,
   "metadata": {
    "colab": {
     "base_uri": "https://localhost:8080/",
     "height": 34,
     "referenced_widgets": [
      "93f6e035351f494f87e52308d455a894"
     ]
    },
    "colab_type": "code",
    "executionInfo": {
     "elapsed": 315343,
     "status": "ok",
     "timestamp": 1573478236721,
     "user": {
      "displayName": "Алена Тимофеева",
      "photoUrl": "",
      "userId": "17526456028262676023"
     },
     "user_tz": -180
    },
    "id": "wOtYczGvmi1-",
    "outputId": "6db95c9f-c926-4ee1-a00d-e1943f8cba95"
   },
   "outputs": [],
   "source": [
    "# Для просмотров\n",
    "shape = (user_mapping['new'].max() + 1, item_mapping['new'].max() + 1) # размер матрицы\n",
    "\n",
    "user_item_view = sp.csr_matrix(arg1=(np.ones_like(user_actions_view['clientid'].values), \n",
    "                                       (user_actions_view['clientid'].values, user_actions_view['itemid'].values)), shape=shape)\n",
    "# all_pairs_knn расчитывает приближенную матрицу похожестей(по N ближайшим соседям)\n",
    "N = 201\n",
    "item_similarity_matrix_view = all_pairs_knn(normalize(user_item_view, axis=0).T, N, show_progress=True, num_threads=2).tocsr()"
   ]
  },
  {
   "cell_type": "code",
   "execution_count": null,
   "metadata": {
    "colab": {
     "base_uri": "https://localhost:8080/",
     "height": 71
    },
    "colab_type": "code",
    "executionInfo": {
     "elapsed": 7495,
     "status": "ok",
     "timestamp": 1573478312504,
     "user": {
      "displayName": "Алена Тимофеева",
      "photoUrl": "",
      "userId": "17526456028262676023"
     },
     "user_tz": -180
    },
    "id": "EjopV-MJ69wd",
    "outputId": "5dc68393-ae22-4d90-8200-eca305dd2b9b"
   },
   "outputs": [],
   "source": [
    "item_similarity_matrix_view.setdiag(0.)\n",
    "item_similarity_matrix_view.eliminate_zeros()"
   ]
  },
  {
   "cell_type": "code",
   "execution_count": null,
   "metadata": {
    "colab": {
     "base_uri": "https://localhost:8080/",
     "height": 34
    },
    "colab_type": "code",
    "executionInfo": {
     "elapsed": 559,
     "status": "ok",
     "timestamp": 1573478316632,
     "user": {
      "displayName": "Алена Тимофеева",
      "photoUrl": "",
      "userId": "17526456028262676023"
     },
     "user_tz": -180
    },
    "id": "xXixTr1a1KD0",
    "outputId": "d4e9de39-cb92-4be5-fdb4-5787559fdadc"
   },
   "outputs": [],
   "source": [
    "item_similarity_matrix_view.shape"
   ]
  },
  {
   "cell_type": "code",
   "execution_count": null,
   "metadata": {
    "colab": {},
    "colab_type": "code",
    "id": "5sKQ8aXamxkv"
   },
   "outputs": [],
   "source": [
    "# Для картэдов\n",
    "shape = (user_mapping_tocart['new'].max() + 1, item_mapping_tocart['new'].max() + 1) # размер матрицы\n",
    "\n",
    "user_item_tocart = sp.csr_matrix(arg1=(np.ones_like(user_actions_tocart['clientid'].values), \n",
    "                                       (user_actions_tocart['clientid'].values, user_actions_tocart['itemid'].values)), shape=shape)\n",
    "# all_pairs_knn расчитывает приближенную матрицу похожестей(по N ближайшим соседям)\n",
    "N = 201\n",
    "item_similarity_matrix_tocart = all_pairs_knn(normalize(user_item_tocart, axis=0).T, N, show_progress=True, num_threads=2).tocsr()"
   ]
  },
  {
   "cell_type": "code",
   "execution_count": null,
   "metadata": {
    "colab": {
     "base_uri": "https://localhost:8080/",
     "height": 71
    },
    "colab_type": "code",
    "executionInfo": {
     "elapsed": 32284,
     "status": "ok",
     "timestamp": 1573478373106,
     "user": {
      "displayName": "Алена Тимофеева",
      "photoUrl": "",
      "userId": "17526456028262676023"
     },
     "user_tz": -180
    },
    "id": "bmLtBxUY7RBL",
    "outputId": "3c20ba0f-88ab-4008-f0ad-4cb504352c33"
   },
   "outputs": [],
   "source": [
    "item_similarity_matrix_tocart.setdiag(0.)\n",
    "item_similarity_matrix_tocart.eliminate_zeros()"
   ]
  },
  {
   "cell_type": "code",
   "execution_count": null,
   "metadata": {
    "colab": {
     "base_uri": "https://localhost:8080/",
     "height": 34
    },
    "colab_type": "code",
    "executionInfo": {
     "elapsed": 30852,
     "status": "ok",
     "timestamp": 1573478373106,
     "user": {
      "displayName": "Алена Тимофеева",
      "photoUrl": "",
      "userId": "17526456028262676023"
     },
     "user_tz": -180
    },
    "id": "aVVjwg4s1Ose",
    "outputId": "2cac7d3d-5f4e-4d45-b771-74e3774a0190"
   },
   "outputs": [],
   "source": [
    "item_similarity_matrix_tocart.shape"
   ]
  },
  {
   "cell_type": "markdown",
   "metadata": {
    "colab_type": "text",
    "id": "cBMNDQ9a_7fO"
   },
   "source": [
    "## Calculating the similarity of the recommended product"
   ]
  },
  {
   "cell_type": "code",
   "execution_count": null,
   "metadata": {
    "colab": {},
    "colab_type": "code",
    "id": "Nx_-h0OBpLmZ"
   },
   "outputs": [],
   "source": [
    "def score_item_based(data, item_similarity_matrix, user_item, name_score):\n",
    "    pairs = data.dropna()[['user_cat', 'jointitem_cat']]\n",
    "    pairs['user_cat'] = pairs['user_cat'].astype('uint32')\n",
    "    pairs['jointitem_cat'] = pairs['jointitem_cat'].astype('uint32')\n",
    "    pairs[name_score] = user_item[pairs['user_cat'].values].multiply(item_similarity_matrix[pairs['jointitem_cat'].values]).sum(axis = 1)\n",
    "    data = pd.merge(data, pairs, on=['user_cat', 'jointitem_cat'], how = 'left').drop_duplicates()\n",
    "    return data"
   ]
  },
  {
   "cell_type": "markdown",
   "metadata": {
    "colab_type": "text",
    "id": "A0NdoTi6Ti-W"
   },
   "source": [
    "### For training sample"
   ]
  },
  {
   "cell_type": "code",
   "execution_count": null,
   "metadata": {
    "colab": {
     "base_uri": "https://localhost:8080/",
     "height": 170
    },
    "colab_type": "code",
    "executionInfo": {
     "elapsed": 12671,
     "status": "ok",
     "timestamp": 1573478397281,
     "user": {
      "displayName": "Алена Тимофеева",
      "photoUrl": "",
      "userId": "17526456028262676023"
     },
     "user_tz": -180
    },
    "id": "C5SNoWXMpivn",
    "outputId": "9cea4c14-40dd-4e40-b065-9911aa226cff"
   },
   "outputs": [],
   "source": [
    "df_train_view = score_item_based(ib_train_target_view, item_similarity_matrix_view, user_item_view, 'item_based_view')\n",
    "df_train_tocart = score_item_based(ib_train_target_tocart, item_similarity_matrix_tocart, user_item_tocart,'item_based_tocart')\n",
    "\n",
    "df_train_view = df_train_view.drop(columns = ['user_cat','jointitem_cat'])\n",
    "df_train_tocart = df_train_tocart.drop(columns = ['user_cat','jointitem_cat'])\n",
    "df_train_view.info()"
   ]
  },
  {
   "cell_type": "code",
   "execution_count": null,
   "metadata": {
    "colab": {
     "base_uri": "https://localhost:8080/",
     "height": 493
    },
    "colab_type": "code",
    "executionInfo": {
     "elapsed": 3167,
     "status": "ok",
     "timestamp": 1573478401414,
     "user": {
      "displayName": "Алена Тимофеева",
      "photoUrl": "",
      "userId": "17526456028262676023"
     },
     "user_tz": -180
    },
    "id": "HCeom8-TqL-C",
    "outputId": "44f6c94c-0d81-4b56-8aa2-6a61a85a1af6"
   },
   "outputs": [],
   "source": [
    "train = pd.merge(train_target, df_train_view[['clientid', 'itemid', 'jointitemid', 'item_based_view']], how = 'left')\n",
    "train = pd.merge(train, df_train_tocart[['clientid', 'itemid', 'jointitemid', 'item_based_tocart']], how = 'left')\n",
    "train = train.fillna(0)\n",
    "train.info()"
   ]
  },
  {
   "cell_type": "markdown",
   "metadata": {
    "colab_type": "text",
    "id": "f4Nk158r5yWA"
   },
   "source": [
    "### For test sample"
   ]
  },
  {
   "cell_type": "code",
   "execution_count": null,
   "metadata": {
    "colab": {
     "base_uri": "https://localhost:8080/",
     "height": 493
    },
    "colab_type": "code",
    "executionInfo": {
     "elapsed": 5999,
     "status": "ok",
     "timestamp": 1573478415306,
     "user": {
      "displayName": "Алена Тимофеева",
      "photoUrl": "",
      "userId": "17526456028262676023"
     },
     "user_tz": -180
    },
    "id": "_lmk4jJI6O2o",
    "outputId": "f1282d28-1948-4d8b-e604-9dd72683e09b"
   },
   "outputs": [],
   "source": [
    "df_test_view = score_item_based(ib_test_target_view, item_similarity_matrix_view, user_item_view, 'item_based_view')\n",
    "df_test_tocart = score_item_based(ib_test_target_tocart, item_similarity_matrix_tocart, user_item_tocart,'item_based_tocart')\n",
    "\n",
    "df_test_view = df_test_view.drop(columns = ['user_cat','jointitem_cat'])\n",
    "df_test_tocart = df_test_tocart.drop(columns = ['user_cat','jointitem_cat'])\n",
    "\n",
    "\n",
    "test_scores = pd.merge(test_target, df_test_view[['clientid','itemid','jointitemid','item_based_view']],how = 'left')\n",
    "test_scores = pd.merge(test_scores,df_test_tocart[['clientid','itemid','jointitemid','item_based_tocart']],how = 'left')\n",
    "test_scores = test_scores.fillna(0)\n",
    "test_scores.info()"
   ]
  },
  {
   "cell_type": "markdown",
   "metadata": {
    "colab_type": "text",
    "id": "Qgnv_A5YTSkx"
   },
   "source": [
    "## Write to test and training file"
   ]
  },
  {
   "cell_type": "code",
   "execution_count": null,
   "metadata": {
    "colab": {},
    "colab_type": "code",
    "id": "1EU0iGuMzx_t"
   },
   "outputs": [],
   "source": [
    "test_scores.to_csv(\"../data/test_with_scores.csv\", index = False)\n",
    "train.to_csv(\"../data/train_with_scores.csv\", index = False)"
   ]
  }
 ],
 "metadata": {
  "colab": {
   "collapsed_sections": [],
   "machine_shape": "hm",
   "name": "item_based_approach.ipynb",
   "provenance": []
  },
  "kernelspec": {
   "display_name": "Python 3",
   "language": "python",
   "name": "python3"
  },
  "language_info": {
   "codemirror_mode": {
    "name": "ipython",
    "version": 3
   },
   "file_extension": ".py",
   "mimetype": "text/x-python",
   "name": "python",
   "nbconvert_exporter": "python",
   "pygments_lexer": "ipython3",
   "version": "3.7.3"
  }
 },
 "nbformat": 4,
 "nbformat_minor": 1
}
