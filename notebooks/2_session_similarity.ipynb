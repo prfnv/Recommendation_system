{
 "cells": [
  {
   "cell_type": "markdown",
   "metadata": {},
   "source": [
    "В данном ноутбуке реализована схожесть товаров по пользовательским сессиям."
   ]
  },
  {
   "cell_type": "code",
   "execution_count": 1,
   "metadata": {
    "ExecuteTime": {
     "end_time": "2021-03-03T13:45:57.280240Z",
     "start_time": "2021-03-03T13:45:57.222220Z"
    }
   },
   "outputs": [],
   "source": [
    "%load_ext autoreload\n",
    "%autoreload 2"
   ]
  },
  {
   "cell_type": "code",
   "execution_count": 2,
   "metadata": {
    "ExecuteTime": {
     "end_time": "2021-03-03T13:45:57.600689Z",
     "start_time": "2021-03-03T13:45:57.558711Z"
    }
   },
   "outputs": [],
   "source": [
    "import sys\n",
    "sys.path.append('../src/')"
   ]
  },
  {
   "cell_type": "code",
   "execution_count": 3,
   "metadata": {
    "ExecuteTime": {
     "end_time": "2021-03-03T13:46:00.395971Z",
     "start_time": "2021-03-03T13:45:57.886188Z"
    },
    "colab": {},
    "colab_type": "code",
    "id": "yjf6JoZ4-e9Z"
   },
   "outputs": [],
   "source": [
    "import numpy as np\n",
    "from reindexing import (\n",
    "    reindexing_clientid_itemid, reindexing_sessionid_itemid\n",
    ")\n",
    "import scipy.sparse as sp\n",
    "import datetime as dt\n",
    "from cosine_similarity import calculate_session_similarity\n",
    "import pandas as pd; pd.set_option('display.max_columns', None)\n",
    "pd.options.mode.chained_assignment = None"
   ]
  },
  {
   "cell_type": "code",
   "execution_count": 4,
   "metadata": {
    "ExecuteTime": {
     "end_time": "2021-03-03T13:46:01.007305Z",
     "start_time": "2021-03-03T13:46:00.910361Z"
    },
    "colab": {
     "base_uri": "https://localhost:8080/",
     "height": 34
    },
    "colab_type": "code",
    "executionInfo": {
     "elapsed": 755,
     "status": "ok",
     "timestamp": 1573081577364,
     "user": {
      "displayName": "Павел Парфенов",
      "photoUrl": "",
      "userId": "00456899921274964308"
     },
     "user_tz": -180
    },
    "id": "Nft_mXvi-ltu",
    "outputId": "c29493f6-7fe0-470e-a3ce-2a0bf67d102d"
   },
   "outputs": [],
   "source": [
    "# from google.colab import drive\n",
    "# drive.mount('/content/gdrive')"
   ]
  },
  {
   "cell_type": "markdown",
   "metadata": {},
   "source": [
    "### Считывание и предобработка данных"
   ]
  },
  {
   "cell_type": "code",
   "execution_count": 5,
   "metadata": {
    "ExecuteTime": {
     "end_time": "2021-03-03T13:46:07.600721Z",
     "start_time": "2021-03-03T13:46:02.889429Z"
    }
   },
   "outputs": [
    {
     "name": "stdout",
     "output_type": "stream",
     "text": [
      "(1390438, 17)\n"
     ]
    }
   ],
   "source": [
    "train_target = pd.read_csv('../data/train_with_features.csv')\n",
    "\n",
    "train_target['clientid'] = train_target['clientid'].astype('uint32')\n",
    "train_target['jointitemid'] = train_target['jointitemid'].astype('uint32')\n",
    "train_target['novelty_cnt'] = train_target['novelty_cnt'].astype('uint32')\n",
    "train_target['itemid'] = train_target['itemid'].astype('uint32')\n",
    "train_target['label'] = train_target['label'].astype('uint8')\n",
    "\n",
    "print(train_target.shape)"
   ]
  },
  {
   "cell_type": "code",
   "execution_count": 6,
   "metadata": {
    "ExecuteTime": {
     "end_time": "2021-03-03T13:46:09.781469Z",
     "start_time": "2021-03-03T13:46:07.603720Z"
    }
   },
   "outputs": [
    {
     "name": "stdout",
     "output_type": "stream",
     "text": [
      "(597158, 17)\n"
     ]
    }
   ],
   "source": [
    "test_target = pd.read_csv('../data/test_with_features.csv')\n",
    "\n",
    "test_target['clientid'] = test_target['clientid'].astype('uint32')\n",
    "test_target['jointitemid'] = test_target['jointitemid'].astype('uint32')\n",
    "test_target['novelty_cnt'] = test_target['novelty_cnt'].astype('uint32')\n",
    "test_target['itemid'] = test_target['itemid'].astype('uint32')\n",
    "test_target['label'] = test_target['label'].astype('uint8')\n",
    "\n",
    "print(test_target.shape)"
   ]
  },
  {
   "cell_type": "code",
   "execution_count": 7,
   "metadata": {
    "ExecuteTime": {
     "end_time": "2021-03-03T13:46:32.162609Z",
     "start_time": "2021-03-03T13:46:09.787465Z"
    },
    "colab": {
     "base_uri": "https://localhost:8080/",
     "height": 204
    },
    "colab_type": "code",
    "executionInfo": {
     "elapsed": 3538,
     "status": "ok",
     "timestamp": 1573081592342,
     "user": {
      "displayName": "Павел Парфенов",
      "photoUrl": "",
      "userId": "00456899921274964308"
     },
     "user_tz": -180
    },
    "id": "i_dY-aOr-02n",
    "outputId": "e35f2fac-6fdc-405e-d6b6-8758e4ccd839"
   },
   "outputs": [
    {
     "name": "stdout",
     "output_type": "stream",
     "text": [
      "(38956702, 4)\n"
     ]
    },
    {
     "data": {
      "text/html": [
       "<div>\n",
       "<style scoped>\n",
       "    .dataframe tbody tr th:only-of-type {\n",
       "        vertical-align: middle;\n",
       "    }\n",
       "\n",
       "    .dataframe tbody tr th {\n",
       "        vertical-align: top;\n",
       "    }\n",
       "\n",
       "    .dataframe thead th {\n",
       "        text-align: right;\n",
       "    }\n",
       "</style>\n",
       "<table border=\"1\" class=\"dataframe\">\n",
       "  <thead>\n",
       "    <tr style=\"text-align: right;\">\n",
       "      <th></th>\n",
       "      <th>sessionid</th>\n",
       "      <th>itemid</th>\n",
       "      <th>action_type</th>\n",
       "      <th>event_date</th>\n",
       "    </tr>\n",
       "  </thead>\n",
       "  <tbody>\n",
       "    <tr>\n",
       "      <th>0</th>\n",
       "      <td>0</td>\n",
       "      <td>146494488</td>\n",
       "      <td>False</td>\n",
       "      <td>737290</td>\n",
       "    </tr>\n",
       "    <tr>\n",
       "      <th>1</th>\n",
       "      <td>0</td>\n",
       "      <td>147656978</td>\n",
       "      <td>False</td>\n",
       "      <td>737290</td>\n",
       "    </tr>\n",
       "    <tr>\n",
       "      <th>2</th>\n",
       "      <td>0</td>\n",
       "      <td>136271000</td>\n",
       "      <td>False</td>\n",
       "      <td>737290</td>\n",
       "    </tr>\n",
       "    <tr>\n",
       "      <th>3</th>\n",
       "      <td>0</td>\n",
       "      <td>147019789</td>\n",
       "      <td>False</td>\n",
       "      <td>737290</td>\n",
       "    </tr>\n",
       "    <tr>\n",
       "      <th>4</th>\n",
       "      <td>0</td>\n",
       "      <td>32117708</td>\n",
       "      <td>False</td>\n",
       "      <td>737290</td>\n",
       "    </tr>\n",
       "  </tbody>\n",
       "</table>\n",
       "</div>"
      ],
      "text/plain": [
       "   sessionid     itemid  action_type  event_date\n",
       "0          0  146494488        False      737290\n",
       "1          0  147656978        False      737290\n",
       "2          0  136271000        False      737290\n",
       "3          0  147019789        False      737290\n",
       "4          0   32117708        False      737290"
      ]
     },
     "execution_count": 7,
     "metadata": {},
     "output_type": "execute_result"
    }
   ],
   "source": [
    "sessions = pd.read_parquet('../data/sessions.parquet')\n",
    "\n",
    "sessions['sessionid'] = sessions['sessionid'].astype('uint32')\n",
    "sessions['itemid'] = sessions['itemid'].astype('uint32')\n",
    "sessions['action_type'] = sessions['action_type'].astype('bool')\n",
    "sessions['event_date'] = sessions['event_date'].apply(dt.datetime.toordinal).astype('uint32')\n",
    "\n",
    "print(sessions.shape)\n",
    "sessions.head()"
   ]
  },
  {
   "cell_type": "markdown",
   "metadata": {
    "ExecuteTime": {
     "end_time": "2021-02-13T11:58:02.616211Z",
     "start_time": "2021-02-13T11:58:02.595225Z"
    }
   },
   "source": [
    "Возвращаем три датафрейма с новой индексацией для просмотров товара."
   ]
  },
  {
   "cell_type": "code",
   "execution_count": 8,
   "metadata": {
    "ExecuteTime": {
     "end_time": "2021-03-03T13:46:48.183687Z",
     "start_time": "2021-03-03T13:46:37.002113Z"
    }
   },
   "outputs": [],
   "source": [
    "data_view = (\n",
    "    sessions[~sessions['action_type']]\n",
    "    .reset_index(drop=True)\n",
    "    .drop(['event_date', 'action_type'], axis=1)\n",
    ")\n",
    "\n",
    "session_view, session_mapping_view, item_mapping_view = reindexing_sessionid_itemid(data_view)"
   ]
  },
  {
   "cell_type": "markdown",
   "metadata": {},
   "source": [
    "Возвращаем три датафрейма с новой индексацией для добавлений товаров в корзину."
   ]
  },
  {
   "cell_type": "code",
   "execution_count": 9,
   "metadata": {
    "ExecuteTime": {
     "end_time": "2021-03-03T13:46:50.956114Z",
     "start_time": "2021-03-03T13:46:48.186685Z"
    }
   },
   "outputs": [],
   "source": [
    "data_tocart = (\n",
    "    sessions[sessions['action_type']]\n",
    "    .reset_index(drop=True)\n",
    "    .drop(['event_date', 'action_type'], axis=1)\n",
    ")\n",
    "\n",
    "session_tocart, session_mapping_tocart, item_mapping_tocart = reindexing_sessionid_itemid(data_tocart)"
   ]
  },
  {
   "cell_type": "markdown",
   "metadata": {},
   "source": [
    "### Создадим матрицу товар/сессия."
   ]
  },
  {
   "cell_type": "code",
   "execution_count": 10,
   "metadata": {
    "ExecuteTime": {
     "end_time": "2021-03-03T13:46:57.603586Z",
     "start_time": "2021-03-03T13:46:54.252511Z"
    },
    "colab": {},
    "colab_type": "code",
    "id": "KCmqh8hrLGtD"
   },
   "outputs": [
    {
     "data": {
      "text/plain": [
       "(2001182, 5549526)"
      ]
     },
     "execution_count": 10,
     "metadata": {},
     "output_type": "execute_result"
    }
   ],
   "source": [
    "# Для просмотров\n",
    "shape_view = (\n",
    "    item_mapping_view['new'].max()+1, \n",
    "    session_mapping_view['new'].max()+1\n",
    ")\n",
    "\n",
    "item_session_view = sp.csr_matrix(arg1=(np.ones_like(session_view['sessionid'].values), \n",
    "                                       (session_view['itemid'].values, session_view['sessionid'].values)),\n",
    "                                  shape=shape_view)\n",
    "item_session_view.shape"
   ]
  },
  {
   "cell_type": "code",
   "execution_count": 11,
   "metadata": {
    "ExecuteTime": {
     "end_time": "2021-03-03T13:46:58.225228Z",
     "start_time": "2021-03-03T13:46:57.606584Z"
    },
    "colab": {},
    "colab_type": "code",
    "id": "bBQrUqYtWIHe"
   },
   "outputs": [
    {
     "data": {
      "text/plain": [
       "(889787, 2240637)"
      ]
     },
     "execution_count": 11,
     "metadata": {},
     "output_type": "execute_result"
    }
   ],
   "source": [
    "# Для добавлений в корзину\n",
    "shape_tocart = (\n",
    "    item_mapping_tocart['new'].max()+1,\n",
    "    session_mapping_tocart['new'].max()+1\n",
    ")\n",
    "\n",
    "item_session_tocart = sp.csr_matrix(arg1=(np.ones_like(session_tocart['sessionid'].values), \n",
    "                                       (session_tocart['itemid'].values, session_tocart['sessionid'].values)),\n",
    "                                    shape=shape_tocart)\n",
    "item_session_tocart.shape"
   ]
  },
  {
   "cell_type": "markdown",
   "metadata": {
    "colab_type": "text",
    "id": "Hfi5NqhmZkt9"
   },
   "source": [
    "### Посчитаем признаки косинусной схожести для сессий"
   ]
  },
  {
   "cell_type": "markdown",
   "metadata": {},
   "source": [
    "### Train"
   ]
  },
  {
   "cell_type": "code",
   "execution_count": 12,
   "metadata": {
    "ExecuteTime": {
     "end_time": "2021-03-03T13:47:30.820671Z",
     "start_time": "2021-03-03T13:47:29.906179Z"
    },
    "colab": {
     "base_uri": "https://localhost:8080/",
     "height": 187
    },
    "colab_type": "code",
    "executionInfo": {
     "elapsed": 2560,
     "status": "ok",
     "timestamp": 1573084976103,
     "user": {
      "displayName": "Павел Парфенов",
      "photoUrl": "",
      "userId": "00456899921274964308"
     },
     "user_tz": -180
    },
    "id": "2XYDpAI5wRfP",
    "outputId": "910c761a-a6e3-4e30-ac65-7d3fbd4af444"
   },
   "outputs": [],
   "source": [
    "train_target_view = train_target.drop(columns=['timestamp', 'label'])\n",
    "\n",
    "train_target_view['item_cat'] = (\n",
    "    train_target_view['itemid']\n",
    "    .map(item_mapping_view.set_index('old')['new'])\n",
    ")\n",
    "\n",
    "train_target_view['jointitem_cat'] = (\n",
    "    train_target_view['jointitemid']\n",
    "    .map(item_mapping_view.set_index('old')['new'])\n",
    ")"
   ]
  },
  {
   "cell_type": "code",
   "execution_count": 13,
   "metadata": {
    "ExecuteTime": {
     "end_time": "2021-03-03T13:48:03.638148Z",
     "start_time": "2021-03-03T13:48:03.034499Z"
    },
    "colab": {
     "base_uri": "https://localhost:8080/",
     "height": 187
    },
    "colab_type": "code",
    "executionInfo": {
     "elapsed": 1670,
     "status": "ok",
     "timestamp": 1573084982002,
     "user": {
      "displayName": "Павел Парфенов",
      "photoUrl": "",
      "userId": "00456899921274964308"
     },
     "user_tz": -180
    },
    "id": "z-LvZIA1SFyv",
    "outputId": "fa599998-386a-47d5-cf5a-b304f311b0db"
   },
   "outputs": [],
   "source": [
    "train_target_tocart = train_target.drop(columns=['timestamp', 'label'])\n",
    "\n",
    "train_target_tocart['item_cat'] = (\n",
    "    train_target_tocart['itemid']\n",
    "    .map(item_mapping_tocart.set_index('old')['new'])\n",
    ")\n",
    "\n",
    "train_target_tocart['jointitem_cat'] = (\n",
    "    train_target_tocart['jointitemid']\n",
    "    .map(item_mapping_tocart.set_index('old')['new'])\n",
    ")"
   ]
  },
  {
   "cell_type": "code",
   "execution_count": 14,
   "metadata": {
    "ExecuteTime": {
     "end_time": "2021-03-03T13:48:50.008282Z",
     "start_time": "2021-03-03T13:48:06.742174Z"
    },
    "colab": {},
    "colab_type": "code",
    "id": "7ZQwIoRjCxtf"
   },
   "outputs": [],
   "source": [
    "train_view = calculate_session_similarity(train_target_view, item_session_view, 'view')\n",
    "train_tocart = calculate_session_similarity(train_target_tocart, item_session_tocart, 'tocart')"
   ]
  },
  {
   "cell_type": "code",
   "execution_count": 15,
   "metadata": {
    "ExecuteTime": {
     "end_time": "2021-03-03T13:51:15.309256Z",
     "start_time": "2021-03-03T13:51:02.221422Z"
    },
    "colab": {
     "base_uri": "https://localhost:8080/",
     "height": 204
    },
    "colab_type": "code",
    "executionInfo": {
     "elapsed": 3228,
     "status": "ok",
     "timestamp": 1573088103350,
     "user": {
      "displayName": "Павел Парфенов",
      "photoUrl": "",
      "userId": "00456899921274964308"
     },
     "user_tz": -180
    },
    "id": "Un1fqizRId1l",
    "outputId": "a5d88691-3c19-4ce0-ffeb-9e56c3ce3fab"
   },
   "outputs": [
    {
     "name": "stdout",
     "output_type": "stream",
     "text": [
      "(1390438, 17)\n",
      "(1390438, 21)\n"
     ]
    }
   ],
   "source": [
    "print(train_target.shape)\n",
    "\n",
    "train = (\n",
    "    train_target\n",
    "    .merge(train_view[['itemid', 'jointitemid', 'same_items_on_session_view',\n",
    "                       'count_on_session_view']], how='left')\n",
    "    .drop_duplicates()\n",
    "    .reset_index(drop=True)\n",
    ")\n",
    "\n",
    "train = (\n",
    "    train\n",
    "    .merge(train_tocart[['itemid','jointitemid','same_items_on_session_tocart',\n",
    "                         'count_on_session_tocart']], how='left')\n",
    "    .drop_duplicates()\n",
    "    .reset_index(drop=True)\n",
    ")\n",
    "\n",
    "print(train.shape)"
   ]
  },
  {
   "cell_type": "code",
   "execution_count": 16,
   "metadata": {
    "ExecuteTime": {
     "end_time": "2021-03-03T13:51:15.921903Z",
     "start_time": "2021-03-03T13:51:15.312253Z"
    },
    "colab": {
     "base_uri": "https://localhost:8080/",
     "height": 394
    },
    "colab_type": "code",
    "executionInfo": {
     "elapsed": 505,
     "status": "ok",
     "timestamp": 1573088116540,
     "user": {
      "displayName": "Павел Парфенов",
      "photoUrl": "",
      "userId": "00456899921274964308"
     },
     "user_tz": -180
    },
    "id": "b3vTSvDGN4T8",
    "outputId": "088a4a30-e312-46d2-ae65-125c2467be77"
   },
   "outputs": [
    {
     "data": {
      "text/html": [
       "<div>\n",
       "<style scoped>\n",
       "    .dataframe tbody tr th:only-of-type {\n",
       "        vertical-align: middle;\n",
       "    }\n",
       "\n",
       "    .dataframe tbody tr th {\n",
       "        vertical-align: top;\n",
       "    }\n",
       "\n",
       "    .dataframe thead th {\n",
       "        text-align: right;\n",
       "    }\n",
       "</style>\n",
       "<table border=\"1\" class=\"dataframe\">\n",
       "  <thead>\n",
       "    <tr style=\"text-align: right;\">\n",
       "      <th></th>\n",
       "      <th>clientid</th>\n",
       "      <th>itemid</th>\n",
       "      <th>jointitemid</th>\n",
       "      <th>label</th>\n",
       "      <th>timestamp</th>\n",
       "      <th>view_cnt</th>\n",
       "      <th>to_cart_cnt</th>\n",
       "      <th>ctr</th>\n",
       "      <th>novelty_cnt</th>\n",
       "      <th>mean_amount_per_day_view</th>\n",
       "      <th>mean_amount_per_day_to_cart</th>\n",
       "      <th>last_day_views_cnt</th>\n",
       "      <th>last_day_to_cart_cnt</th>\n",
       "      <th>relation_ldv_mean</th>\n",
       "      <th>relation_ldtocart_mean</th>\n",
       "      <th>mnk_view</th>\n",
       "      <th>mnk_to_cart</th>\n",
       "      <th>same_items_on_session_view</th>\n",
       "      <th>count_on_session_view</th>\n",
       "      <th>same_items_on_session_tocart</th>\n",
       "      <th>count_on_session_tocart</th>\n",
       "    </tr>\n",
       "  </thead>\n",
       "  <tbody>\n",
       "    <tr>\n",
       "      <th>0</th>\n",
       "      <td>7833842</td>\n",
       "      <td>31499843</td>\n",
       "      <td>138176581</td>\n",
       "      <td>1</td>\n",
       "      <td>2019-09-07 20:11:01</td>\n",
       "      <td>31.0</td>\n",
       "      <td>9.0</td>\n",
       "      <td>0.28125</td>\n",
       "      <td>737272</td>\n",
       "      <td>1.722222</td>\n",
       "      <td>1.500</td>\n",
       "      <td>0.0</td>\n",
       "      <td>0.0</td>\n",
       "      <td>0.0</td>\n",
       "      <td>0.0</td>\n",
       "      <td>0.107143</td>\n",
       "      <td>0.035714</td>\n",
       "      <td>0.000000</td>\n",
       "      <td>0</td>\n",
       "      <td>0.069338</td>\n",
       "      <td>1</td>\n",
       "    </tr>\n",
       "    <tr>\n",
       "      <th>1</th>\n",
       "      <td>19548158</td>\n",
       "      <td>147389610</td>\n",
       "      <td>148381589</td>\n",
       "      <td>0</td>\n",
       "      <td>2019-08-31 22:32:31</td>\n",
       "      <td>24.0</td>\n",
       "      <td>9.0</td>\n",
       "      <td>0.36000</td>\n",
       "      <td>737272</td>\n",
       "      <td>1.600000</td>\n",
       "      <td>1.125</td>\n",
       "      <td>0.0</td>\n",
       "      <td>0.0</td>\n",
       "      <td>0.0</td>\n",
       "      <td>0.0</td>\n",
       "      <td>-0.035714</td>\n",
       "      <td>0.000000</td>\n",
       "      <td>0.160623</td>\n",
       "      <td>5</td>\n",
       "      <td>0.308607</td>\n",
       "      <td>2</td>\n",
       "    </tr>\n",
       "  </tbody>\n",
       "</table>\n",
       "</div>"
      ],
      "text/plain": [
       "   clientid     itemid  jointitemid  label            timestamp  view_cnt  \\\n",
       "0   7833842   31499843    138176581      1  2019-09-07 20:11:01      31.0   \n",
       "1  19548158  147389610    148381589      0  2019-08-31 22:32:31      24.0   \n",
       "\n",
       "   to_cart_cnt      ctr  novelty_cnt  mean_amount_per_day_view  \\\n",
       "0          9.0  0.28125       737272                  1.722222   \n",
       "1          9.0  0.36000       737272                  1.600000   \n",
       "\n",
       "   mean_amount_per_day_to_cart  last_day_views_cnt  last_day_to_cart_cnt  \\\n",
       "0                        1.500                 0.0                   0.0   \n",
       "1                        1.125                 0.0                   0.0   \n",
       "\n",
       "   relation_ldv_mean  relation_ldtocart_mean  mnk_view  mnk_to_cart  \\\n",
       "0                0.0                     0.0  0.107143     0.035714   \n",
       "1                0.0                     0.0 -0.035714     0.000000   \n",
       "\n",
       "   same_items_on_session_view  count_on_session_view  \\\n",
       "0                    0.000000                      0   \n",
       "1                    0.160623                      5   \n",
       "\n",
       "   same_items_on_session_tocart  count_on_session_tocart  \n",
       "0                      0.069338                        1  \n",
       "1                      0.308607                        2  "
      ]
     },
     "execution_count": 16,
     "metadata": {},
     "output_type": "execute_result"
    }
   ],
   "source": [
    "train = train.fillna(0)\n",
    "train['count_on_session_view'] = train['count_on_session_view'].astype('uint32')\n",
    "train['count_on_session_tocart'] = train['count_on_session_tocart'].astype('uint32')\n",
    "\n",
    "train.head(2)"
   ]
  },
  {
   "cell_type": "markdown",
   "metadata": {
    "colab_type": "text",
    "id": "lyNVzziBN6b4"
   },
   "source": [
    "### Test"
   ]
  },
  {
   "cell_type": "code",
   "execution_count": 17,
   "metadata": {
    "ExecuteTime": {
     "end_time": "2021-03-03T13:51:31.055499Z",
     "start_time": "2021-03-03T13:51:30.252942Z"
    },
    "colab": {
     "base_uri": "https://localhost:8080/",
     "height": 204
    },
    "colab_type": "code",
    "executionInfo": {
     "elapsed": 2057,
     "status": "ok",
     "timestamp": 1573088217313,
     "user": {
      "displayName": "Павел Парфенов",
      "photoUrl": "",
      "userId": "00456899921274964308"
     },
     "user_tz": -180
    },
    "id": "ilLsJ4zAkaH0",
    "outputId": "e6224dfa-61d7-4a1b-ea60-4a3d389584e6"
   },
   "outputs": [],
   "source": [
    "test_target_view = test_target.drop(columns=['timestamp', 'label'])\n",
    "\n",
    "test_target_view['item_cat'] = (\n",
    "    test_target_view['itemid']\n",
    "    .map(item_mapping_view.set_index('old')['new'])\n",
    ")\n",
    "\n",
    "test_target_view['jointitem_cat'] = (\n",
    "    test_target_view['jointitemid']\n",
    "    .map(item_mapping_view.set_index('old')['new'])\n",
    ")"
   ]
  },
  {
   "cell_type": "code",
   "execution_count": 18,
   "metadata": {
    "ExecuteTime": {
     "end_time": "2021-03-03T13:51:57.765812Z",
     "start_time": "2021-03-03T13:51:57.345058Z"
    },
    "colab": {
     "base_uri": "https://localhost:8080/",
     "height": 187
    },
    "colab_type": "code",
    "executionInfo": {
     "elapsed": 1350,
     "status": "ok",
     "timestamp": 1573088221547,
     "user": {
      "displayName": "Павел Парфенов",
      "photoUrl": "",
      "userId": "00456899921274964308"
     },
     "user_tz": -180
    },
    "id": "TgNcu7jYlOJy",
    "outputId": "4f513a20-7ee1-4001-b11d-77651f65d0d7"
   },
   "outputs": [],
   "source": [
    "test_target_tocart = test_target.drop(columns=['timestamp', 'label'])\n",
    "\n",
    "test_target_tocart['item_cat'] = (\n",
    "    test_target_tocart['itemid']\n",
    "    .map(item_mapping_tocart.set_index('old')['new'])\n",
    ")\n",
    "\n",
    "test_target_tocart['jointitem_cat'] = (\n",
    "    test_target_tocart['jointitemid'].\n",
    "    map(item_mapping_tocart.set_index('old')['new'])\n",
    ")"
   ]
  },
  {
   "cell_type": "code",
   "execution_count": 19,
   "metadata": {
    "ExecuteTime": {
     "end_time": "2021-03-03T13:52:14.321328Z",
     "start_time": "2021-03-03T13:51:59.963558Z"
    },
    "colab": {},
    "colab_type": "code",
    "id": "CnG0yzpwlvst"
   },
   "outputs": [],
   "source": [
    "test_view = calculate_session_similarity(test_target_view, item_session_view, 'view')\n",
    "test_tocart = calculate_session_similarity(test_target_tocart, item_session_tocart, 'tocart')"
   ]
  },
  {
   "cell_type": "code",
   "execution_count": 20,
   "metadata": {
    "ExecuteTime": {
     "end_time": "2021-03-03T13:52:18.813727Z",
     "start_time": "2021-03-03T13:52:14.323307Z"
    },
    "colab": {},
    "colab_type": "code",
    "id": "g-uRnx0wn9Jm"
   },
   "outputs": [
    {
     "name": "stdout",
     "output_type": "stream",
     "text": [
      "(597158, 17)\n",
      "(597158, 21)\n"
     ]
    }
   ],
   "source": [
    "print(test_target.shape)\n",
    "\n",
    "test = (\n",
    "    test_target.merge(test_view[['itemid', 'jointitemid', 'same_items_on_session_view',\n",
    "                                 'count_on_session_view']], how='left')\n",
    "    .drop_duplicates()\n",
    "    .reset_index(drop=True)\n",
    ")\n",
    "\n",
    "test = (\n",
    "    test.merge(test_tocart[['itemid', 'jointitemid', 'same_items_on_session_tocart',\n",
    "                            'count_on_session_tocart']], how='left')\n",
    "    .drop_duplicates()\n",
    "    .reset_index(drop=True)\n",
    ")\n",
    "\n",
    "print(test.shape)"
   ]
  },
  {
   "cell_type": "code",
   "execution_count": 21,
   "metadata": {
    "ExecuteTime": {
     "end_time": "2021-03-03T13:52:19.176538Z",
     "start_time": "2021-03-03T13:52:18.816725Z"
    },
    "colab": {},
    "colab_type": "code",
    "id": "RU-TzCRPX90S"
   },
   "outputs": [
    {
     "data": {
      "text/html": [
       "<div>\n",
       "<style scoped>\n",
       "    .dataframe tbody tr th:only-of-type {\n",
       "        vertical-align: middle;\n",
       "    }\n",
       "\n",
       "    .dataframe tbody tr th {\n",
       "        vertical-align: top;\n",
       "    }\n",
       "\n",
       "    .dataframe thead th {\n",
       "        text-align: right;\n",
       "    }\n",
       "</style>\n",
       "<table border=\"1\" class=\"dataframe\">\n",
       "  <thead>\n",
       "    <tr style=\"text-align: right;\">\n",
       "      <th></th>\n",
       "      <th>clientid</th>\n",
       "      <th>itemid</th>\n",
       "      <th>jointitemid</th>\n",
       "      <th>label</th>\n",
       "      <th>timestamp</th>\n",
       "      <th>view_cnt</th>\n",
       "      <th>to_cart_cnt</th>\n",
       "      <th>ctr</th>\n",
       "      <th>novelty_cnt</th>\n",
       "      <th>mean_amount_per_day_view</th>\n",
       "      <th>mean_amount_per_day_to_cart</th>\n",
       "      <th>last_day_views_cnt</th>\n",
       "      <th>last_day_to_cart_cnt</th>\n",
       "      <th>relation_ldv_mean</th>\n",
       "      <th>relation_ldtocart_mean</th>\n",
       "      <th>mnk_view</th>\n",
       "      <th>mnk_to_cart</th>\n",
       "      <th>same_items_on_session_view</th>\n",
       "      <th>count_on_session_view</th>\n",
       "      <th>same_items_on_session_tocart</th>\n",
       "      <th>count_on_session_tocart</th>\n",
       "    </tr>\n",
       "  </thead>\n",
       "  <tbody>\n",
       "    <tr>\n",
       "      <th>0</th>\n",
       "      <td>8081929</td>\n",
       "      <td>152898248</td>\n",
       "      <td>152875664</td>\n",
       "      <td>0</td>\n",
       "      <td>2019-09-06 18:57:23</td>\n",
       "      <td>10.0</td>\n",
       "      <td>2.0</td>\n",
       "      <td>0.181818</td>\n",
       "      <td>737276</td>\n",
       "      <td>2.000000</td>\n",
       "      <td>1.000000</td>\n",
       "      <td>0.0</td>\n",
       "      <td>0.0</td>\n",
       "      <td>0.000000</td>\n",
       "      <td>0.000000</td>\n",
       "      <td>0.0</td>\n",
       "      <td>0.000000</td>\n",
       "      <td>0.000000</td>\n",
       "      <td>0</td>\n",
       "      <td>0.0</td>\n",
       "      <td>0</td>\n",
       "    </tr>\n",
       "    <tr>\n",
       "      <th>1</th>\n",
       "      <td>33378638</td>\n",
       "      <td>144847078</td>\n",
       "      <td>140715321</td>\n",
       "      <td>0</td>\n",
       "      <td>2019-09-02 07:09:31</td>\n",
       "      <td>211.0</td>\n",
       "      <td>19.0</td>\n",
       "      <td>0.089623</td>\n",
       "      <td>737272</td>\n",
       "      <td>7.814815</td>\n",
       "      <td>1.727273</td>\n",
       "      <td>11.0</td>\n",
       "      <td>1.0</td>\n",
       "      <td>1.407583</td>\n",
       "      <td>0.578947</td>\n",
       "      <td>0.0</td>\n",
       "      <td>-0.178571</td>\n",
       "      <td>0.023322</td>\n",
       "      <td>7</td>\n",
       "      <td>0.0</td>\n",
       "      <td>0</td>\n",
       "    </tr>\n",
       "  </tbody>\n",
       "</table>\n",
       "</div>"
      ],
      "text/plain": [
       "   clientid     itemid  jointitemid  label            timestamp  view_cnt  \\\n",
       "0   8081929  152898248    152875664      0  2019-09-06 18:57:23      10.0   \n",
       "1  33378638  144847078    140715321      0  2019-09-02 07:09:31     211.0   \n",
       "\n",
       "   to_cart_cnt       ctr  novelty_cnt  mean_amount_per_day_view  \\\n",
       "0          2.0  0.181818       737276                  2.000000   \n",
       "1         19.0  0.089623       737272                  7.814815   \n",
       "\n",
       "   mean_amount_per_day_to_cart  last_day_views_cnt  last_day_to_cart_cnt  \\\n",
       "0                     1.000000                 0.0                   0.0   \n",
       "1                     1.727273                11.0                   1.0   \n",
       "\n",
       "   relation_ldv_mean  relation_ldtocart_mean  mnk_view  mnk_to_cart  \\\n",
       "0           0.000000                0.000000       0.0     0.000000   \n",
       "1           1.407583                0.578947       0.0    -0.178571   \n",
       "\n",
       "   same_items_on_session_view  count_on_session_view  \\\n",
       "0                    0.000000                      0   \n",
       "1                    0.023322                      7   \n",
       "\n",
       "   same_items_on_session_tocart  count_on_session_tocart  \n",
       "0                           0.0                        0  \n",
       "1                           0.0                        0  "
      ]
     },
     "execution_count": 21,
     "metadata": {},
     "output_type": "execute_result"
    }
   ],
   "source": [
    "test = test.fillna(0)\n",
    "test['count_on_session_view'] = test['count_on_session_view'].astype('uint32')\n",
    "test['count_on_session_tocart'] = test['count_on_session_tocart'].astype('uint32')\n",
    "\n",
    "test.head(2)"
   ]
  },
  {
   "cell_type": "markdown",
   "metadata": {
    "colab_type": "text",
    "id": "OdzyTe1tghFU"
   },
   "source": [
    "### Сохраняем принаки"
   ]
  },
  {
   "cell_type": "code",
   "execution_count": 24,
   "metadata": {
    "ExecuteTime": {
     "end_time": "2021-03-03T13:53:42.361627Z",
     "start_time": "2021-03-03T13:52:59.487162Z"
    },
    "colab": {},
    "colab_type": "code",
    "id": "PuMIHb3qXwaf"
   },
   "outputs": [],
   "source": [
    "train.to_csv('../data/train_with_features.csv', index=False)\n",
    "test.to_csv('../data/test_with_features.csv', index=False)"
   ]
  }
 ],
 "metadata": {
  "colab": {
   "collapsed_sections": [],
   "name": "session_same.ipynb",
   "provenance": []
  },
  "kernelspec": {
   "display_name": "Python 3",
   "language": "python",
   "name": "python3"
  },
  "language_info": {
   "codemirror_mode": {
    "name": "ipython",
    "version": 3
   },
   "file_extension": ".py",
   "mimetype": "text/x-python",
   "name": "python",
   "nbconvert_exporter": "python",
   "pygments_lexer": "ipython3",
   "version": "3.7.6"
  }
 },
 "nbformat": 4,
 "nbformat_minor": 1
}
