{
 "cells": [
  {
   "cell_type": "markdown",
   "metadata": {},
   "source": [
    "В данном ноутбуке рассчитывается схожесть товаров по текстовому описанию"
   ]
  },
  {
   "cell_type": "code",
   "execution_count": 1,
   "metadata": {
    "ExecuteTime": {
     "end_time": "2021-03-01T23:27:01.935617Z",
     "start_time": "2021-03-01T23:27:01.927621Z"
    },
    "colab": {
     "base_uri": "https://localhost:8080/",
     "height": 360
    },
    "colab_type": "code",
    "executionInfo": {
     "elapsed": 14845,
     "status": "ok",
     "timestamp": 1572377221341,
     "user": {
      "displayName": "Алена Тимофеева",
      "photoUrl": "",
      "userId": "17526456028262676023"
     },
     "user_tz": -180
    },
    "id": "4n0pxrz33snn",
    "outputId": "408a5694-d85d-4c31-e128-25947a4341d7",
    "scrolled": true
   },
   "outputs": [],
   "source": [
    "# !{sys.executable} -m pip install pymystem3\n",
    "# !{sys.executable} -m pip install nltk"
   ]
  },
  {
   "cell_type": "code",
   "execution_count": 2,
   "metadata": {
    "ExecuteTime": {
     "end_time": "2021-03-01T23:27:02.022567Z",
     "start_time": "2021-03-01T23:27:01.941613Z"
    }
   },
   "outputs": [],
   "source": [
    "%load_ext autoreload\n",
    "%autoreload 2"
   ]
  },
  {
   "cell_type": "code",
   "execution_count": 3,
   "metadata": {
    "ExecuteTime": {
     "end_time": "2021-03-01T23:27:02.085530Z",
     "start_time": "2021-03-01T23:27:02.026564Z"
    }
   },
   "outputs": [],
   "source": [
    "import sys\n",
    "sys.path.append('../src')"
   ]
  },
  {
   "cell_type": "code",
   "execution_count": 4,
   "metadata": {
    "ExecuteTime": {
     "end_time": "2021-03-01T23:27:07.204673Z",
     "start_time": "2021-03-01T23:27:02.088529Z"
    },
    "colab": {},
    "colab_type": "code",
    "id": "mV5Ytg683snJ"
   },
   "outputs": [],
   "source": [
    "import nltk\n",
    "import numpy as np\n",
    "import dask.dataframe as dd\n",
    "from pymystem3 import Mystem\n",
    "from nltk.corpus import stopwords\n",
    "from gensim.models import KeyedVectors\n",
    "from sklearn.feature_extraction.text import TfidfVectorizer\n",
    "from text_preprocessing import text_preprocessing\n",
    "from cosine_similarity import calculate_text_similarity\n",
    "from reindexing import reindexing_itemid\n",
    "import pandas as pd; pd.set_option('display.max_columns', None)\n",
    "pd.options.mode.chained_assignment = None"
   ]
  },
  {
   "cell_type": "code",
   "execution_count": 5,
   "metadata": {
    "ExecuteTime": {
     "end_time": "2021-03-01T23:27:07.343569Z",
     "start_time": "2021-03-01T23:27:07.206627Z"
    }
   },
   "outputs": [],
   "source": [
    "# nltk.download('stopwords')"
   ]
  },
  {
   "cell_type": "code",
   "execution_count": 6,
   "metadata": {
    "ExecuteTime": {
     "end_time": "2021-03-01T23:27:07.500458Z",
     "start_time": "2021-03-01T23:27:07.346547Z"
    },
    "colab": {
     "base_uri": "https://localhost:8080/",
     "height": 34
    },
    "colab_type": "code",
    "executionInfo": {
     "elapsed": 987,
     "status": "ok",
     "timestamp": 1572379702855,
     "user": {
      "displayName": "Алена Тимофеева",
      "photoUrl": "",
      "userId": "17526456028262676023"
     },
     "user_tz": -180
    },
    "id": "61cAKs9R_QAZ",
    "outputId": "9b552741-70eb-4d95-889b-df26215b7a49"
   },
   "outputs": [],
   "source": [
    "# from google.colab import drive\n",
    "# drive.mount('/content/gdrive')"
   ]
  },
  {
   "cell_type": "markdown",
   "metadata": {},
   "source": [
    "### Считывание и предобработка данных"
   ]
  },
  {
   "cell_type": "code",
   "execution_count": 7,
   "metadata": {
    "ExecuteTime": {
     "end_time": "2021-03-01T23:27:16.391626Z",
     "start_time": "2021-03-01T23:27:07.505457Z"
    },
    "colab": {},
    "colab_type": "code",
    "id": "pK9C6Ekz3sn7"
   },
   "outputs": [
    {
     "name": "stdout",
     "output_type": "stream",
     "text": [
      "(1260590, 3)\n"
     ]
    },
    {
     "data": {
      "text/html": [
       "<div>\n",
       "<style scoped>\n",
       "    .dataframe tbody tr th:only-of-type {\n",
       "        vertical-align: middle;\n",
       "    }\n",
       "\n",
       "    .dataframe tbody tr th {\n",
       "        vertical-align: top;\n",
       "    }\n",
       "\n",
       "    .dataframe thead th {\n",
       "        text-align: right;\n",
       "    }\n",
       "</style>\n",
       "<table border=\"1\" class=\"dataframe\">\n",
       "  <thead>\n",
       "    <tr style=\"text-align: right;\">\n",
       "      <th></th>\n",
       "      <th>itemid</th>\n",
       "      <th>attribute_name</th>\n",
       "      <th>attribute_value</th>\n",
       "    </tr>\n",
       "  </thead>\n",
       "  <tbody>\n",
       "    <tr>\n",
       "      <th>0</th>\n",
       "      <td>90672</td>\n",
       "      <td>False</td>\n",
       "      <td>Одиночка - Джек</td>\n",
       "    </tr>\n",
       "    <tr>\n",
       "      <th>1</th>\n",
       "      <td>90672</td>\n",
       "      <td>True</td>\n",
       "      <td>Аллан, герой романа `Новичок`, не был преступн...</td>\n",
       "    </tr>\n",
       "    <tr>\n",
       "      <th>2</th>\n",
       "      <td>100658</td>\n",
       "      <td>False</td>\n",
       "      <td>Начала численного анализа</td>\n",
       "    </tr>\n",
       "    <tr>\n",
       "      <th>3</th>\n",
       "      <td>100658</td>\n",
       "      <td>True</td>\n",
       "      <td>Написана по материалом лекций,  которые, один ...</td>\n",
       "    </tr>\n",
       "    <tr>\n",
       "      <th>4</th>\n",
       "      <td>120997</td>\n",
       "      <td>False</td>\n",
       "      <td>Физика процессов эволюции</td>\n",
       "    </tr>\n",
       "  </tbody>\n",
       "</table>\n",
       "</div>"
      ],
      "text/plain": [
       "   itemid  attribute_name                                    attribute_value\n",
       "0   90672           False                                    Одиночка - Джек\n",
       "1   90672            True  Аллан, герой романа `Новичок`, не был преступн...\n",
       "2  100658           False                          Начала численного анализа\n",
       "3  100658            True  Написана по материалом лекций,  которые, один ...\n",
       "4  120997           False                          Физика процессов эволюции"
      ]
     },
     "execution_count": 7,
     "metadata": {},
     "output_type": "execute_result"
    }
   ],
   "source": [
    "details = pd.read_csv('../data/details.csv')\n",
    "\n",
    "details['attribute_name'] = (\n",
    "    details['attribute_name']\n",
    "    .map({'Name': 0, 'Annotation': 1})\n",
    "    .astype('bool')\n",
    ")\n",
    "\n",
    "print(details.shape)\n",
    "details.head()"
   ]
  },
  {
   "cell_type": "code",
   "execution_count": 8,
   "metadata": {
    "ExecuteTime": {
     "end_time": "2021-03-01T23:27:21.876472Z",
     "start_time": "2021-03-01T23:27:16.395621Z"
    },
    "scrolled": true
   },
   "outputs": [
    {
     "data": {
      "text/plain": [
       "(1390438, 25)"
      ]
     },
     "execution_count": 8,
     "metadata": {},
     "output_type": "execute_result"
    }
   ],
   "source": [
    "train_target = pd.read_csv('../data/train_with_features.csv')\n",
    "\n",
    "train_target['clientid'] = train_target['clientid'].astype('uint32')\n",
    "train_target['jointitemid'] = train_target['jointitemid'].astype('uint32')\n",
    "train_target['label'] = train_target['label'].astype('int8')\n",
    "train_target['novelty_cnt'] = train_target['novelty_cnt'].astype('int32')\n",
    "train_target['count_on_session_view'] = train_target['count_on_session_view'].astype('int32')\n",
    "train_target['count_on_session_tocart'] = train_target['count_on_session_tocart'].astype('int32')\n",
    "\n",
    "train_target.shape"
   ]
  },
  {
   "cell_type": "code",
   "execution_count": 9,
   "metadata": {
    "ExecuteTime": {
     "end_time": "2021-03-01T23:27:24.308185Z",
     "start_time": "2021-03-01T23:27:21.878472Z"
    },
    "scrolled": true
   },
   "outputs": [
    {
     "data": {
      "text/plain": [
       "(597158, 25)"
      ]
     },
     "execution_count": 9,
     "metadata": {},
     "output_type": "execute_result"
    }
   ],
   "source": [
    "test_target = pd.read_csv('../data/test_with_features.csv')\n",
    "\n",
    "test_target['clientid'] = test_target['clientid'].astype('uint32')\n",
    "test_target['jointitemid'] = test_target['jointitemid'].astype('uint32')\n",
    "test_target['label'] = test_target['label'].astype('int8')\n",
    "test_target['novelty_cnt'] = test_target['novelty_cnt'].astype('int32')\n",
    "test_target['count_on_session_view'] = test_target['count_on_session_view'].astype('int32')\n",
    "test_target['count_on_session_tocart'] = test_target['count_on_session_tocart'].astype('int32')\n",
    "\n",
    "test_target.shape"
   ]
  },
  {
   "cell_type": "markdown",
   "metadata": {},
   "source": [
    "### Препроцессинг текста"
   ]
  },
  {
   "cell_type": "code",
   "execution_count": 10,
   "metadata": {
    "ExecuteTime": {
     "end_time": "2021-03-01T23:30:44.983834Z",
     "start_time": "2021-03-01T23:27:24.310182Z"
    }
   },
   "outputs": [],
   "source": [
    "details['attribute_value'] = text_preprocessing(details['attribute_value'],\n",
    "                                                stopwords.words('russian'))"
   ]
  },
  {
   "cell_type": "markdown",
   "metadata": {},
   "source": [
    "### Разбитие данных по аннотациям и названиям"
   ]
  },
  {
   "cell_type": "markdown",
   "metadata": {},
   "source": [
    "#### Названия"
   ]
  },
  {
   "cell_type": "code",
   "execution_count": 11,
   "metadata": {
    "ExecuteTime": {
     "end_time": "2021-03-01T23:30:45.559415Z",
     "start_time": "2021-03-01T23:30:44.986744Z"
    },
    "colab": {
     "base_uri": "https://localhost:8080/",
     "height": 204
    },
    "colab_type": "code",
    "executionInfo": {
     "elapsed": 1066,
     "status": "ok",
     "timestamp": 1572385153888,
     "user": {
      "displayName": "Алена Тимофеева",
      "photoUrl": "",
      "userId": "17526456028262676023"
     },
     "user_tz": -180
    },
    "id": "uBoemJ_R3sot",
    "outputId": "8ec05a7f-9134-43ad-a6b0-692d11b549e3",
    "scrolled": true
   },
   "outputs": [
    {
     "name": "stdout",
     "output_type": "stream",
     "text": [
      "(653916, 3)\n"
     ]
    },
    {
     "data": {
      "text/html": [
       "<div>\n",
       "<style scoped>\n",
       "    .dataframe tbody tr th:only-of-type {\n",
       "        vertical-align: middle;\n",
       "    }\n",
       "\n",
       "    .dataframe tbody tr th {\n",
       "        vertical-align: top;\n",
       "    }\n",
       "\n",
       "    .dataframe thead th {\n",
       "        text-align: right;\n",
       "    }\n",
       "</style>\n",
       "<table border=\"1\" class=\"dataframe\">\n",
       "  <thead>\n",
       "    <tr style=\"text-align: right;\">\n",
       "      <th></th>\n",
       "      <th>itemid</th>\n",
       "      <th>attribute_name</th>\n",
       "      <th>attribute_value</th>\n",
       "    </tr>\n",
       "  </thead>\n",
       "  <tbody>\n",
       "    <tr>\n",
       "      <th>0</th>\n",
       "      <td>0</td>\n",
       "      <td>False</td>\n",
       "      <td>одиночка джек</td>\n",
       "    </tr>\n",
       "    <tr>\n",
       "      <th>2</th>\n",
       "      <td>1</td>\n",
       "      <td>False</td>\n",
       "      <td>начала численного анализа</td>\n",
       "    </tr>\n",
       "    <tr>\n",
       "      <th>4</th>\n",
       "      <td>2</td>\n",
       "      <td>False</td>\n",
       "      <td>физика процессов эволюции</td>\n",
       "    </tr>\n",
       "    <tr>\n",
       "      <th>6</th>\n",
       "      <td>3</td>\n",
       "      <td>False</td>\n",
       "      <td>уроки госпожи мелодии учебник класса детских м...</td>\n",
       "    </tr>\n",
       "    <tr>\n",
       "      <th>8</th>\n",
       "      <td>4</td>\n",
       "      <td>False</td>\n",
       "      <td>эрнест хемингуэй собрание сочинений четырех томах</td>\n",
       "    </tr>\n",
       "  </tbody>\n",
       "</table>\n",
       "</div>"
      ],
      "text/plain": [
       "  itemid  attribute_name                                    attribute_value\n",
       "0      0           False                                      одиночка джек\n",
       "2      1           False                          начала численного анализа\n",
       "4      2           False                          физика процессов эволюции\n",
       "6      3           False  уроки госпожи мелодии учебник класса детских м...\n",
       "8      4           False  эрнест хемингуэй собрание сочинений четырех томах"
      ]
     },
     "execution_count": 11,
     "metadata": {},
     "output_type": "execute_result"
    }
   ],
   "source": [
    "df_title = (\n",
    "    details[~details['attribute_name']]\n",
    "    .fillna('nan')\n",
    ")\n",
    "\n",
    "df_title['itemid'], items_mapping_name = reindexing_itemid(df_title)\n",
    "\n",
    "print(df_title.shape)\n",
    "df_title.head()"
   ]
  },
  {
   "cell_type": "markdown",
   "metadata": {},
   "source": [
    "#### Аннотации"
   ]
  },
  {
   "cell_type": "code",
   "execution_count": 12,
   "metadata": {
    "ExecuteTime": {
     "end_time": "2021-03-01T23:30:46.177060Z",
     "start_time": "2021-03-01T23:30:45.562414Z"
    },
    "colab": {
     "base_uri": "https://localhost:8080/",
     "height": 204
    },
    "colab_type": "code",
    "executionInfo": {
     "elapsed": 721,
     "status": "ok",
     "timestamp": 1572385149670,
     "user": {
      "displayName": "Алена Тимофеева",
      "photoUrl": "",
      "userId": "17526456028262676023"
     },
     "user_tz": -180
    },
    "id": "LBBYueiq3soq",
    "outputId": "3a45075e-c2fa-4141-cfd9-16eab823f4e6",
    "scrolled": true
   },
   "outputs": [
    {
     "name": "stdout",
     "output_type": "stream",
     "text": [
      "(606674, 3)\n"
     ]
    },
    {
     "data": {
      "text/html": [
       "<div>\n",
       "<style scoped>\n",
       "    .dataframe tbody tr th:only-of-type {\n",
       "        vertical-align: middle;\n",
       "    }\n",
       "\n",
       "    .dataframe tbody tr th {\n",
       "        vertical-align: top;\n",
       "    }\n",
       "\n",
       "    .dataframe thead th {\n",
       "        text-align: right;\n",
       "    }\n",
       "</style>\n",
       "<table border=\"1\" class=\"dataframe\">\n",
       "  <thead>\n",
       "    <tr style=\"text-align: right;\">\n",
       "      <th></th>\n",
       "      <th>itemid</th>\n",
       "      <th>attribute_name</th>\n",
       "      <th>attribute_value</th>\n",
       "    </tr>\n",
       "  </thead>\n",
       "  <tbody>\n",
       "    <tr>\n",
       "      <th>1</th>\n",
       "      <td>0</td>\n",
       "      <td>True</td>\n",
       "      <td>аллан герой романа новичок преступником знали ...</td>\n",
       "    </tr>\n",
       "    <tr>\n",
       "      <th>3</th>\n",
       "      <td>1</td>\n",
       "      <td>True</td>\n",
       "      <td>написана материалом лекций которые авторов лок...</td>\n",
       "    </tr>\n",
       "    <tr>\n",
       "      <th>5</th>\n",
       "      <td>2</td>\n",
       "      <td>True</td>\n",
       "      <td>книга известного немецкого физика эбелинга уче...</td>\n",
       "    </tr>\n",
       "    <tr>\n",
       "      <th>7</th>\n",
       "      <td>3</td>\n",
       "      <td>True</td>\n",
       "      <td>издание является учебным пособием новому предм...</td>\n",
       "    </tr>\n",
       "    <tr>\n",
       "      <th>9</th>\n",
       "      <td>4</td>\n",
       "      <td>True</td>\n",
       "      <td>третий собрания сочинений включены произведени...</td>\n",
       "    </tr>\n",
       "  </tbody>\n",
       "</table>\n",
       "</div>"
      ],
      "text/plain": [
       "  itemid  attribute_name                                    attribute_value\n",
       "1      0            True  аллан герой романа новичок преступником знали ...\n",
       "3      1            True  написана материалом лекций которые авторов лок...\n",
       "5      2            True  книга известного немецкого физика эбелинга уче...\n",
       "7      3            True  издание является учебным пособием новому предм...\n",
       "9      4            True  третий собрания сочинений включены произведени..."
      ]
     },
     "execution_count": 12,
     "metadata": {},
     "output_type": "execute_result"
    }
   ],
   "source": [
    "df_annotation = (\n",
    "    details[details['attribute_name']]\n",
    "    .fillna('nan')\n",
    ")\n",
    "\n",
    "df_annotation['itemid'], items_mapping_annotation = reindexing_itemid(df_annotation)\n",
    "\n",
    "print(df_annotation.shape)\n",
    "df_annotation.head()"
   ]
  },
  {
   "cell_type": "markdown",
   "metadata": {
    "colab_type": "text",
    "id": "H_Euh_XtF9ot"
   },
   "source": [
    "### TF-IDF"
   ]
  },
  {
   "cell_type": "code",
   "execution_count": 13,
   "metadata": {
    "ExecuteTime": {
     "end_time": "2021-03-01T23:35:23.162838Z",
     "start_time": "2021-03-01T23:30:46.180059Z"
    },
    "colab": {
     "base_uri": "https://localhost:8080/",
     "height": 34
    },
    "colab_type": "code",
    "executionInfo": {
     "elapsed": 10221,
     "status": "ok",
     "timestamp": 1572384312894,
     "user": {
      "displayName": "Алена Тимофеева",
      "photoUrl": "",
      "userId": "17526456028262676023"
     },
     "user_tz": -180
    },
    "id": "Qk5AV53NERBE",
    "outputId": "a9b6971b-8e52-4719-da63-d2de44872876",
    "scrolled": true
   },
   "outputs": [
    {
     "name": "stdout",
     "output_type": "stream",
     "text": [
      "(653916, 59666) (606674, 63966)\n"
     ]
    }
   ],
   "source": [
    "vectorizer = TfidfVectorizer(analyzer='char', ngram_range=(3, 3))\n",
    "\n",
    "matrix_title = vectorizer.fit_transform(df_title['attribute_value'])\n",
    "matrix_annotation = vectorizer.fit_transform(df_annotation['attribute_value'])\n",
    "\n",
    "print(matrix_title.shape, matrix_annotation.shape)"
   ]
  },
  {
   "cell_type": "markdown",
   "metadata": {},
   "source": [
    "### Косинусная схожесть по названиям для train"
   ]
  },
  {
   "cell_type": "code",
   "execution_count": 14,
   "metadata": {
    "ExecuteTime": {
     "end_time": "2021-03-01T23:35:37.166856Z",
     "start_time": "2021-03-01T23:35:23.165834Z"
    },
    "scrolled": true
   },
   "outputs": [
    {
     "name": "stdout",
     "output_type": "stream",
     "text": [
      "(1390438, 26)\n"
     ]
    },
    {
     "data": {
      "text/html": [
       "<div>\n",
       "<style scoped>\n",
       "    .dataframe tbody tr th:only-of-type {\n",
       "        vertical-align: middle;\n",
       "    }\n",
       "\n",
       "    .dataframe tbody tr th {\n",
       "        vertical-align: top;\n",
       "    }\n",
       "\n",
       "    .dataframe thead th {\n",
       "        text-align: right;\n",
       "    }\n",
       "</style>\n",
       "<table border=\"1\" class=\"dataframe\">\n",
       "  <thead>\n",
       "    <tr style=\"text-align: right;\">\n",
       "      <th></th>\n",
       "      <th>clientid</th>\n",
       "      <th>itemid</th>\n",
       "      <th>jointitemid</th>\n",
       "      <th>label</th>\n",
       "      <th>timestamp</th>\n",
       "      <th>view_cnt</th>\n",
       "      <th>to_cart_cnt</th>\n",
       "      <th>ctr</th>\n",
       "      <th>novelty_cnt</th>\n",
       "      <th>view_day_avg_cnt</th>\n",
       "      <th>to_cart_day_avg_cnt</th>\n",
       "      <th>last_day_views_cnt</th>\n",
       "      <th>last_day_to_cart_cnt</th>\n",
       "      <th>relation_ldv_mean</th>\n",
       "      <th>relation_ldtocart_mean</th>\n",
       "      <th>mnk_view</th>\n",
       "      <th>mnk_to_cart</th>\n",
       "      <th>same_items_on_session_view</th>\n",
       "      <th>count_on_session_view</th>\n",
       "      <th>same_items_on_session_tocart</th>\n",
       "      <th>count_on_session_tocart</th>\n",
       "      <th>item_based_view</th>\n",
       "      <th>item_based_tocart</th>\n",
       "      <th>user_based_view</th>\n",
       "      <th>user_based_tocart</th>\n",
       "      <th>same_title</th>\n",
       "    </tr>\n",
       "  </thead>\n",
       "  <tbody>\n",
       "    <tr>\n",
       "      <th>0</th>\n",
       "      <td>7833842</td>\n",
       "      <td>31499843</td>\n",
       "      <td>138176581</td>\n",
       "      <td>1</td>\n",
       "      <td>2019-09-07 20:11:01</td>\n",
       "      <td>31.0</td>\n",
       "      <td>9.0</td>\n",
       "      <td>0.290323</td>\n",
       "      <td>737272</td>\n",
       "      <td>1.722222</td>\n",
       "      <td>1.500</td>\n",
       "      <td>0.0</td>\n",
       "      <td>0.0</td>\n",
       "      <td>0.0</td>\n",
       "      <td>0.0</td>\n",
       "      <td>-0.035714</td>\n",
       "      <td>-0.071429</td>\n",
       "      <td>0.000000</td>\n",
       "      <td>0</td>\n",
       "      <td>0.069338</td>\n",
       "      <td>1</td>\n",
       "      <td>0.0</td>\n",
       "      <td>0.0</td>\n",
       "      <td>0.0</td>\n",
       "      <td>0.0</td>\n",
       "      <td>0.000000</td>\n",
       "    </tr>\n",
       "    <tr>\n",
       "      <th>1</th>\n",
       "      <td>19548158</td>\n",
       "      <td>147389610</td>\n",
       "      <td>148381589</td>\n",
       "      <td>0</td>\n",
       "      <td>2019-08-31 22:32:31</td>\n",
       "      <td>24.0</td>\n",
       "      <td>9.0</td>\n",
       "      <td>0.375000</td>\n",
       "      <td>737272</td>\n",
       "      <td>1.600000</td>\n",
       "      <td>1.125</td>\n",
       "      <td>0.0</td>\n",
       "      <td>0.0</td>\n",
       "      <td>0.0</td>\n",
       "      <td>0.0</td>\n",
       "      <td>-0.285714</td>\n",
       "      <td>-0.071429</td>\n",
       "      <td>0.160623</td>\n",
       "      <td>5</td>\n",
       "      <td>0.308607</td>\n",
       "      <td>2</td>\n",
       "      <td>0.0</td>\n",
       "      <td>0.0</td>\n",
       "      <td>0.0</td>\n",
       "      <td>0.0</td>\n",
       "      <td>0.032233</td>\n",
       "    </tr>\n",
       "  </tbody>\n",
       "</table>\n",
       "</div>"
      ],
      "text/plain": [
       "   clientid     itemid  jointitemid  label            timestamp  view_cnt  \\\n",
       "0   7833842   31499843    138176581      1  2019-09-07 20:11:01      31.0   \n",
       "1  19548158  147389610    148381589      0  2019-08-31 22:32:31      24.0   \n",
       "\n",
       "   to_cart_cnt       ctr  novelty_cnt  view_day_avg_cnt  to_cart_day_avg_cnt  \\\n",
       "0          9.0  0.290323       737272          1.722222                1.500   \n",
       "1          9.0  0.375000       737272          1.600000                1.125   \n",
       "\n",
       "   last_day_views_cnt  last_day_to_cart_cnt  relation_ldv_mean  \\\n",
       "0                 0.0                   0.0                0.0   \n",
       "1                 0.0                   0.0                0.0   \n",
       "\n",
       "   relation_ldtocart_mean  mnk_view  mnk_to_cart  same_items_on_session_view  \\\n",
       "0                     0.0 -0.035714    -0.071429                    0.000000   \n",
       "1                     0.0 -0.285714    -0.071429                    0.160623   \n",
       "\n",
       "   count_on_session_view  same_items_on_session_tocart  \\\n",
       "0                      0                      0.069338   \n",
       "1                      5                      0.308607   \n",
       "\n",
       "   count_on_session_tocart  item_based_view  item_based_tocart  \\\n",
       "0                        1              0.0                0.0   \n",
       "1                        2              0.0                0.0   \n",
       "\n",
       "   user_based_view  user_based_tocart  same_title  \n",
       "0              0.0                0.0    0.000000  \n",
       "1              0.0                0.0    0.032233  "
      ]
     },
     "execution_count": 14,
     "metadata": {},
     "output_type": "execute_result"
    }
   ],
   "source": [
    "train_target['item_cat'] = train_target['itemid'].map(items_mapping_name.set_index('old')['new'])\n",
    "train_target['jointitem_cat'] = train_target['jointitemid'].map(items_mapping_name.set_index('old')['new'])\n",
    "\n",
    "train_target = calculate_text_similarity(train_target, matrix_title, 'title')\n",
    "\n",
    "print(train_target.shape)\n",
    "train_target.head(2)"
   ]
  },
  {
   "cell_type": "markdown",
   "metadata": {},
   "source": [
    "### Косинусная схожесть по аннотациям для train"
   ]
  },
  {
   "cell_type": "code",
   "execution_count": 15,
   "metadata": {
    "ExecuteTime": {
     "end_time": "2021-03-01T23:39:08.051741Z",
     "start_time": "2021-03-01T23:35:37.169833Z"
    }
   },
   "outputs": [
    {
     "name": "stdout",
     "output_type": "stream",
     "text": [
      "(1390438, 27)\n"
     ]
    },
    {
     "data": {
      "text/html": [
       "<div>\n",
       "<style scoped>\n",
       "    .dataframe tbody tr th:only-of-type {\n",
       "        vertical-align: middle;\n",
       "    }\n",
       "\n",
       "    .dataframe tbody tr th {\n",
       "        vertical-align: top;\n",
       "    }\n",
       "\n",
       "    .dataframe thead th {\n",
       "        text-align: right;\n",
       "    }\n",
       "</style>\n",
       "<table border=\"1\" class=\"dataframe\">\n",
       "  <thead>\n",
       "    <tr style=\"text-align: right;\">\n",
       "      <th></th>\n",
       "      <th>clientid</th>\n",
       "      <th>itemid</th>\n",
       "      <th>jointitemid</th>\n",
       "      <th>label</th>\n",
       "      <th>timestamp</th>\n",
       "      <th>view_cnt</th>\n",
       "      <th>to_cart_cnt</th>\n",
       "      <th>ctr</th>\n",
       "      <th>novelty_cnt</th>\n",
       "      <th>view_day_avg_cnt</th>\n",
       "      <th>to_cart_day_avg_cnt</th>\n",
       "      <th>last_day_views_cnt</th>\n",
       "      <th>last_day_to_cart_cnt</th>\n",
       "      <th>relation_ldv_mean</th>\n",
       "      <th>relation_ldtocart_mean</th>\n",
       "      <th>mnk_view</th>\n",
       "      <th>mnk_to_cart</th>\n",
       "      <th>same_items_on_session_view</th>\n",
       "      <th>count_on_session_view</th>\n",
       "      <th>same_items_on_session_tocart</th>\n",
       "      <th>count_on_session_tocart</th>\n",
       "      <th>item_based_view</th>\n",
       "      <th>item_based_tocart</th>\n",
       "      <th>user_based_view</th>\n",
       "      <th>user_based_tocart</th>\n",
       "      <th>same_title</th>\n",
       "      <th>same_annotation</th>\n",
       "    </tr>\n",
       "  </thead>\n",
       "  <tbody>\n",
       "    <tr>\n",
       "      <th>0</th>\n",
       "      <td>7833842</td>\n",
       "      <td>31499843</td>\n",
       "      <td>138176581</td>\n",
       "      <td>1</td>\n",
       "      <td>2019-09-07 20:11:01</td>\n",
       "      <td>31.0</td>\n",
       "      <td>9.0</td>\n",
       "      <td>0.290323</td>\n",
       "      <td>737272</td>\n",
       "      <td>1.722222</td>\n",
       "      <td>1.500</td>\n",
       "      <td>0.0</td>\n",
       "      <td>0.0</td>\n",
       "      <td>0.0</td>\n",
       "      <td>0.0</td>\n",
       "      <td>-0.035714</td>\n",
       "      <td>-0.071429</td>\n",
       "      <td>0.000000</td>\n",
       "      <td>0</td>\n",
       "      <td>0.069338</td>\n",
       "      <td>1</td>\n",
       "      <td>0.0</td>\n",
       "      <td>0.0</td>\n",
       "      <td>0.0</td>\n",
       "      <td>0.0</td>\n",
       "      <td>0.000000</td>\n",
       "      <td>0.101405</td>\n",
       "    </tr>\n",
       "    <tr>\n",
       "      <th>1</th>\n",
       "      <td>19548158</td>\n",
       "      <td>147389610</td>\n",
       "      <td>148381589</td>\n",
       "      <td>0</td>\n",
       "      <td>2019-08-31 22:32:31</td>\n",
       "      <td>24.0</td>\n",
       "      <td>9.0</td>\n",
       "      <td>0.375000</td>\n",
       "      <td>737272</td>\n",
       "      <td>1.600000</td>\n",
       "      <td>1.125</td>\n",
       "      <td>0.0</td>\n",
       "      <td>0.0</td>\n",
       "      <td>0.0</td>\n",
       "      <td>0.0</td>\n",
       "      <td>-0.285714</td>\n",
       "      <td>-0.071429</td>\n",
       "      <td>0.160623</td>\n",
       "      <td>5</td>\n",
       "      <td>0.308607</td>\n",
       "      <td>2</td>\n",
       "      <td>0.0</td>\n",
       "      <td>0.0</td>\n",
       "      <td>0.0</td>\n",
       "      <td>0.0</td>\n",
       "      <td>0.032233</td>\n",
       "      <td>0.000000</td>\n",
       "    </tr>\n",
       "  </tbody>\n",
       "</table>\n",
       "</div>"
      ],
      "text/plain": [
       "   clientid     itemid  jointitemid  label            timestamp  view_cnt  \\\n",
       "0   7833842   31499843    138176581      1  2019-09-07 20:11:01      31.0   \n",
       "1  19548158  147389610    148381589      0  2019-08-31 22:32:31      24.0   \n",
       "\n",
       "   to_cart_cnt       ctr  novelty_cnt  view_day_avg_cnt  to_cart_day_avg_cnt  \\\n",
       "0          9.0  0.290323       737272          1.722222                1.500   \n",
       "1          9.0  0.375000       737272          1.600000                1.125   \n",
       "\n",
       "   last_day_views_cnt  last_day_to_cart_cnt  relation_ldv_mean  \\\n",
       "0                 0.0                   0.0                0.0   \n",
       "1                 0.0                   0.0                0.0   \n",
       "\n",
       "   relation_ldtocart_mean  mnk_view  mnk_to_cart  same_items_on_session_view  \\\n",
       "0                     0.0 -0.035714    -0.071429                    0.000000   \n",
       "1                     0.0 -0.285714    -0.071429                    0.160623   \n",
       "\n",
       "   count_on_session_view  same_items_on_session_tocart  \\\n",
       "0                      0                      0.069338   \n",
       "1                      5                      0.308607   \n",
       "\n",
       "   count_on_session_tocart  item_based_view  item_based_tocart  \\\n",
       "0                        1              0.0                0.0   \n",
       "1                        2              0.0                0.0   \n",
       "\n",
       "   user_based_view  user_based_tocart  same_title  same_annotation  \n",
       "0              0.0                0.0    0.000000         0.101405  \n",
       "1              0.0                0.0    0.032233         0.000000  "
      ]
     },
     "execution_count": 15,
     "metadata": {},
     "output_type": "execute_result"
    }
   ],
   "source": [
    "train_target['item_cat'] = train_target['itemid'].map(items_mapping_annotation.set_index('old')['new'])\n",
    "train_target['jointitem_cat'] = train_target['jointitemid'].map(items_mapping_annotation.set_index('old')['new'])\n",
    "\n",
    "train_target = calculate_text_similarity(train_target, matrix_annotation, 'annotation')\n",
    "\n",
    "train_target = (\n",
    "    train_target.fillna(0)\n",
    ")\n",
    "\n",
    "print(train_target.shape)\n",
    "train_target.head(2)"
   ]
  },
  {
   "cell_type": "markdown",
   "metadata": {},
   "source": [
    "### Косинусная схожесть по названиям для test"
   ]
  },
  {
   "cell_type": "code",
   "execution_count": 16,
   "metadata": {
    "ExecuteTime": {
     "end_time": "2021-03-01T23:39:18.757824Z",
     "start_time": "2021-03-01T23:39:08.060737Z"
    },
    "scrolled": true
   },
   "outputs": [
    {
     "name": "stdout",
     "output_type": "stream",
     "text": [
      "(597158, 26)\n"
     ]
    },
    {
     "data": {
      "text/html": [
       "<div>\n",
       "<style scoped>\n",
       "    .dataframe tbody tr th:only-of-type {\n",
       "        vertical-align: middle;\n",
       "    }\n",
       "\n",
       "    .dataframe tbody tr th {\n",
       "        vertical-align: top;\n",
       "    }\n",
       "\n",
       "    .dataframe thead th {\n",
       "        text-align: right;\n",
       "    }\n",
       "</style>\n",
       "<table border=\"1\" class=\"dataframe\">\n",
       "  <thead>\n",
       "    <tr style=\"text-align: right;\">\n",
       "      <th></th>\n",
       "      <th>clientid</th>\n",
       "      <th>itemid</th>\n",
       "      <th>jointitemid</th>\n",
       "      <th>label</th>\n",
       "      <th>timestamp</th>\n",
       "      <th>view_cnt</th>\n",
       "      <th>to_cart_cnt</th>\n",
       "      <th>ctr</th>\n",
       "      <th>novelty_cnt</th>\n",
       "      <th>view_day_avg_cnt</th>\n",
       "      <th>to_cart_day_avg_cnt</th>\n",
       "      <th>last_day_views_cnt</th>\n",
       "      <th>last_day_to_cart_cnt</th>\n",
       "      <th>relation_ldv_mean</th>\n",
       "      <th>relation_ldtocart_mean</th>\n",
       "      <th>mnk_view</th>\n",
       "      <th>mnk_to_cart</th>\n",
       "      <th>same_items_on_session_view</th>\n",
       "      <th>count_on_session_view</th>\n",
       "      <th>same_items_on_session_tocart</th>\n",
       "      <th>count_on_session_tocart</th>\n",
       "      <th>item_based_view</th>\n",
       "      <th>item_based_tocart</th>\n",
       "      <th>user_based_view</th>\n",
       "      <th>user_based_tocart</th>\n",
       "      <th>same_title</th>\n",
       "    </tr>\n",
       "  </thead>\n",
       "  <tbody>\n",
       "    <tr>\n",
       "      <th>0</th>\n",
       "      <td>8081929</td>\n",
       "      <td>152898248</td>\n",
       "      <td>152875664</td>\n",
       "      <td>0</td>\n",
       "      <td>2019-09-06 18:57:23</td>\n",
       "      <td>10.0</td>\n",
       "      <td>2.0</td>\n",
       "      <td>0.200000</td>\n",
       "      <td>737276</td>\n",
       "      <td>2.000000</td>\n",
       "      <td>1.000000</td>\n",
       "      <td>0.0</td>\n",
       "      <td>0.0</td>\n",
       "      <td>0.000000</td>\n",
       "      <td>0.000000</td>\n",
       "      <td>0.214286</td>\n",
       "      <td>0.000000</td>\n",
       "      <td>0.000000</td>\n",
       "      <td>0</td>\n",
       "      <td>0.0</td>\n",
       "      <td>0</td>\n",
       "      <td>0.758175</td>\n",
       "      <td>0.0</td>\n",
       "      <td>0.0</td>\n",
       "      <td>0.0</td>\n",
       "      <td>0.000000</td>\n",
       "    </tr>\n",
       "    <tr>\n",
       "      <th>1</th>\n",
       "      <td>33378638</td>\n",
       "      <td>144847078</td>\n",
       "      <td>140715321</td>\n",
       "      <td>0</td>\n",
       "      <td>2019-09-02 07:09:31</td>\n",
       "      <td>211.0</td>\n",
       "      <td>19.0</td>\n",
       "      <td>0.090047</td>\n",
       "      <td>737272</td>\n",
       "      <td>7.814815</td>\n",
       "      <td>1.727273</td>\n",
       "      <td>11.0</td>\n",
       "      <td>1.0</td>\n",
       "      <td>1.407583</td>\n",
       "      <td>0.578947</td>\n",
       "      <td>-6.285714</td>\n",
       "      <td>-0.142857</td>\n",
       "      <td>0.023322</td>\n",
       "      <td>7</td>\n",
       "      <td>0.0</td>\n",
       "      <td>0</td>\n",
       "      <td>0.000000</td>\n",
       "      <td>0.0</td>\n",
       "      <td>0.0</td>\n",
       "      <td>0.0</td>\n",
       "      <td>0.019873</td>\n",
       "    </tr>\n",
       "  </tbody>\n",
       "</table>\n",
       "</div>"
      ],
      "text/plain": [
       "   clientid     itemid  jointitemid  label            timestamp  view_cnt  \\\n",
       "0   8081929  152898248    152875664      0  2019-09-06 18:57:23      10.0   \n",
       "1  33378638  144847078    140715321      0  2019-09-02 07:09:31     211.0   \n",
       "\n",
       "   to_cart_cnt       ctr  novelty_cnt  view_day_avg_cnt  to_cart_day_avg_cnt  \\\n",
       "0          2.0  0.200000       737276          2.000000             1.000000   \n",
       "1         19.0  0.090047       737272          7.814815             1.727273   \n",
       "\n",
       "   last_day_views_cnt  last_day_to_cart_cnt  relation_ldv_mean  \\\n",
       "0                 0.0                   0.0           0.000000   \n",
       "1                11.0                   1.0           1.407583   \n",
       "\n",
       "   relation_ldtocart_mean  mnk_view  mnk_to_cart  same_items_on_session_view  \\\n",
       "0                0.000000  0.214286     0.000000                    0.000000   \n",
       "1                0.578947 -6.285714    -0.142857                    0.023322   \n",
       "\n",
       "   count_on_session_view  same_items_on_session_tocart  \\\n",
       "0                      0                           0.0   \n",
       "1                      7                           0.0   \n",
       "\n",
       "   count_on_session_tocart  item_based_view  item_based_tocart  \\\n",
       "0                        0         0.758175                0.0   \n",
       "1                        0         0.000000                0.0   \n",
       "\n",
       "   user_based_view  user_based_tocart  same_title  \n",
       "0              0.0                0.0    0.000000  \n",
       "1              0.0                0.0    0.019873  "
      ]
     },
     "execution_count": 16,
     "metadata": {},
     "output_type": "execute_result"
    }
   ],
   "source": [
    "test_target['item_cat'] = test_target['itemid'].map(items_mapping_name.set_index('old')['new'])\n",
    "test_target['jointitem_cat'] = test_target['jointitemid'].map(items_mapping_name.set_index('old')['new'])\n",
    "\n",
    "test_target = calculate_text_similarity(test_target, matrix_title, 'title')\n",
    "\n",
    "print(test_target.shape)\n",
    "test_target.head(2)"
   ]
  },
  {
   "cell_type": "markdown",
   "metadata": {
    "colab": {},
    "colab_type": "code",
    "id": "i_cCb2II3sqM",
    "outputId": "092727b9-1603-4763-c525-a63165b04b18",
    "scrolled": true
   },
   "source": [
    "### Косинусная схожесть по аннотациям для test"
   ]
  },
  {
   "cell_type": "code",
   "execution_count": 17,
   "metadata": {
    "ExecuteTime": {
     "end_time": "2021-03-01T23:40:00.985375Z",
     "start_time": "2021-03-01T23:39:18.761840Z"
    },
    "colab": {},
    "colab_type": "code",
    "id": "tSuAg4-c3sqf",
    "outputId": "dfea33bc-21e9-4e4f-876b-e520a4cd2ea9"
   },
   "outputs": [
    {
     "name": "stdout",
     "output_type": "stream",
     "text": [
      "(597158, 27)\n"
     ]
    },
    {
     "data": {
      "text/html": [
       "<div>\n",
       "<style scoped>\n",
       "    .dataframe tbody tr th:only-of-type {\n",
       "        vertical-align: middle;\n",
       "    }\n",
       "\n",
       "    .dataframe tbody tr th {\n",
       "        vertical-align: top;\n",
       "    }\n",
       "\n",
       "    .dataframe thead th {\n",
       "        text-align: right;\n",
       "    }\n",
       "</style>\n",
       "<table border=\"1\" class=\"dataframe\">\n",
       "  <thead>\n",
       "    <tr style=\"text-align: right;\">\n",
       "      <th></th>\n",
       "      <th>clientid</th>\n",
       "      <th>itemid</th>\n",
       "      <th>jointitemid</th>\n",
       "      <th>label</th>\n",
       "      <th>timestamp</th>\n",
       "      <th>view_cnt</th>\n",
       "      <th>to_cart_cnt</th>\n",
       "      <th>ctr</th>\n",
       "      <th>novelty_cnt</th>\n",
       "      <th>view_day_avg_cnt</th>\n",
       "      <th>to_cart_day_avg_cnt</th>\n",
       "      <th>last_day_views_cnt</th>\n",
       "      <th>last_day_to_cart_cnt</th>\n",
       "      <th>relation_ldv_mean</th>\n",
       "      <th>relation_ldtocart_mean</th>\n",
       "      <th>mnk_view</th>\n",
       "      <th>mnk_to_cart</th>\n",
       "      <th>same_items_on_session_view</th>\n",
       "      <th>count_on_session_view</th>\n",
       "      <th>same_items_on_session_tocart</th>\n",
       "      <th>count_on_session_tocart</th>\n",
       "      <th>item_based_view</th>\n",
       "      <th>item_based_tocart</th>\n",
       "      <th>user_based_view</th>\n",
       "      <th>user_based_tocart</th>\n",
       "      <th>same_title</th>\n",
       "      <th>same_annotation</th>\n",
       "    </tr>\n",
       "  </thead>\n",
       "  <tbody>\n",
       "    <tr>\n",
       "      <th>0</th>\n",
       "      <td>8081929</td>\n",
       "      <td>152898248</td>\n",
       "      <td>152875664</td>\n",
       "      <td>0</td>\n",
       "      <td>2019-09-06 18:57:23</td>\n",
       "      <td>10.0</td>\n",
       "      <td>2.0</td>\n",
       "      <td>0.200000</td>\n",
       "      <td>737276</td>\n",
       "      <td>2.000000</td>\n",
       "      <td>1.000000</td>\n",
       "      <td>0.0</td>\n",
       "      <td>0.0</td>\n",
       "      <td>0.000000</td>\n",
       "      <td>0.000000</td>\n",
       "      <td>0.214286</td>\n",
       "      <td>0.000000</td>\n",
       "      <td>0.000000</td>\n",
       "      <td>0</td>\n",
       "      <td>0.0</td>\n",
       "      <td>0</td>\n",
       "      <td>0.758175</td>\n",
       "      <td>0.0</td>\n",
       "      <td>0.0</td>\n",
       "      <td>0.0</td>\n",
       "      <td>0.000000</td>\n",
       "      <td>0.420892</td>\n",
       "    </tr>\n",
       "    <tr>\n",
       "      <th>1</th>\n",
       "      <td>33378638</td>\n",
       "      <td>144847078</td>\n",
       "      <td>140715321</td>\n",
       "      <td>0</td>\n",
       "      <td>2019-09-02 07:09:31</td>\n",
       "      <td>211.0</td>\n",
       "      <td>19.0</td>\n",
       "      <td>0.090047</td>\n",
       "      <td>737272</td>\n",
       "      <td>7.814815</td>\n",
       "      <td>1.727273</td>\n",
       "      <td>11.0</td>\n",
       "      <td>1.0</td>\n",
       "      <td>1.407583</td>\n",
       "      <td>0.578947</td>\n",
       "      <td>-6.285714</td>\n",
       "      <td>-0.142857</td>\n",
       "      <td>0.023322</td>\n",
       "      <td>7</td>\n",
       "      <td>0.0</td>\n",
       "      <td>0</td>\n",
       "      <td>0.000000</td>\n",
       "      <td>0.0</td>\n",
       "      <td>0.0</td>\n",
       "      <td>0.0</td>\n",
       "      <td>0.019873</td>\n",
       "      <td>0.284858</td>\n",
       "    </tr>\n",
       "  </tbody>\n",
       "</table>\n",
       "</div>"
      ],
      "text/plain": [
       "   clientid     itemid  jointitemid  label            timestamp  view_cnt  \\\n",
       "0   8081929  152898248    152875664      0  2019-09-06 18:57:23      10.0   \n",
       "1  33378638  144847078    140715321      0  2019-09-02 07:09:31     211.0   \n",
       "\n",
       "   to_cart_cnt       ctr  novelty_cnt  view_day_avg_cnt  to_cart_day_avg_cnt  \\\n",
       "0          2.0  0.200000       737276          2.000000             1.000000   \n",
       "1         19.0  0.090047       737272          7.814815             1.727273   \n",
       "\n",
       "   last_day_views_cnt  last_day_to_cart_cnt  relation_ldv_mean  \\\n",
       "0                 0.0                   0.0           0.000000   \n",
       "1                11.0                   1.0           1.407583   \n",
       "\n",
       "   relation_ldtocart_mean  mnk_view  mnk_to_cart  same_items_on_session_view  \\\n",
       "0                0.000000  0.214286     0.000000                    0.000000   \n",
       "1                0.578947 -6.285714    -0.142857                    0.023322   \n",
       "\n",
       "   count_on_session_view  same_items_on_session_tocart  \\\n",
       "0                      0                           0.0   \n",
       "1                      7                           0.0   \n",
       "\n",
       "   count_on_session_tocart  item_based_view  item_based_tocart  \\\n",
       "0                        0         0.758175                0.0   \n",
       "1                        0         0.000000                0.0   \n",
       "\n",
       "   user_based_view  user_based_tocart  same_title  same_annotation  \n",
       "0              0.0                0.0    0.000000         0.420892  \n",
       "1              0.0                0.0    0.019873         0.284858  "
      ]
     },
     "execution_count": 17,
     "metadata": {},
     "output_type": "execute_result"
    }
   ],
   "source": [
    "test_target['item_cat'] = test_target['itemid'].map(items_mapping_annotation.set_index('old')['new'])\n",
    "test_target['jointitem_cat'] = test_target['jointitemid'].map(items_mapping_annotation.set_index('old')['new'])\n",
    "\n",
    "test_target= calculate_text_similarity(test_target, matrix_annotation, 'annotation')\n",
    "\n",
    "test_target = (\n",
    "    test_target.fillna(0)\n",
    ")\n",
    "\n",
    "print(test_target.shape)\n",
    "test_target.head(2)"
   ]
  },
  {
   "cell_type": "code",
   "execution_count": 18,
   "metadata": {
    "ExecuteTime": {
     "end_time": "2021-03-01T23:40:01.222867Z",
     "start_time": "2021-03-01T23:40:00.990357Z"
    }
   },
   "outputs": [],
   "source": [
    "def fastText_features(data: pd.DataFrame,\n",
    "                      model_path: str,\n",
    "                      attribute_name: str) -> pd.DataFrame:\n",
    "    \"\"\"\n",
    "    Функция для подсчета fastText фичей.\n",
    "    \"\"\"\n",
    "    \n",
    "    try:\n",
    "        model = KeyedVectors.load(model_path)\n",
    "    except IOError:\n",
    "        raise ValueError('Invalid model')\n",
    "        \n",
    "    pairs = data.copy()\n",
    "    \n",
    "#     pairs['ft_n_similarity_'+attribute_name] = (\n",
    "#         [model.n_similarity(x.split(), y.split()) for x, y in zip(pairs['attribute_value_x'], \n",
    "#                                                                   pairs['attribute_value_y'])]\n",
    "#     )\n",
    "    \n",
    "    pairs['ft_similarity_'+attribute_name] = (\n",
    "        [model.similarity(x, y) for x, y in zip(pairs['attribute_value_x'], \n",
    "                                                pairs['attribute_value_y'])]\n",
    "    )\n",
    "     \n",
    "    return pairs"
   ]
  },
  {
   "cell_type": "code",
   "execution_count": 19,
   "metadata": {
    "ExecuteTime": {
     "end_time": "2021-03-01T23:40:06.621062Z",
     "start_time": "2021-03-01T23:40:01.233084Z"
    }
   },
   "outputs": [],
   "source": [
    "df_title['attribute_value'].replace('', 'nan', inplace=True)\n",
    "df_annotation['attribute_value'].replace('', 'nan', inplace=True)"
   ]
  },
  {
   "cell_type": "markdown",
   "metadata": {},
   "source": [
    "### fastText схожесть по названиям для train"
   ]
  },
  {
   "cell_type": "markdown",
   "metadata": {},
   "source": [
    "#### Объединяем данные, чтобы получить 2 признака с названиями в соответствии с (itemid, jointitemid)"
   ]
  },
  {
   "cell_type": "code",
   "execution_count": 20,
   "metadata": {
    "ExecuteTime": {
     "end_time": "2021-03-01T23:40:17.679712Z",
     "start_time": "2021-03-01T23:40:06.624062Z"
    }
   },
   "outputs": [],
   "source": [
    "train_target['key'] = train_target.index.tolist()\n",
    "train_target['item_cat'] = train_target['itemid'].map(items_mapping_name.set_index('old')['new'])\n",
    "train_target['jointitem_cat'] = train_target['jointitemid'].map(items_mapping_name.set_index('old')['new'])\n",
    "\n",
    "train_target = (\n",
    "    train_target   \n",
    "    .merge(df_title[['itemid', 'attribute_value']]\n",
    "               .rename(columns={'itemid': 'item_cat'}),\n",
    "           on=['item_cat'], how='left')\n",
    "    .merge(df_title[['itemid', 'attribute_value']]\n",
    "               .rename(columns={'itemid': 'jointitem_cat'}),\n",
    "           on=['jointitem_cat'], how='left')\n",
    "    .drop_duplicates('key')\n",
    "    .reset_index(drop=True)\n",
    "    .drop(['key', 'item_cat', 'jointitem_cat'], axis=1)\n",
    ")"
   ]
  },
  {
   "cell_type": "markdown",
   "metadata": {},
   "source": [
    "#### Заменяем nan на строковое значение nan"
   ]
  },
  {
   "cell_type": "code",
   "execution_count": 21,
   "metadata": {
    "ExecuteTime": {
     "end_time": "2021-03-01T23:40:18.897012Z",
     "start_time": "2021-03-01T23:40:17.681712Z"
    }
   },
   "outputs": [],
   "source": [
    "train_target[['attribute_value_x', 'attribute_value_y']] = (\n",
    "    train_target[['attribute_value_x', 'attribute_value_y']].fillna('nan', axis=1)\n",
    ")"
   ]
  },
  {
   "cell_type": "code",
   "execution_count": 22,
   "metadata": {
    "ExecuteTime": {
     "end_time": "2021-03-01T23:56:50.159482Z",
     "start_time": "2021-03-01T23:40:18.914004Z"
    }
   },
   "outputs": [],
   "source": [
    "train_target = (\n",
    "    fastText_features(train_target,\n",
    "                      '../models/fasttext/213/model.model',\n",
    "                      'title')\n",
    ")"
   ]
  },
  {
   "cell_type": "markdown",
   "metadata": {},
   "source": [
    "#### Заменяем значения на 0 в парах, где встречается nan"
   ]
  },
  {
   "cell_type": "code",
   "execution_count": 23,
   "metadata": {
    "ExecuteTime": {
     "end_time": "2021-03-01T23:56:51.117913Z",
     "start_time": "2021-03-01T23:56:50.162461Z"
    }
   },
   "outputs": [],
   "source": [
    "train_target.loc[train_target['attribute_value_x'] == 'nan', 'ft_similarity_title'] = 0.0\n",
    "train_target.loc[train_target['attribute_value_y'] == 'nan', 'ft_similarity_title'] = 0.0"
   ]
  },
  {
   "cell_type": "code",
   "execution_count": 24,
   "metadata": {
    "ExecuteTime": {
     "end_time": "2021-03-01T23:56:51.585643Z",
     "start_time": "2021-03-01T23:56:51.119911Z"
    }
   },
   "outputs": [
    {
     "name": "stdout",
     "output_type": "stream",
     "text": [
      "(1390438, 30)\n",
      "(1390438, 28)\n"
     ]
    }
   ],
   "source": [
    "print(train_target.shape)\n",
    "train_target = train_target.drop(['attribute_value_x', 'attribute_value_y'], axis=1)\n",
    "print(train_target.shape)"
   ]
  },
  {
   "cell_type": "code",
   "execution_count": 25,
   "metadata": {
    "ExecuteTime": {
     "end_time": "2021-03-01T23:56:52.887713Z",
     "start_time": "2021-03-01T23:56:51.588641Z"
    },
    "scrolled": true
   },
   "outputs": [
    {
     "data": {
      "image/png": "[encoded data removed]",
      "text/plain": [
       "<Figure size 432x288 with 1 Axes>"
      ]
     },
     "metadata": {
      "needs_background": "light"
     },
     "output_type": "display_data"
    }
   ],
   "source": [
    "train_target['ft_similarity_title'].hist(bins=100);"
   ]
  },
  {
   "cell_type": "markdown",
   "metadata": {
    "ExecuteTime": {
     "end_time": "2021-03-01T12:10:37.288444Z",
     "start_time": "2021-03-01T12:07:12.756Z"
    }
   },
   "source": [
    "### fastText схожесть по названиям для test"
   ]
  },
  {
   "cell_type": "markdown",
   "metadata": {},
   "source": [
    "#### Объединяем данные, чтобы получить 2 признака с названиями в соответствии с (itemid, jointitemid)"
   ]
  },
  {
   "cell_type": "code",
   "execution_count": 26,
   "metadata": {
    "ExecuteTime": {
     "end_time": "2021-03-01T23:56:56.958507Z",
     "start_time": "2021-03-01T23:56:52.890713Z"
    }
   },
   "outputs": [],
   "source": [
    "test_target['key'] = test_target.index.tolist()\n",
    "test_target['item_cat'] = test_target['itemid'].map(items_mapping_name.set_index('old')['new'])\n",
    "test_target['jointitem_cat'] = test_target['jointitemid'].map(items_mapping_name.set_index('old')['new'])\n",
    "\n",
    "test_target = (\n",
    "    test_target   \n",
    "    .merge(df_title[['itemid', 'attribute_value']]\n",
    "               .rename(columns={'itemid': 'item_cat'}),\n",
    "           on=['item_cat'], how='left')\n",
    "    .merge(df_title[['itemid', 'attribute_value']]\n",
    "               .rename(columns={'itemid': 'jointitem_cat'}),\n",
    "           on=['jointitem_cat'], how='left')\n",
    "    .drop_duplicates('key')\n",
    "    .reset_index(drop=True)\n",
    "    .drop(['key', 'item_cat', 'jointitem_cat'], axis=1)\n",
    ")"
   ]
  },
  {
   "cell_type": "markdown",
   "metadata": {},
   "source": [
    "#### Заменяем nan на строковое значение nan"
   ]
  },
  {
   "cell_type": "code",
   "execution_count": 27,
   "metadata": {
    "ExecuteTime": {
     "end_time": "2021-03-01T23:56:57.446244Z",
     "start_time": "2021-03-01T23:56:56.961484Z"
    }
   },
   "outputs": [],
   "source": [
    "test_target[['attribute_value_x', 'attribute_value_y']] = (\n",
    "    test_target[['attribute_value_x', 'attribute_value_y']].fillna('nan', axis=1)\n",
    ")"
   ]
  },
  {
   "cell_type": "code",
   "execution_count": 28,
   "metadata": {
    "ExecuteTime": {
     "end_time": "2021-03-02T00:03:54.583456Z",
     "start_time": "2021-03-01T23:56:57.449203Z"
    }
   },
   "outputs": [],
   "source": [
    "test_target = (\n",
    "    fastText_features(test_target,\n",
    "                      '../models/fasttext/213/model.model',\n",
    "                      'title')\n",
    ")"
   ]
  },
  {
   "cell_type": "markdown",
   "metadata": {},
   "source": [
    "#### Заменяем значения на 0 в парах, где встречается nan"
   ]
  },
  {
   "cell_type": "code",
   "execution_count": 29,
   "metadata": {
    "ExecuteTime": {
     "end_time": "2021-03-02T00:03:55.055237Z",
     "start_time": "2021-03-02T00:03:54.586454Z"
    }
   },
   "outputs": [],
   "source": [
    "test_target.loc[test_target['attribute_value_x'] == 'nan', 'ft_similarity_title'] = 0.0\n",
    "test_target.loc[test_target['attribute_value_y'] == 'nan', 'ft_similarity_title'] = 0.0"
   ]
  },
  {
   "cell_type": "code",
   "execution_count": 30,
   "metadata": {
    "ExecuteTime": {
     "end_time": "2021-03-02T00:03:55.304499Z",
     "start_time": "2021-03-02T00:03:55.057640Z"
    }
   },
   "outputs": [
    {
     "name": "stdout",
     "output_type": "stream",
     "text": [
      "(597158, 30)\n",
      "(597158, 28)\n"
     ]
    }
   ],
   "source": [
    "print(test_target.shape)\n",
    "test_target = test_target.drop(['attribute_value_x', 'attribute_value_y'], axis=1)\n",
    "print(test_target.shape)"
   ]
  },
  {
   "cell_type": "code",
   "execution_count": 31,
   "metadata": {
    "ExecuteTime": {
     "end_time": "2021-03-02T00:03:55.792922Z",
     "start_time": "2021-03-02T00:03:55.308497Z"
    },
    "scrolled": false
   },
   "outputs": [
    {
     "data": {
      "image/png": "[encoded data removed]",
      "text/plain": [
       "<Figure size 432x288 with 1 Axes>"
      ]
     },
     "metadata": {
      "needs_background": "light"
     },
     "output_type": "display_data"
    }
   ],
   "source": [
    "test_target['ft_similarity_title'].hist(bins=100);"
   ]
  },
  {
   "cell_type": "markdown",
   "metadata": {},
   "source": [
    "### Сохраняем принаки"
   ]
  },
  {
   "cell_type": "code",
   "execution_count": 32,
   "metadata": {
    "ExecuteTime": {
     "end_time": "2021-03-02T00:05:00.253236Z",
     "start_time": "2021-03-02T00:03:55.795921Z"
    }
   },
   "outputs": [],
   "source": [
    "train_target.to_csv('../data/train_with_features.csv', index=False)\n",
    "test_target.to_csv('../data/test_with_features.csv', index=False)"
   ]
  }
 ],
 "metadata": {
  "colab": {
   "collapsed_sections": [],
   "name": "token.ipynb",
   "provenance": []
  },
  "kernelspec": {
   "display_name": "Python 3",
   "language": "python",
   "name": "python3"
  },
  "language_info": {
   "codemirror_mode": {
    "name": "ipython",
    "version": 3
   },
   "file_extension": ".py",
   "mimetype": "text/x-python",
   "name": "python",
   "nbconvert_exporter": "python",
   "pygments_lexer": "ipython3",
   "version": "3.7.6"
  }
 },
 "nbformat": 4,
 "nbformat_minor": 1
}
