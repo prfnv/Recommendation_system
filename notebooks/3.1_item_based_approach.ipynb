{
 "cells": [
  {
   "cell_type": "markdown",
   "metadata": {},
   "source": [
    "В данном ноутбуке реализовывается item_based подход"
   ]
  },
  {
   "cell_type": "code",
   "execution_count": 1,
   "metadata": {
    "ExecuteTime": {
     "end_time": "2021-03-03T14:22:49.074092Z",
     "start_time": "2021-03-03T14:22:49.009129Z"
    }
   },
   "outputs": [],
   "source": [
    "%load_ext autoreload\n",
    "%autoreload 2"
   ]
  },
  {
   "cell_type": "code",
   "execution_count": 2,
   "metadata": {
    "ExecuteTime": {
     "end_time": "2021-03-03T14:22:49.288650Z",
     "start_time": "2021-03-03T14:22:49.241677Z"
    }
   },
   "outputs": [],
   "source": [
    "import sys\n",
    "sys.path.append('../src/')"
   ]
  },
  {
   "cell_type": "code",
   "execution_count": 3,
   "metadata": {
    "ExecuteTime": {
     "end_time": "2021-03-03T14:22:53.326611Z",
     "start_time": "2021-03-03T14:22:49.605518Z"
    },
    "colab": {
     "base_uri": "https://localhost:8080/",
     "height": 258
    },
    "colab_type": "code",
    "executionInfo": {
     "elapsed": 89785,
     "status": "ok",
     "timestamp": 1579470365651,
     "user": {
      "displayName": "Павел Парфенов",
      "photoUrl": "",
      "userId": "00456899921274964308"
     },
     "user_tz": -180
    },
    "id": "4HeBEGvXzx_k",
    "outputId": "46db7086-0182-4e6a-cc9e-376c209faeb0"
   },
   "outputs": [],
   "source": [
    "import numpy as np\n",
    "import scipy.sparse as sp\n",
    "from sklearn.preprocessing import normalize\n",
    "from reindexing import reindexing_clientid_itemid\n",
    "import pandas as pd; pd.set_option('display.max_columns', None)\n",
    "from implicit._nearest_neighbours import all_pairs_knn\n",
    "pd.options.mode.chained_assignment = None"
   ]
  },
  {
   "cell_type": "code",
   "execution_count": 4,
   "metadata": {
    "ExecuteTime": {
     "end_time": "2021-03-03T14:22:53.499511Z",
     "start_time": "2021-03-03T14:22:53.330608Z"
    },
    "colab": {
     "base_uri": "https://localhost:8080/",
     "height": 122
    },
    "colab_type": "code",
    "executionInfo": {
     "elapsed": 20906,
     "status": "ok",
     "timestamp": 1579470444498,
     "user": {
      "displayName": "Павел Парфенов",
      "photoUrl": "",
      "userId": "00456899921274964308"
     },
     "user_tz": -180
    },
    "id": "OniuwIiyzyvQ",
    "outputId": "8d9e25f8-d8ea-46ac-b87d-171a26acd138"
   },
   "outputs": [],
   "source": [
    "# from google.colab import drive\n",
    "# drive.mount('/content/gdrive')"
   ]
  },
  {
   "cell_type": "markdown",
   "metadata": {
    "colab_type": "text",
    "id": "1KcfYeERrzMl"
   },
   "source": [
    "### Считывание и предобработка данных"
   ]
  },
  {
   "cell_type": "code",
   "execution_count": 5,
   "metadata": {
    "ExecuteTime": {
     "end_time": "2021-03-03T14:23:17.636385Z",
     "start_time": "2021-03-03T14:22:54.032210Z"
    },
    "colab": {
     "base_uri": "https://localhost:8080/",
     "height": 204
    },
    "colab_type": "code",
    "executionInfo": {
     "elapsed": 16765,
     "status": "ok",
     "timestamp": 1579470488017,
     "user": {
      "displayName": "Павел Парфенов",
      "photoUrl": "",
      "userId": "00456899921274964308"
     },
     "user_tz": -180
    },
    "id": "iFAInneHzx_n",
    "outputId": "75615e82-f86f-4ffa-f154-c0590159a93d"
   },
   "outputs": [
    {
     "name": "stdout",
     "output_type": "stream",
     "text": [
      "(57585220, 4)\n"
     ]
    },
    {
     "data": {
      "text/html": [
       "<div>\n",
       "<style scoped>\n",
       "    .dataframe tbody tr th:only-of-type {\n",
       "        vertical-align: middle;\n",
       "    }\n",
       "\n",
       "    .dataframe tbody tr th {\n",
       "        vertical-align: top;\n",
       "    }\n",
       "\n",
       "    .dataframe thead th {\n",
       "        text-align: right;\n",
       "    }\n",
       "</style>\n",
       "<table border=\"1\" class=\"dataframe\">\n",
       "  <thead>\n",
       "    <tr style=\"text-align: right;\">\n",
       "      <th></th>\n",
       "      <th>clientid</th>\n",
       "      <th>itemid</th>\n",
       "      <th>action_type</th>\n",
       "      <th>timestamp</th>\n",
       "    </tr>\n",
       "  </thead>\n",
       "  <tbody>\n",
       "    <tr>\n",
       "      <th>0</th>\n",
       "      <td>179153</td>\n",
       "      <td>135391270</td>\n",
       "      <td>False</td>\n",
       "      <td>2019-08-06 15:14:45</td>\n",
       "    </tr>\n",
       "    <tr>\n",
       "      <th>1</th>\n",
       "      <td>179153</td>\n",
       "      <td>135391272</td>\n",
       "      <td>False</td>\n",
       "      <td>2019-08-06 15:16:29</td>\n",
       "    </tr>\n",
       "    <tr>\n",
       "      <th>2</th>\n",
       "      <td>179153</td>\n",
       "      <td>135391270</td>\n",
       "      <td>False</td>\n",
       "      <td>2019-08-08 09:07:29</td>\n",
       "    </tr>\n",
       "    <tr>\n",
       "      <th>3</th>\n",
       "      <td>179153</td>\n",
       "      <td>142132354</td>\n",
       "      <td>False</td>\n",
       "      <td>2019-08-20 17:59:58</td>\n",
       "    </tr>\n",
       "    <tr>\n",
       "      <th>4</th>\n",
       "      <td>179153</td>\n",
       "      <td>140487634</td>\n",
       "      <td>False</td>\n",
       "      <td>2019-08-23 16:46:39</td>\n",
       "    </tr>\n",
       "  </tbody>\n",
       "</table>\n",
       "</div>"
      ],
      "text/plain": [
       "   clientid     itemid  action_type           timestamp\n",
       "0    179153  135391270        False 2019-08-06 15:14:45\n",
       "1    179153  135391272        False 2019-08-06 15:16:29\n",
       "2    179153  135391270        False 2019-08-08 09:07:29\n",
       "3    179153  142132354        False 2019-08-20 17:59:58\n",
       "4    179153  140487634        False 2019-08-23 16:46:39"
      ]
     },
     "execution_count": 5,
     "metadata": {},
     "output_type": "execute_result"
    }
   ],
   "source": [
    "user_actions = pd.read_parquet('../data/user_actions_august.parquet')\n",
    "\n",
    "user_actions['clientid'] = user_actions['clientid'].astype('uint32')\n",
    "user_actions['itemid'] = user_actions['itemid'].astype('uint32')\n",
    "user_actions['action_type'] = user_actions['action_type'].map({'view': 0, 'to_cart': 1}).astype('bool')\n",
    "\n",
    "print(user_actions.shape)\n",
    "user_actions.head()"
   ]
  },
  {
   "cell_type": "code",
   "execution_count": 6,
   "metadata": {
    "ExecuteTime": {
     "end_time": "2021-03-03T14:23:24.735311Z",
     "start_time": "2021-03-03T14:23:17.641382Z"
    }
   },
   "outputs": [
    {
     "data": {
      "text/plain": [
       "(1390438, 21)"
      ]
     },
     "execution_count": 6,
     "metadata": {},
     "output_type": "execute_result"
    }
   ],
   "source": [
    "train_target = pd.read_csv('../data/train_with_features.csv')\n",
    "\n",
    "train_target['clientid'] = train_target['clientid'].astype('uint32')\n",
    "train_target['jointitemid'] = train_target['jointitemid'].astype('uint32')\n",
    "train_target['label'] = train_target['label'].astype('int8')\n",
    "train_target['novelty_cnt'] = train_target['novelty_cnt'].astype('int32')\n",
    "train_target['count_on_session_view'] = train_target['count_on_session_view'].astype('int32')\n",
    "train_target['count_on_session_tocart'] = train_target['count_on_session_tocart'].astype('int32')\n",
    "\n",
    "train_target.shape"
   ]
  },
  {
   "cell_type": "code",
   "execution_count": 7,
   "metadata": {
    "ExecuteTime": {
     "end_time": "2021-03-03T14:23:28.126365Z",
     "start_time": "2021-03-03T14:23:24.739309Z"
    }
   },
   "outputs": [
    {
     "data": {
      "text/plain": [
       "(597158, 21)"
      ]
     },
     "execution_count": 7,
     "metadata": {},
     "output_type": "execute_result"
    }
   ],
   "source": [
    "test_target = pd.read_csv('../data/test_with_features.csv')\n",
    "\n",
    "test_target ['clientid'] = test_target ['clientid'].astype('uint32')\n",
    "test_target ['jointitemid'] = test_target ['jointitemid'].astype('uint32')\n",
    "test_target ['label'] = test_target ['label'].astype('int8')\n",
    "test_target ['novelty_cnt'] = test_target ['novelty_cnt'].astype('int32')\n",
    "test_target ['count_on_session_view'] = test_target['count_on_session_view'].astype('int32')\n",
    "test_target ['count_on_session_tocart'] = test_target ['count_on_session_tocart'].astype('int32')\n",
    "\n",
    "test_target.shape"
   ]
  },
  {
   "cell_type": "markdown",
   "metadata": {
    "colab_type": "text",
    "id": "DG7gsNLsuIQj"
   },
   "source": [
    "Возвращаем три датафрейма с новой индексацией для просмотров товара."
   ]
  },
  {
   "cell_type": "code",
   "execution_count": 8,
   "metadata": {
    "ExecuteTime": {
     "end_time": "2021-03-03T14:23:49.433475Z",
     "start_time": "2021-03-03T14:23:28.131363Z"
    },
    "colab": {
     "base_uri": "https://localhost:8080/",
     "height": 204
    },
    "colab_type": "code",
    "executionInfo": {
     "elapsed": 8768,
     "status": "ok",
     "timestamp": 1579470635714,
     "user": {
      "displayName": "Павел Парфенов",
      "photoUrl": "",
      "userId": "00456899921274964308"
     },
     "user_tz": -180
    },
    "id": "EglF0Stx00Lz",
    "outputId": "0ae0b107-c722-4afb-da27-c1d812d90540"
   },
   "outputs": [],
   "source": [
    "user_actions_view = (\n",
    "    user_actions[~user_actions['action_type']]\n",
    "    .reset_index(drop=True)\n",
    "    .drop(['timestamp', 'action_type'], axis=1)\n",
    ")\n",
    "\n",
    "user_actions_view, user_mapping, item_mapping = reindexing_clientid_itemid(user_actions_view)"
   ]
  },
  {
   "cell_type": "markdown",
   "metadata": {
    "colab_type": "text",
    "id": "6_-xCyE6udEi"
   },
   "source": [
    "Возвращаем три датафрейма с новой индексацией для добавления в корзину."
   ]
  },
  {
   "cell_type": "code",
   "execution_count": 9,
   "metadata": {
    "ExecuteTime": {
     "end_time": "2021-03-03T14:23:53.316248Z",
     "start_time": "2021-03-03T14:23:49.435474Z"
    },
    "colab": {},
    "colab_type": "code",
    "id": "nHLGKazouYbc"
   },
   "outputs": [],
   "source": [
    "user_actions_tocart = (\n",
    "    user_actions[user_actions['action_type']]\n",
    "    .reset_index(drop=True)\n",
    "    .drop(['timestamp', 'action_type'], axis=1)\n",
    ")\n",
    "\n",
    "user_actions_tocart, user_mapping_tocart, item_mapping_tocart = reindexing_clientid_itemid(user_actions_tocart)"
   ]
  },
  {
   "cell_type": "markdown",
   "metadata": {
    "colab_type": "text",
    "id": "cXe-oOjHgmyi"
   },
   "source": [
    "### Train"
   ]
  },
  {
   "cell_type": "code",
   "execution_count": 10,
   "metadata": {
    "ExecuteTime": {
     "end_time": "2021-03-03T14:23:54.396628Z",
     "start_time": "2021-03-03T14:23:53.322244Z"
    },
    "colab": {
     "base_uri": "https://localhost:8080/",
     "height": 187
    },
    "colab_type": "code",
    "executionInfo": {
     "elapsed": 9005,
     "status": "ok",
     "timestamp": 1579470981442,
     "user": {
      "displayName": "Павел Парфенов",
      "photoUrl": "",
      "userId": "00456899921274964308"
     },
     "user_tz": -180
    },
    "id": "s_eV9Hc8zx_r",
    "outputId": "886d815b-b277-42eb-ecb0-b8c9029b6272"
   },
   "outputs": [],
   "source": [
    "# по просмотрам\n",
    "ib_train_target_view = train_target[['clientid', 'itemid', 'jointitemid']].copy()\n",
    "\n",
    "ib_train_target_view['user_cat'] = (\n",
    "    ib_train_target_view['clientid']\n",
    "    .map(user_mapping.set_index('old')['new'])\n",
    ")\n",
    "\n",
    "ib_train_target_view['jointitem_cat'] = (\n",
    "    ib_train_target_view['jointitemid']\n",
    "    .map(item_mapping.set_index('old')['new'])\n",
    ")"
   ]
  },
  {
   "cell_type": "code",
   "execution_count": 11,
   "metadata": {
    "ExecuteTime": {
     "end_time": "2021-03-03T14:23:55.125208Z",
     "start_time": "2021-03-03T14:23:54.399625Z"
    }
   },
   "outputs": [],
   "source": [
    "# по добавлениям в корзину\n",
    "ib_train_target_tocart = train_target[['clientid', 'itemid', 'jointitemid']].copy()\n",
    "\n",
    "ib_train_target_tocart['user_cat'] = (\n",
    "    ib_train_target_tocart['clientid']\n",
    "    .map(user_mapping_tocart.set_index('old')['new'])\n",
    ")\n",
    "\n",
    "ib_train_target_tocart['jointitem_cat'] = (\n",
    "    ib_train_target_tocart['jointitemid']\n",
    "    .map(item_mapping_tocart.set_index('old')['new'])\n",
    ")"
   ]
  },
  {
   "cell_type": "markdown",
   "metadata": {
    "ExecuteTime": {
     "end_time": "2021-02-14T16:50:13.227494Z",
     "start_time": "2021-02-14T16:50:13.148538Z"
    }
   },
   "source": [
    "### Test"
   ]
  },
  {
   "cell_type": "code",
   "execution_count": 12,
   "metadata": {
    "ExecuteTime": {
     "end_time": "2021-03-03T14:23:55.960730Z",
     "start_time": "2021-03-03T14:23:55.129206Z"
    },
    "colab": {
     "base_uri": "https://localhost:8080/",
     "height": 187
    },
    "colab_type": "code",
    "executionInfo": {
     "elapsed": 5547,
     "status": "ok",
     "timestamp": 1579471013956,
     "user": {
      "displayName": "Павел Парфенов",
      "photoUrl": "",
      "userId": "00456899921274964308"
     },
     "user_tz": -180
    },
    "id": "BRBtMuq2UYyG",
    "outputId": "3ad71751-5bba-43d7-e534-7bb025b2f064"
   },
   "outputs": [],
   "source": [
    "# по просмотрам\n",
    "ib_test_target_view = test_target[['clientid','itemid','jointitemid']].copy()\n",
    "\n",
    "ib_test_target_view['user_cat'] = (\n",
    "    ib_test_target_view['clientid']\n",
    "    .map(user_mapping.set_index('old')['new'])\n",
    ")\n",
    "\n",
    "ib_test_target_view['jointitem_cat'] = (\n",
    "    ib_test_target_view['jointitemid']\n",
    "    .map(item_mapping.set_index('old')['new'])\n",
    ")"
   ]
  },
  {
   "cell_type": "code",
   "execution_count": 13,
   "metadata": {
    "ExecuteTime": {
     "end_time": "2021-03-03T14:23:56.776473Z",
     "start_time": "2021-03-03T14:23:55.968727Z"
    }
   },
   "outputs": [],
   "source": [
    "# по добавлениям в корзину\n",
    "ib_test_target_tocart = test_target[['clientid','itemid','jointitemid']].copy()\n",
    "\n",
    "ib_test_target_tocart['user_cat'] = (\n",
    "    ib_test_target_tocart['clientid']\n",
    "    .map(user_mapping_tocart.set_index('old')['new'])\n",
    ")\n",
    "\n",
    "ib_test_target_tocart['jointitem_cat'] = (\n",
    "    ib_test_target_tocart['jointitemid']\n",
    "    .map(item_mapping_tocart.set_index('old')['new'])\n",
    ")"
   ]
  },
  {
   "cell_type": "markdown",
   "metadata": {
    "colab_type": "text",
    "id": "AZ1bkw1xmdI5"
   },
   "source": [
    "### Создание матриц для просмотров и добавлений в корзину"
   ]
  },
  {
   "cell_type": "code",
   "execution_count": 14,
   "metadata": {
    "ExecuteTime": {
     "end_time": "2021-03-03T14:32:27.341914Z",
     "start_time": "2021-03-03T14:24:05.638792Z"
    },
    "colab": {
     "base_uri": "https://localhost:8080/",
     "height": 34,
     "referenced_widgets": [
      "93f6e035351f494f87e52308d455a894"
     ]
    },
    "colab_type": "code",
    "executionInfo": {
     "elapsed": 315343,
     "status": "ok",
     "timestamp": 1573478236721,
     "user": {
      "displayName": "Алена Тимофеева",
      "photoUrl": "",
      "userId": "17526456028262676023"
     },
     "user_tz": -180
    },
    "id": "wOtYczGvmi1-",
    "outputId": "6db95c9f-c926-4ee1-a00d-e1943f8cba95"
   },
   "outputs": [
    {
     "data": {
      "application/vnd.jupyter.widget-view+json": {
       "model_id": "8549d05f186249a9ac89065903481050",
       "version_major": 2,
       "version_minor": 0
      },
      "text/plain": [
       "  0%|          | 0/2374782 [00:00<?, ?it/s]"
      ]
     },
     "metadata": {},
     "output_type": "display_data"
    }
   ],
   "source": [
    "# Для просмотров\n",
    "shape_view = (\n",
    "    user_mapping['new'].max()+1,\n",
    "    item_mapping['new'].max()+1\n",
    ")\n",
    "\n",
    "user_item_view = sp.csr_matrix(arg1=(np.ones_like(user_actions_view['clientid'].values), \n",
    "                                    (user_actions_view['clientid'].values, user_actions_view['itemid'].values)), \n",
    "                               shape=shape_view)\n",
    "\n",
    "# all_pairs_knn расчитывает приближенную матрицу cхожестей (по N ближайшим соседям)\n",
    "N = 201\n",
    "item_similarity_matrix_view = all_pairs_knn(normalize(user_item_view, axis=0).T,\n",
    "                                            N, show_progress=True, num_threads=2).tocsr()"
   ]
  },
  {
   "cell_type": "code",
   "execution_count": 15,
   "metadata": {
    "ExecuteTime": {
     "end_time": "2021-03-03T14:32:49.548332Z",
     "start_time": "2021-03-03T14:32:27.357535Z"
    },
    "colab": {
     "base_uri": "https://localhost:8080/",
     "height": 71
    },
    "colab_type": "code",
    "executionInfo": {
     "elapsed": 7495,
     "status": "ok",
     "timestamp": 1573478312504,
     "user": {
      "displayName": "Алена Тимофеева",
      "photoUrl": "",
      "userId": "17526456028262676023"
     },
     "user_tz": -180
    },
    "id": "EjopV-MJ69wd",
    "outputId": "5dc68393-ae22-4d90-8200-eca305dd2b9b"
   },
   "outputs": [
    {
     "name": "stderr",
     "output_type": "stream",
     "text": [
      "C:\\ProgramData\\Anaconda3\\lib\\site-packages\\scipy\\sparse\\_index.py:125: SparseEfficiencyWarning: Changing the sparsity structure of a csr_matrix is expensive. lil_matrix is more efficient.\n",
      "  self._set_arrayXarray(i, j, x)\n"
     ]
    },
    {
     "data": {
      "text/plain": [
       "(2374782, 2374782)"
      ]
     },
     "execution_count": 15,
     "metadata": {},
     "output_type": "execute_result"
    }
   ],
   "source": [
    "item_similarity_matrix_view.setdiag(0.)\n",
    "item_similarity_matrix_view.eliminate_zeros()\n",
    "\n",
    "item_similarity_matrix_view.shape"
   ]
  },
  {
   "cell_type": "code",
   "execution_count": 16,
   "metadata": {
    "ExecuteTime": {
     "end_time": "2021-03-03T14:33:52.732257Z",
     "start_time": "2021-03-03T14:32:49.557910Z"
    },
    "colab": {},
    "colab_type": "code",
    "id": "5sKQ8aXamxkv"
   },
   "outputs": [
    {
     "data": {
      "application/vnd.jupyter.widget-view+json": {
       "model_id": "174182ba34b84b5ab3204d12312a250e",
       "version_major": 2,
       "version_minor": 0
      },
      "text/plain": [
       "  0%|          | 0/1069443 [00:00<?, ?it/s]"
      ]
     },
     "metadata": {},
     "output_type": "display_data"
    }
   ],
   "source": [
    "# Для добавлений в корзину\n",
    "shape_tocart = (\n",
    "    user_mapping_tocart['new'].max()+1,\n",
    "    item_mapping_tocart['new'].max()+1\n",
    ")\n",
    "\n",
    "user_item_tocart = sp.csr_matrix(arg1=(np.ones_like(user_actions_tocart['clientid'].values), \n",
    "                                       (user_actions_tocart['clientid'].values, user_actions_tocart['itemid'].values)),\n",
    "                                 shape=shape_tocart)\n",
    "\n",
    "# all_pairs_knn расчитывает приближенную матрицу cхожестей (по N ближайшим соседям)\n",
    "N = 201\n",
    "item_similarity_matrix_tocart = all_pairs_knn(normalize(user_item_tocart, axis=0).T, \n",
    "                                              N, show_progress=True, num_threads=2).tocsr()"
   ]
  },
  {
   "cell_type": "code",
   "execution_count": 17,
   "metadata": {
    "ExecuteTime": {
     "end_time": "2021-03-03T14:33:56.988814Z",
     "start_time": "2021-03-03T14:33:52.763240Z"
    },
    "colab": {
     "base_uri": "https://localhost:8080/",
     "height": 71
    },
    "colab_type": "code",
    "executionInfo": {
     "elapsed": 32284,
     "status": "ok",
     "timestamp": 1573478373106,
     "user": {
      "displayName": "Алена Тимофеева",
      "photoUrl": "",
      "userId": "17526456028262676023"
     },
     "user_tz": -180
    },
    "id": "bmLtBxUY7RBL",
    "outputId": "3c20ba0f-88ab-4008-f0ad-4cb504352c33"
   },
   "outputs": [
    {
     "name": "stderr",
     "output_type": "stream",
     "text": [
      "C:\\ProgramData\\Anaconda3\\lib\\site-packages\\scipy\\sparse\\_index.py:125: SparseEfficiencyWarning: Changing the sparsity structure of a csr_matrix is expensive. lil_matrix is more efficient.\n",
      "  self._set_arrayXarray(i, j, x)\n"
     ]
    },
    {
     "data": {
      "text/plain": [
       "(1069443, 1069443)"
      ]
     },
     "execution_count": 17,
     "metadata": {},
     "output_type": "execute_result"
    }
   ],
   "source": [
    "item_similarity_matrix_tocart.setdiag(0.)\n",
    "item_similarity_matrix_tocart.eliminate_zeros()\n",
    "\n",
    "item_similarity_matrix_tocart.shape"
   ]
  },
  {
   "cell_type": "markdown",
   "metadata": {
    "colab_type": "text",
    "id": "cBMNDQ9a_7fO"
   },
   "source": [
    "### Расчет схожести рекомендованного товара"
   ]
  },
  {
   "cell_type": "code",
   "execution_count": 18,
   "metadata": {
    "ExecuteTime": {
     "end_time": "2021-03-03T14:34:08.048775Z",
     "start_time": "2021-03-03T14:34:07.934841Z"
    },
    "colab": {},
    "colab_type": "code",
    "id": "Nx_-h0OBpLmZ"
   },
   "outputs": [],
   "source": [
    "def score_item_based(data: pd.DataFrame,\n",
    "                     item_similarity_matrix: sp.csr_matrix,\n",
    "                     user_item: sp.csr_matrix,\n",
    "                     name_score: str):\n",
    "    \"\"\"\n",
    "    Функция схожести рекомендованного товара.\n",
    "    \"\"\"\n",
    "    \n",
    "    pairs = data.copy()\n",
    "    \n",
    "    pairs = pairs.dropna()[['user_cat', 'jointitem_cat']]\n",
    "    pairs['user_cat'] = pairs['user_cat'].astype('uint32')\n",
    "    pairs['jointitem_cat'] = pairs['jointitem_cat'].astype('uint32')\n",
    "    pairs[name_score] = (\n",
    "        user_item[pairs['user_cat'].values]\n",
    "        .multiply(item_similarity_matrix[pairs['jointitem_cat'].values])\n",
    "        .sum(axis=1)\n",
    "    )\n",
    "    \n",
    "    data = (\n",
    "        data\n",
    "        .merge(pairs, on=['user_cat', 'jointitem_cat'], how='left')\n",
    "        .drop_duplicates()\n",
    "        .reset_index(drop=True)\n",
    "    )\n",
    "    \n",
    "    return data"
   ]
  },
  {
   "cell_type": "markdown",
   "metadata": {
    "colab_type": "text",
    "id": "A0NdoTi6Ti-W"
   },
   "source": [
    "### Для train выборки"
   ]
  },
  {
   "cell_type": "code",
   "execution_count": 19,
   "metadata": {
    "ExecuteTime": {
     "end_time": "2021-03-03T14:34:57.303147Z",
     "start_time": "2021-03-03T14:34:10.434406Z"
    },
    "colab": {
     "base_uri": "https://localhost:8080/",
     "height": 170
    },
    "colab_type": "code",
    "executionInfo": {
     "elapsed": 12671,
     "status": "ok",
     "timestamp": 1573478397281,
     "user": {
      "displayName": "Алена Тимофеева",
      "photoUrl": "",
      "userId": "17526456028262676023"
     },
     "user_tz": -180
    },
    "id": "C5SNoWXMpivn",
    "outputId": "9cea4c14-40dd-4e40-b065-9911aa226cff"
   },
   "outputs": [],
   "source": [
    "df_train_view = (\n",
    "    score_item_based(ib_train_target_view, \n",
    "                     item_similarity_matrix_view, \n",
    "                     user_item_view, \n",
    "                     'item_based_view')\n",
    ")\n",
    "\n",
    "df_train_tocart = (\n",
    "    score_item_based(ib_train_target_tocart, \n",
    "                     item_similarity_matrix_tocart,\n",
    "                     user_item_tocart,\n",
    "                     'item_based_tocart')\n",
    ")\n",
    "\n",
    "df_train_view = df_train_view.drop(['user_cat', 'jointitem_cat'], axis=1)\n",
    "df_train_tocart = df_train_tocart.drop(['user_cat','jointitem_cat'], axis=1)"
   ]
  },
  {
   "cell_type": "code",
   "execution_count": 20,
   "metadata": {
    "ExecuteTime": {
     "end_time": "2021-03-03T14:35:08.569987Z",
     "start_time": "2021-03-03T14:34:57.306146Z"
    },
    "colab": {
     "base_uri": "https://localhost:8080/",
     "height": 493
    },
    "colab_type": "code",
    "executionInfo": {
     "elapsed": 3167,
     "status": "ok",
     "timestamp": 1573478401414,
     "user": {
      "displayName": "Алена Тимофеева",
      "photoUrl": "",
      "userId": "17526456028262676023"
     },
     "user_tz": -180
    },
    "id": "HCeom8-TqL-C",
    "outputId": "44f6c94c-0d81-4b56-8aa2-6a61a85a1af6"
   },
   "outputs": [
    {
     "name": "stdout",
     "output_type": "stream",
     "text": [
      "(1390438, 21)\n",
      "(1390438, 23)\n"
     ]
    }
   ],
   "source": [
    "print(train_target.shape)\n",
    "train = (\n",
    "    train_target\n",
    "    .merge(df_train_view[['clientid', 'itemid', 'jointitemid',\n",
    "                          'item_based_view']], how='left')\n",
    "    .drop_duplicates()\n",
    "    .reset_index(drop=True)\n",
    ")\n",
    "\n",
    "train = (\n",
    "    train\n",
    "    .merge(df_train_tocart[['clientid', 'itemid', 'jointitemid',\n",
    "                            'item_based_tocart']], how='left')\n",
    "    .drop_duplicates()\n",
    "    .reset_index(drop=True)\n",
    ")\n",
    "\n",
    "train = train.fillna(0)\n",
    "print(train.shape)"
   ]
  },
  {
   "cell_type": "markdown",
   "metadata": {
    "colab_type": "text",
    "id": "f4Nk158r5yWA"
   },
   "source": [
    "### Для test выборки"
   ]
  },
  {
   "cell_type": "code",
   "execution_count": 21,
   "metadata": {
    "ExecuteTime": {
     "end_time": "2021-03-03T14:35:29.337362Z",
     "start_time": "2021-03-03T14:35:08.574985Z"
    },
    "colab": {
     "base_uri": "https://localhost:8080/",
     "height": 493
    },
    "colab_type": "code",
    "executionInfo": {
     "elapsed": 5999,
     "status": "ok",
     "timestamp": 1573478415306,
     "user": {
      "displayName": "Алена Тимофеева",
      "photoUrl": "",
      "userId": "17526456028262676023"
     },
     "user_tz": -180
    },
    "id": "_lmk4jJI6O2o",
    "outputId": "f1282d28-1948-4d8b-e604-9dd72683e09b"
   },
   "outputs": [],
   "source": [
    "df_test_view = (\n",
    "    score_item_based(ib_test_target_view,\n",
    "                     item_similarity_matrix_view,\n",
    "                     user_item_view,\n",
    "                     'item_based_view')\n",
    ")\n",
    "\n",
    "df_test_tocart = (\n",
    "    score_item_based(ib_test_target_tocart,\n",
    "                     item_similarity_matrix_tocart,\n",
    "                     user_item_tocart,\n",
    "                     'item_based_tocart')\n",
    ")\n",
    "\n",
    "df_test_view = df_test_view.drop(['user_cat','jointitem_cat'], axis=1)\n",
    "df_test_tocart = df_test_tocart.drop(['user_cat','jointitem_cat'], axis=1)"
   ]
  },
  {
   "cell_type": "code",
   "execution_count": 22,
   "metadata": {
    "ExecuteTime": {
     "end_time": "2021-03-03T14:35:35.591246Z",
     "start_time": "2021-03-03T14:35:29.340361Z"
    }
   },
   "outputs": [
    {
     "name": "stdout",
     "output_type": "stream",
     "text": [
      "(597158, 21)\n",
      "(597158, 23)\n"
     ]
    }
   ],
   "source": [
    "print(test_target.shape)\n",
    "test = (\n",
    "    test_target\n",
    "    .merge(df_test_view[['clientid', 'itemid', 'jointitemid', \n",
    "                         'item_based_view']], how='left')\n",
    "    .drop_duplicates()\n",
    "    .reset_index(drop=True)\n",
    ")\n",
    "\n",
    "test = (\n",
    "    test\n",
    "    .merge(df_test_tocart[['clientid', 'itemid', 'jointitemid',\n",
    "                           'item_based_tocart']], how='left')\n",
    "    .drop_duplicates()\n",
    "    .reset_index(drop=True)\n",
    ")\n",
    "\n",
    "test = test.fillna(0)\n",
    "print(test.shape)"
   ]
  },
  {
   "cell_type": "markdown",
   "metadata": {
    "colab_type": "text",
    "id": "Qgnv_A5YTSkx"
   },
   "source": [
    "### Сохраняем принаки"
   ]
  },
  {
   "cell_type": "code",
   "execution_count": 23,
   "metadata": {
    "ExecuteTime": {
     "end_time": "2021-03-03T14:36:25.830328Z",
     "start_time": "2021-03-03T14:35:38.830505Z"
    },
    "colab": {},
    "colab_type": "code",
    "id": "1EU0iGuMzx_t"
   },
   "outputs": [],
   "source": [
    "train.to_csv('../data/train_with_features.csv', index=False)\n",
    "test.to_csv('../data/test_with_features.csv', index=False)"
   ]
  }
 ],
 "metadata": {
  "colab": {
   "collapsed_sections": [],
   "machine_shape": "hm",
   "name": "item_based_approach.ipynb",
   "provenance": []
  },
  "kernelspec": {
   "display_name": "Python 3",
   "language": "python",
   "name": "python3"
  },
  "language_info": {
   "codemirror_mode": {
    "name": "ipython",
    "version": 3
   },
   "file_extension": ".py",
   "mimetype": "text/x-python",
   "name": "python",
   "nbconvert_exporter": "python",
   "pygments_lexer": "ipython3",
   "version": "3.7.6"
  }
 },
 "nbformat": 4,
 "nbformat_minor": 1
}
