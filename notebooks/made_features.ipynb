{
 "cells": [
  {
   "cell_type": "code",
   "execution_count": 1,
   "metadata": {
    "colab": {},
    "colab_type": "code",
    "id": "ha4eievFsneD"
   },
   "outputs": [],
   "source": [
    "import numpy as np\n",
    "import pandas as pd\n",
    "import copy\n",
    "import datetime as dt"
   ]
  },
  {
   "cell_type": "code",
   "execution_count": 2,
   "metadata": {
    "colab": {
     "base_uri": "https://localhost:8080/",
     "height": 34
    },
    "colab_type": "code",
    "executionInfo": {
     "elapsed": 3709,
     "status": "ok",
     "timestamp": 1579469501047,
     "user": {
      "displayName": "Павел Парфенов",
      "photoUrl": "",
      "userId": "00456899921274964308"
     },
     "user_tz": -180
    },
    "id": "Sm2UF34GsyYm",
    "outputId": "453a1388-3ece-4397-b209-5af6e5a41e68"
   },
   "outputs": [],
   "source": [
    "# from google.colab import drive\n",
    "# drive.mount('/content/gdrive')"
   ]
  },
  {
   "cell_type": "markdown",
   "metadata": {
    "colab_type": "text",
    "id": "emR0_KwysneG"
   },
   "source": [
    "## Reading and preprocessing data"
   ]
  },
  {
   "cell_type": "code",
   "execution_count": 3,
   "metadata": {
    "colab": {
     "base_uri": "https://localhost:8080/",
     "height": 204
    },
    "colab_type": "code",
    "executionInfo": {
     "elapsed": 55355,
     "status": "ok",
     "timestamp": 1579469560044,
     "user": {
      "displayName": "Павел Парфенов",
      "photoUrl": "",
      "userId": "00456899921274964308"
     },
     "user_tz": -180
    },
    "id": "zWLTxVDKsneH",
    "outputId": "6e5028ea-fc02-4ab3-a0db-382c322eb4c3"
   },
   "outputs": [],
   "source": [
    "user_actions = pd.read_parquet('../data/user_actions_august.parquet')\n",
    "user_actions['clientid'] = user_actions['clientid'].astype('uint32')\n",
    "user_actions['itemid'] = user_actions['itemid'].astype('uint32')\n",
    "user_actions['action_type'] = user_actions['action_type'].map({'view': 0, 'to_cart': 1}).astype('bool')\n",
    "user_actions['timestamp'] = user_actions['timestamp'].dt.date.apply(dt.datetime.toordinal).astype('uint32')\n",
    "\n",
    "user_actions.head()"
   ]
  },
  {
   "cell_type": "code",
   "execution_count": 5,
   "metadata": {
    "colab": {},
    "colab_type": "code",
    "id": "T4ofMc34sneR"
   },
   "outputs": [],
   "source": [
    "test_target = pd.read_csv(\"../data/target_test.csv\")\n",
    "train_target = pd.read_csv(\"../data/target_train.csv\")"
   ]
  },
  {
   "cell_type": "code",
   "execution_count": 6,
   "metadata": {
    "colab": {
     "base_uri": "https://localhost:8080/",
     "height": 187
    },
    "colab_type": "code",
    "executionInfo": {
     "elapsed": 54502,
     "status": "ok",
     "timestamp": 1579469562322,
     "user": {
      "displayName": "Павел Парфенов",
      "photoUrl": "",
      "userId": "00456899921274964308"
     },
     "user_tz": -180
    },
    "id": "Ll3eU4fMsneU",
    "outputId": "2394f47b-8e94-492e-f0df-2fda389b6ad3",
    "scrolled": true
   },
   "outputs": [],
   "source": [
    "test_target['clientid'] = test_target['clientid'].astype('uint32')\n",
    "test_target['itemid'] = test_target['itemid'].astype('uint32')\n",
    "test_target['jointitemid'] = test_target['jointitemid'].astype('uint32')\n",
    "test_target['label'] = test_target['label'].astype('int8')\n",
    "test_target.info()"
   ]
  },
  {
   "cell_type": "code",
   "execution_count": 7,
   "metadata": {
    "colab": {
     "base_uri": "https://localhost:8080/",
     "height": 187
    },
    "colab_type": "code",
    "executionInfo": {
     "elapsed": 53844,
     "status": "ok",
     "timestamp": 1579469562323,
     "user": {
      "displayName": "Павел Парфенов",
      "photoUrl": "",
      "userId": "00456899921274964308"
     },
     "user_tz": -180
    },
    "id": "xsPQ34uGsneW",
    "outputId": "dc13d83b-3ae8-4b10-d88e-0a221ac75ea2",
    "scrolled": true
   },
   "outputs": [],
   "source": [
    "train_target['clientid'] = train_target['clientid'].astype('uint32')\n",
    "train_target['itemid'] = train_target['itemid'].astype('uint32')\n",
    "train_target['jointitemid'] = train_target['jointitemid'].astype('uint32')\n",
    "train_target['label'] = train_target['label'].astype('int8')\n",
    "train_target.info()"
   ]
  },
  {
   "cell_type": "markdown",
   "metadata": {
    "colab_type": "text",
    "id": "PafnVEvtsneZ"
   },
   "source": [
    "## Generating simple features"
   ]
  },
  {
   "cell_type": "code",
   "execution_count": 8,
   "metadata": {
    "colab": {},
    "colab_type": "code",
    "id": "pKHXULVqsnea"
   },
   "outputs": [],
   "source": [
    "# Популярность\n",
    "def popularity(data_action,data, action):\n",
    "    if action == 'to_cart':\n",
    "        id_count_Series = data_action[data_action['action_type']]['itemid'].value_counts()\n",
    "    else:\n",
    "        id_count_Series = data_action[~data_action['action_type']]['itemid'].value_counts()\n",
    "    df = id_count_Series.rename_axis('jointitemid').reset_index(name= f'{action}_cnt')\n",
    "    return pd.merge(data,df, how=\"left\").fillna(0)\n",
    "\n",
    "# CTR\n",
    "def ctr(data, data_action):\n",
    "    new_data = pd.DataFrame(data_action[['itemid', 'action_type']])\n",
    "    viewed_data = new_data[new_data['action_type'] == False]['itemid'].value_counts()\n",
    "    df1 = viewed_data.rename_axis('jointitemid').reset_index(name = 'view_cnt')\n",
    "    to_cart_data = new_data[new_data['action_type'] == True]['itemid'].value_counts()\n",
    "    df2 = to_cart_data.rename_axis('jointitemid').reset_index(name = 'to_cart_cnt')\n",
    "    df = df1.join(df2.set_index('jointitemid'), on = 'jointitemid')\n",
    "    new_df = df['to_cart_cnt'] / df['view_cnt']\n",
    "    df['ctr'] = new_df\n",
    "    df.drop(['view_cnt', 'to_cart_cnt'], axis = 1, inplace = True)\n",
    "    return data.merge(df, how='left').fillna(0)\n",
    "\n",
    "# Дата первого просмотра\n",
    "def date_first_view(data_action, data):\n",
    "    id_item_series = data_action[~data_action['action_type']].groupby(['itemid'], sort=False)['timestamp'].min()\n",
    "    df = id_item_series.rename_axis('jointitemid').reset_index(name='novelty_cnt')\n",
    "    return data.merge(df, how=\"left\").fillna(0)\n",
    "\n",
    "# Среднее количество картэдов/просмотров в день\n",
    "def day_avg_popularity(data_action, data, action):\n",
    "    df = copy.copy(data_action)\n",
    "    if action == 'to_cart':\n",
    "        df_cart_countInDay_series = df[df['action_type']].groupby(['itemid','timestamp'])['itemid'].count()\n",
    "    else:\n",
    "        df_cart_countInDay_series = df[~df['action_type']].groupby(['itemid','timestamp'])['itemid'].count()\n",
    "         \n",
    "    df_cart_countInDay = df_cart_countInDay_series.rename_axis(['jointitemid','timestamp']).reset_index(name='count_day')\n",
    "    \n",
    "    df_cart_countInDay[f'{action}_day_avg_cnt'] = df_cart_countInDay.groupby(['jointitemid'])['count_day'].transform('mean')\n",
    "    df_cart_countInDay.drop(['timestamp','count_day'], axis = 'columns', inplace=True)\n",
    "    return data.merge(df_cart_countInDay.drop_duplicates(), how=\"left\").fillna(0)\n",
    "\n",
    "# Количество просмотров в последний день\n",
    "def last_day_views(data_action, data):\n",
    "    df = data_action.copy()\n",
    "    data_views = df[df['action_type']]\n",
    "    data_last_day_views = data_views[data_views['timestamp'] == max(data_views['timestamp'])]\n",
    "    df_last_day = data_last_day_views.groupby(['itemid'])['timestamp'].size()\n",
    "    new_df = df_last_day.rename_axis('jointitemid').reset_index(name='last_day_views_cnt')\n",
    "    return data.merge(new_df, how='left').fillna(0)\n",
    "\n",
    "#Количество картэдов в последний день\n",
    "def cart_add_last_day(data_action,data):\n",
    "    df = copy.copy(data_action)\n",
    "    data_addCart = df[df['action_type']]\n",
    "    data_addCart_lustDay = data_addCart[data_addCart['timestamp']==max(data_addCart['timestamp'])]\n",
    "    dS_lustDay = data_addCart_lustDay.groupby(['itemid'])['timestamp'].size()\n",
    "    dataFrame = dS_lustDay.rename_axis('jointitemid').reset_index(name='last_day_to_cart_cnt')\n",
    "    return data.merge(dataFrame, how=\"left\").fillna(0)\n",
    "\n",
    "# Отношение количества просмотров в последний день к среднему количеству просмотров в день\n",
    "def relation_last_mean(data_action, data):\n",
    "    df = pd.DataFrame()\n",
    "    quantity_ldviews = last_day_views(data_action, data)\n",
    "    mean_vpday = day_avg_popularity(data_action, data, 'view')\n",
    "    df['jointitemid'] = mean_vpday['itemid']\n",
    "    df['relation_ldv_dap'] = quantity_ldviews['last_day_views_cnt'] / mean_vpday['view_day_avg_cnt']\n",
    "    return data.merge(df, how='left').fillna(0)\n",
    "\n",
    "# Отношение 8 к 6\n",
    "def relation_last_mean(data_action, data):\n",
    "    ca_Ld = cart_add_last_day(data_action,data)\n",
    "    ca_Md = day_avg_popularity(data_action,data,'to_cart')\n",
    "    datafr = pd.DataFrame()\n",
    "    datafr[\"jointitemid\"] = ca_Md[\"itemid\"]\n",
    "    datafr[\"lastDay/dayAvg_cnt\"] = ca_Ld['last_day_to_cart_cnt'] / ca_Md['to_cart_day_avg_cnt']\n",
    "    return data.merge(datafr, how=\"left\").fillna(0)\n",
    "\n",
    "\n",
    "def generate_popularity_features(user_actions, target):\n",
    "    res = popularity(user_actions, target, 'view')\n",
    "    res = popularity(user_actions, res, 'to_cart')\n",
    "    # res = ctr(user_action, res)\n",
    "    res = date_first_view(user_actions, res)\n",
    "    res = day_avg_popularity(user_actions, res,'to_cart')\n",
    "    res = day_avg_popularity(user_actions, res,'view')\n",
    "    res = last_day_views(user_actions, res)\n",
    "    res = cart_add_last_day(user_actions, res)\n",
    "    res = relation_last_mean(user_actions, res)\n",
    "    res = relation_last_mean(user_actions, res)\n",
    "    return res"
   ]
  },
  {
   "cell_type": "code",
   "execution_count": 9,
   "metadata": {},
   "outputs": [],
   "source": [
    "ctr(train_target, user_actions).head()"
   ]
  },
  {
   "cell_type": "code",
   "execution_count": 10,
   "metadata": {
    "colab": {},
    "colab_type": "code",
    "id": "1R1lkPr9sneg",
    "scrolled": true
   },
   "outputs": [],
   "source": [
    "%%time\n",
    "train = generate_popularity_features(user_actions, train_target)\n",
    "train.head()"
   ]
  },
  {
   "cell_type": "code",
   "execution_count": 11,
   "metadata": {
    "colab": {},
    "colab_type": "code",
    "id": "QtpCLh_xsnej",
    "scrolled": true
   },
   "outputs": [],
   "source": [
    "%%time\n",
    "test = generate_popularity_features(user_actions, test_target)\n",
    "test.head()"
   ]
  },
  {
   "cell_type": "markdown",
   "metadata": {
    "colab_type": "text",
    "id": "LnKcdoUusnel"
   },
   "source": [
    "### Calculation of the angular coefficient "
   ]
  },
  {
   "cell_type": "code",
   "execution_count": 12,
   "metadata": {
    "colab": {},
    "colab_type": "code",
    "id": "WL5tXuy4qc2u"
   },
   "outputs": [],
   "source": [
    "# Угловой коэффициент прямой, построенной по следующим точкам, по оси x день недели, по оси y количество картэдов. \n",
    "# Прямая строится методом МНК. Данная функция считает коэфициент для одного товара.\n",
    "def get_coef(df,action):\n",
    "    x = df.day.values \n",
    "    y = df['count_'+action].values \n",
    "    if (7 * (x**2).sum() - x.sum()**2) == 0:\n",
    "        return 0\n",
    "    k = (7 * (x * y).sum() - x.sum()*y.sum()) / (7 * (x**2).sum() - x.sum()**2)\n",
    "    return k"
   ]
  },
  {
   "cell_type": "code",
   "execution_count": 13,
   "metadata": {
    "colab": {},
    "colab_type": "code",
    "id": "Ftfpazytsnem",
    "scrolled": true
   },
   "outputs": [],
   "source": [
    "def count_view_to_cart_7day(user_actions, action):\n",
    "    if action == 'view':\n",
    "        condition = (user_actions['timestamp'] > (user_actions['timestamp'].max() - 7)) & (user_actions['action_type']==False)\n",
    "    else:\n",
    "        condition = (user_actions['timestamp'] > (user_actions['timestamp'].max() - 7)) & (user_actions['action_type']==True)\n",
    "\n",
    "    # создаем две таблички all_items - все товары, days - номер дня\n",
    "    all_items = user_actions[['itemid']].drop_duplicates()\n",
    "    days = pd.DataFrame({'day': [0, 1, 2, 3, 4, 5, 6]})\n",
    "\n",
    "    # соединим эти таблички, каждому айтему присоединим таблицу с днями\n",
    "\n",
    "    all_items['key'] = 1\n",
    "    days['key'] = 1\n",
    "    item_day_df = all_items.merge(days, on='key').drop(columns=['key'])\n",
    "\n",
    "    cnts_df = (\n",
    "        user_actions[condition]\n",
    "        .groupby(['itemid', 'timestamp'])['clientid']\n",
    "        .agg(['count'])\n",
    "        .reset_index()\n",
    "    )\n",
    "\n",
    "    cnts_df['day'] = cnts_df['timestamp'] - cnts_df['timestamp'].min()\n",
    "\n",
    "    item_day_df = (\n",
    "        item_day_df\n",
    "        .merge(cnts_df.drop(columns=['timestamp']), on = ['itemid','day'], how='left')\n",
    "        .fillna(0)\n",
    "    )\n",
    "    item_day_df = item_day_df.rename(columns={'count': 'count_'+action})\n",
    "    return item_day_df"
   ]
  },
  {
   "cell_type": "code",
   "execution_count": 14,
   "metadata": {
    "colab": {},
    "colab_type": "code",
    "id": "Vdw8Ulrdqc22",
    "outputId": "de426bcd-a7c0-46d6-897c-a51546f983f1",
    "scrolled": true
   },
   "outputs": [],
   "source": [
    "%%time\n",
    "item_day_view = count_view_to_cart_7day(user_actions, 'view')"
   ]
  },
  {
   "cell_type": "code",
   "execution_count": 15,
   "metadata": {
    "colab": {},
    "colab_type": "code",
    "id": "m4ffavI5qc24",
    "outputId": "de558c6d-985c-41ea-d86a-d4402d99c215"
   },
   "outputs": [],
   "source": [
    "%%time\n",
    "item_day_to_cart = count_view_to_cart_7day(user_actions, 'to_cart')"
   ]
  },
  {
   "cell_type": "code",
   "execution_count": 16,
   "metadata": {
    "colab": {},
    "colab_type": "code",
    "id": "3KnX8kV4sneo",
    "scrolled": true
   },
   "outputs": [],
   "source": [
    "def mnk_coef(item_day, action):\n",
    "    dfs = []\n",
    "    ks = []\n",
    "    items = []\n",
    "    for group_name, group in item_day.groupby('itemid'):\n",
    "        k = get_coef(group, action)\n",
    "        items.append(group_name)\n",
    "        ks.append(k)\n",
    "    return pd.DataFrame({'itemid': items, 'k_'+action: ks})"
   ]
  },
  {
   "cell_type": "code",
   "execution_count": 17,
   "metadata": {
    "colab": {},
    "colab_type": "code",
    "id": "nakJYOfiqc3G",
    "outputId": "ae8a1007-d786-4efb-9834-c1c61ccc234f"
   },
   "outputs": [],
   "source": [
    "%%time\n",
    "k_to_cart = mnk_coef(item_day_cart, 'to_cart')"
   ]
  },
  {
   "cell_type": "code",
   "execution_count": 18,
   "metadata": {
    "colab": {},
    "colab_type": "code",
    "id": "diJKiUu_qc3I",
    "outputId": "be619392-c23c-46dd-a11c-b1c090168eb4"
   },
   "outputs": [],
   "source": [
    "%%time\n",
    "k_view = mnk_coef(item_day_view , 'view')"
   ]
  },
  {
   "cell_type": "code",
   "execution_count": 19,
   "metadata": {
    "colab": {},
    "colab_type": "code",
    "id": "gRtos1SJsner",
    "scrolled": true
   },
   "outputs": [],
   "source": [
    "k_view.head()"
   ]
  },
  {
   "cell_type": "code",
   "execution_count": 20,
   "metadata": {
    "colab": {},
    "colab_type": "code",
    "id": "mjPf8cX3qc3M"
   },
   "outputs": [],
   "source": [
    "train_target = pd.read_csv('data/train_with_scores.csv')\n",
    "test_target = pd.read_csv('data/test_with_scores.csv')"
   ]
  },
  {
   "cell_type": "code",
   "execution_count": 21,
   "metadata": {
    "colab": {},
    "colab_type": "code",
    "id": "ahkxpT7Psnew"
   },
   "outputs": [],
   "source": [
    "train = pd.merge(train_target, k_view, on='itemid', how='left').drop_duplicates()\n",
    "train = pd.merge(train, k_tocart, on='itemid', how='left').drop_duplicates()\n",
    "train = train.fillna(0)"
   ]
  },
  {
   "cell_type": "code",
   "execution_count": 22,
   "metadata": {
    "colab": {},
    "colab_type": "code",
    "id": "Hl3hEXQbsnez",
    "scrolled": true
   },
   "outputs": [],
   "source": [
    "test = pd.merge(test_target, k_view, on='itemid', how='left').drop_duplicates()\n",
    "test = pd.merge(test, k_tocart, on='itemid', how='left').drop_duplicates()\n",
    "test = test.fillna(0)"
   ]
  },
  {
   "cell_type": "markdown",
   "metadata": {
    "colab_type": "text",
    "id": "UTbhrsEFsne5"
   },
   "source": [
    "## Write to the file"
   ]
  },
  {
   "cell_type": "code",
   "execution_count": 23,
   "metadata": {
    "colab": {},
    "colab_type": "code",
    "id": "LqFYqfaTsne6"
   },
   "outputs": [],
   "source": [
    "test.to_csv(\"../data/test_with_scores.csv\", index=False)\n",
    "train.to_csv(\"../data/train_with_scores.csv\", index=False)"
   ]
  }
 ],
 "metadata": {
  "colab": {
   "collapsed_sections": [],
   "name": "made_features.ipynb",
   "provenance": []
  },
  "kernelspec": {
   "display_name": "Python 3",
   "language": "python",
   "name": "python3"
  },
  "language_info": {
   "codemirror_mode": {
    "name": "ipython",
    "version": 3
   },
   "file_extension": ".py",
   "mimetype": "text/x-python",
   "name": "python",
   "nbconvert_exporter": "python",
   "pygments_lexer": "ipython3",
   "version": "3.7.3"
  }
 },
 "nbformat": 4,
 "nbformat_minor": 1
}
